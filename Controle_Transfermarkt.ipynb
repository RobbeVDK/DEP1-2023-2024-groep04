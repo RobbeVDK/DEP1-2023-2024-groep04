{
 "nbformat": 4,
 "nbformat_minor": 0,
 "metadata": {
  "colab": {
   "provenance": []
  },
  "kernelspec": {
   "name": "python3",
   "language": "python",
   "display_name": "Python 3 (ipykernel)"
  },
  "language_info": {
   "name": "python"
  }
 },
 "cells": [
  {
   "cell_type": "code",
   "execution_count": 29,
   "outputs": [],
   "source": [
    "import pandas as pd\n",
    "\n",
    "# Load CSV files\n",
    "match_results_df = pd.read_csv('csv/wedstrijden_onverwerkd.csv')\n",
    "goal_events_df = pd.read_csv('csv/doelpunten_onverwerkd.csv')\n",
    "standings_df = pd.read_csv('csv/klassement_onverwerkd.csv')\n",
    "\n",
    "goal_events_df = goal_events_df[goal_events_df['valid_goal'] == True]"
   ],
   "metadata": {
    "collapsed": false,
    "ExecuteTime": {
     "end_time": "2024-03-14T08:59:25.197922Z",
     "start_time": "2024-03-14T08:59:25.147966700Z"
    }
   }
  },
  {
   "cell_type": "code",
   "source": [
    "# Bereken goals\n",
    "goals_home_team = goal_events_df[goal_events_df['goal_team'] == goal_events_df['home_team']].groupby('match_id').size()\n",
    "goals_away_team = goal_events_df[goal_events_df['goal_team'] == goal_events_df['away_team']].groupby('match_id').size()\n",
    "\n",
    "# Omzetting\n",
    "goals_home_team_df = goals_home_team.reset_index(name='calculated_goals_home_team')\n",
    "goals_away_team_df = goals_away_team.reset_index(name='calculated_goals_away_team')\n",
    "\n",
    "# Vervang NaN values in goal kolom met 0\n",
    "merged_df = pd.merge(match_results_df, goals_home_team_df, on='match_id', how='outer')\n",
    "merged_df = pd.merge(merged_df, goals_away_team_df, on='match_id', how='outer')\n",
    "merged_df['calculated_goals_home_team'] = merged_df['calculated_goals_home_team'].fillna(0)\n",
    "merged_df['calculated_goals_away_team'] = merged_df['calculated_goals_away_team'].fillna(0)\n",
    "\n",
    "# Bereken verschil tussen berekening en resultaat\n",
    "discrepancies_goals = merged_df[\n",
    "    (merged_df['calculated_goals_home_team'] != merged_df['result_home_team']) |\n",
    "    (merged_df['calculated_goals_away_team'] != merged_df['result_away_team'])\n",
    "]\n",
    "\n",
    "# Select only relevant columns for display\n",
    "discrepancies_goals.head(50)"
   ],
   "metadata": {
    "colab": {
     "base_uri": "https://localhost:8080/",
     "height": 112
    },
    "id": "o2sprn5OdrMd",
    "outputId": "f94268b2-1596-43cb-f848-22639c5445c7",
    "ExecuteTime": {
     "end_time": "2024-03-14T08:59:27.085052100Z",
     "start_time": "2024-03-14T08:59:25.201933100Z"
    }
   },
   "execution_count": 30,
   "outputs": [
    {
     "ename": "KeyError",
     "evalue": "'goal_team'",
     "output_type": "error",
     "traceback": [
      "\u001B[1;31m---------------------------------------------------------------------------\u001B[0m",
      "\u001B[1;31mKeyError\u001B[0m                                  Traceback (most recent call last)",
      "File \u001B[1;32m~\\Documents\\School\\DEP\\DEP1-2023-2024-groep04\\venv\\Lib\\site-packages\\pandas\\core\\indexes\\base.py:3802\u001B[0m, in \u001B[0;36mIndex.get_loc\u001B[1;34m(self, key, method, tolerance)\u001B[0m\n\u001B[0;32m   3801\u001B[0m \u001B[38;5;28;01mtry\u001B[39;00m:\n\u001B[1;32m-> 3802\u001B[0m     \u001B[38;5;28;01mreturn\u001B[39;00m \u001B[38;5;28mself\u001B[39m\u001B[38;5;241m.\u001B[39m_engine\u001B[38;5;241m.\u001B[39mget_loc(casted_key)\n\u001B[0;32m   3803\u001B[0m \u001B[38;5;28;01mexcept\u001B[39;00m \u001B[38;5;167;01mKeyError\u001B[39;00m \u001B[38;5;28;01mas\u001B[39;00m err:\n",
      "File \u001B[1;32m~\\Documents\\School\\DEP\\DEP1-2023-2024-groep04\\venv\\Lib\\site-packages\\pandas\\_libs\\index.pyx:138\u001B[0m, in \u001B[0;36mpandas._libs.index.IndexEngine.get_loc\u001B[1;34m()\u001B[0m\n",
      "File \u001B[1;32m~\\Documents\\School\\DEP\\DEP1-2023-2024-groep04\\venv\\Lib\\site-packages\\pandas\\_libs\\index.pyx:165\u001B[0m, in \u001B[0;36mpandas._libs.index.IndexEngine.get_loc\u001B[1;34m()\u001B[0m\n",
      "File \u001B[1;32mpandas\\_libs\\hashtable_class_helper.pxi:5745\u001B[0m, in \u001B[0;36mpandas._libs.hashtable.PyObjectHashTable.get_item\u001B[1;34m()\u001B[0m\n",
      "File \u001B[1;32mpandas\\_libs\\hashtable_class_helper.pxi:5753\u001B[0m, in \u001B[0;36mpandas._libs.hashtable.PyObjectHashTable.get_item\u001B[1;34m()\u001B[0m\n",
      "\u001B[1;31mKeyError\u001B[0m: 'goal_team'",
      "\nThe above exception was the direct cause of the following exception:\n",
      "\u001B[1;31mKeyError\u001B[0m                                  Traceback (most recent call last)",
      "Cell \u001B[1;32mIn[30], line 2\u001B[0m\n\u001B[0;32m      1\u001B[0m \u001B[38;5;66;03m# Bereken goals\u001B[39;00m\n\u001B[1;32m----> 2\u001B[0m goals_home_team \u001B[38;5;241m=\u001B[39m goal_events_df[goal_events_df[\u001B[38;5;124m'\u001B[39m\u001B[38;5;124mgoal_team\u001B[39m\u001B[38;5;124m'\u001B[39m] \u001B[38;5;241m==\u001B[39m goal_events_df[\u001B[38;5;124m'\u001B[39m\u001B[38;5;124mhome_team\u001B[39m\u001B[38;5;124m'\u001B[39m]]\u001B[38;5;241m.\u001B[39mgroupby(\u001B[38;5;124m'\u001B[39m\u001B[38;5;124mmatch_id\u001B[39m\u001B[38;5;124m'\u001B[39m)\u001B[38;5;241m.\u001B[39msize()\n\u001B[0;32m      3\u001B[0m goals_away_team \u001B[38;5;241m=\u001B[39m goal_events_df[goal_events_df[\u001B[38;5;124m'\u001B[39m\u001B[38;5;124mgoal_team\u001B[39m\u001B[38;5;124m'\u001B[39m] \u001B[38;5;241m==\u001B[39m goal_events_df[\u001B[38;5;124m'\u001B[39m\u001B[38;5;124maway_team\u001B[39m\u001B[38;5;124m'\u001B[39m]]\u001B[38;5;241m.\u001B[39mgroupby(\u001B[38;5;124m'\u001B[39m\u001B[38;5;124mmatch_id\u001B[39m\u001B[38;5;124m'\u001B[39m)\u001B[38;5;241m.\u001B[39msize()\n\u001B[0;32m      5\u001B[0m \u001B[38;5;66;03m# Omzetting\u001B[39;00m\n",
      "File \u001B[1;32m~\\Documents\\School\\DEP\\DEP1-2023-2024-groep04\\venv\\Lib\\site-packages\\pandas\\core\\frame.py:3807\u001B[0m, in \u001B[0;36mDataFrame.__getitem__\u001B[1;34m(self, key)\u001B[0m\n\u001B[0;32m   3805\u001B[0m \u001B[38;5;28;01mif\u001B[39;00m \u001B[38;5;28mself\u001B[39m\u001B[38;5;241m.\u001B[39mcolumns\u001B[38;5;241m.\u001B[39mnlevels \u001B[38;5;241m>\u001B[39m \u001B[38;5;241m1\u001B[39m:\n\u001B[0;32m   3806\u001B[0m     \u001B[38;5;28;01mreturn\u001B[39;00m \u001B[38;5;28mself\u001B[39m\u001B[38;5;241m.\u001B[39m_getitem_multilevel(key)\n\u001B[1;32m-> 3807\u001B[0m indexer \u001B[38;5;241m=\u001B[39m \u001B[38;5;28mself\u001B[39m\u001B[38;5;241m.\u001B[39mcolumns\u001B[38;5;241m.\u001B[39mget_loc(key)\n\u001B[0;32m   3808\u001B[0m \u001B[38;5;28;01mif\u001B[39;00m is_integer(indexer):\n\u001B[0;32m   3809\u001B[0m     indexer \u001B[38;5;241m=\u001B[39m [indexer]\n",
      "File \u001B[1;32m~\\Documents\\School\\DEP\\DEP1-2023-2024-groep04\\venv\\Lib\\site-packages\\pandas\\core\\indexes\\base.py:3804\u001B[0m, in \u001B[0;36mIndex.get_loc\u001B[1;34m(self, key, method, tolerance)\u001B[0m\n\u001B[0;32m   3802\u001B[0m     \u001B[38;5;28;01mreturn\u001B[39;00m \u001B[38;5;28mself\u001B[39m\u001B[38;5;241m.\u001B[39m_engine\u001B[38;5;241m.\u001B[39mget_loc(casted_key)\n\u001B[0;32m   3803\u001B[0m \u001B[38;5;28;01mexcept\u001B[39;00m \u001B[38;5;167;01mKeyError\u001B[39;00m \u001B[38;5;28;01mas\u001B[39;00m err:\n\u001B[1;32m-> 3804\u001B[0m     \u001B[38;5;28;01mraise\u001B[39;00m \u001B[38;5;167;01mKeyError\u001B[39;00m(key) \u001B[38;5;28;01mfrom\u001B[39;00m \u001B[38;5;21;01merr\u001B[39;00m\n\u001B[0;32m   3805\u001B[0m \u001B[38;5;28;01mexcept\u001B[39;00m \u001B[38;5;167;01mTypeError\u001B[39;00m:\n\u001B[0;32m   3806\u001B[0m     \u001B[38;5;66;03m# If we have a listlike key, _check_indexing_error will raise\u001B[39;00m\n\u001B[0;32m   3807\u001B[0m     \u001B[38;5;66;03m#  InvalidIndexError. Otherwise we fall through and re-raise\u001B[39;00m\n\u001B[0;32m   3808\u001B[0m     \u001B[38;5;66;03m#  the TypeError.\u001B[39;00m\n\u001B[0;32m   3809\u001B[0m     \u001B[38;5;28mself\u001B[39m\u001B[38;5;241m.\u001B[39m_check_indexing_error(key)\n",
      "\u001B[1;31mKeyError\u001B[0m: 'goal_team'"
     ]
    }
   ]
  },
  {
   "cell_type": "code",
   "execution_count": null,
   "outputs": [],
   "source": [
    "# controle van aantal_wedstrijden\n",
    "# Geen enkel record met meer wedstrijden dan speeldagen\n",
    "number_of_games_check = standings_df[standings_df.dag < standings_df.aantal_wedstrijden]\n",
    "number_of_games_check.head(30)"
   ],
   "metadata": {
    "collapsed": false,
    "ExecuteTime": {
     "end_time": "2024-03-14T08:59:27.087051400Z",
     "start_time": "2024-03-14T08:59:27.086051Z"
    }
   }
  },
  {
   "cell_type": "code",
   "execution_count": null,
   "outputs": [],
   "source": [
    "# controle van aantal_wedstrijden\n",
    "# wel records met minder wedstrijden dan speeldagen, maar bij nazicht van een aantal records klopt dit\n",
    "controle_aantal_wedstrijden = standings_df[standings_df.Day > standings_df.Played]\n",
    "controle_aantal_wedstrijden.Season.value_counts()"
   ],
   "metadata": {
    "collapsed": false,
    "ExecuteTime": {
     "start_time": "2024-03-14T08:59:27.088051300Z"
    }
   }
  },
  {
   "cell_type": "code",
   "execution_count": null,
   "outputs": [],
   "source": [
    "# geen records met standings_df.Played != (standings_df.Wins + standings_df.Losses + standings_df.Draws\n",
    "controle_aantal_wedstrijden = standings_df[standings_df.Played != (standings_df.Wins + standings_df.Losses + standings_df.Draws)]\n",
    "controle_aantal_wedstrijden.count()"
   ],
   "metadata": {
    "collapsed": false,
    "ExecuteTime": {
     "start_time": "2024-03-14T08:59:27.090050600Z"
    }
   }
  },
  {
   "cell_type": "code",
   "execution_count": null,
   "outputs": [],
   "source": [
    "# Split the 'Goals' column into two separate columns\n",
    "standings_df[['Goals_Scored', 'Goals_Conceded']] = standings_df['Goals'].str.split(':', expand=True)\n",
    "\n",
    "standings_df['Goals_Scored'] = pd.to_numeric(standings_df['Goals_Scored'])\n",
    "standings_df['Goals_Conceded'] = pd.to_numeric(standings_df['Goals_Conceded'])\n",
    "\n",
    "# geen records met (uitslagen.doelpunten_voor - uitslagen.doelpunten_tegen) != (uitslagen.verschil)\n",
    "standings_df['Calculated_Goal_Difference'] = standings_df['Goals_Scored'] - standings_df['Goals_Conceded']\n",
    "controle_aantal_wedstrijden = standings_df[standings_df['Calculated_Goal_Difference'] != standings_df['Goal_Difference']]\n",
    "controle_aantal_wedstrijden.count()"
   ],
   "metadata": {
    "collapsed": false,
    "ExecuteTime": {
     "end_time": "2024-03-14T08:59:27.097015300Z",
     "start_time": "2024-03-14T08:59:27.092052200Z"
    }
   }
  },
  {
   "cell_type": "code",
   "execution_count": null,
   "outputs": [],
   "source": [
    "# lijnen zoeken waarvoor punten geen : bevat (seizoen 1964 + vanaf 1995)\n",
    "controle_klassement = standings_df[(standings_df.Goals.str.count(':') == 0)]\n",
    "controle_klassement.head()"
   ],
   "metadata": {
    "collapsed": false,
    "ExecuteTime": {
     "start_time": "2024-03-14T08:59:27.094014700Z"
    }
   }
  },
  {
   "cell_type": "code",
   "execution_count": null,
   "outputs": [],
   "source": [
    "# het totaal aantal gewonnen matchen per seizoen en per ploeg\n",
    "points_df = standings_df.groupby(['Season','Day','Club Number', 'Points'])[['Wins','Draws','Losses']].sum()\n",
    "points_df = points_df.reset_index()\n",
    "points_df = points_df.sort_values(['Season','Day','Wins','Draws','Losses'], ascending = [True, True, False, False, False])\n",
    "points_df.head(30)"
   ],
   "metadata": {
    "collapsed": false,
    "ExecuteTime": {
     "start_time": "2024-03-14T08:59:27.096015400Z"
    }
   }
  },
  {
   "cell_type": "code",
   "execution_count": null,
   "outputs": [],
   "source": [
    "points_df['Points_Check'] = points_df['Wins'] * 3 + points_df['Draws'] + points_df['Losses'] * 0\n",
    "discrepancies_df = points_df[points_df['Points'] != points_df['Points_Check']]\n",
    "discrepancies_df.head(30)"
   ],
   "metadata": {
    "collapsed": false,
    "ExecuteTime": {
     "start_time": "2024-03-14T08:59:27.097015300Z"
    }
   }
  },
  {
   "cell_type": "code",
   "execution_count": null,
   "outputs": [],
   "source": [
    "match_results_df['date'] = pd.to_datetime(match_results_df['date'])\n",
    "goal_events_df['date'] = pd.to_datetime(goal_events_df['date'])\n",
    "\n",
    "merged_df = pd.merge(goal_events_df, match_results_df, on='match_id', suffixes=('_goal', '_match'))\n",
    "\n",
    "# Check for discrepancies in dates\n",
    "date_discrepancies_df = merged_df[merged_df['date_goal'] != merged_df['date_match']]\n",
    "date_discrepancies_df.head(30)"
   ],
   "metadata": {
    "collapsed": false,
    "ExecuteTime": {
     "start_time": "2024-03-14T08:59:27.099056900Z"
    }
   }
  },
  {
   "cell_type": "code",
   "execution_count": null,
   "outputs": [],
   "source": [
    "# Groepeer de gegevens op 'Day' en controleer de datums\n",
    "sorted_dates = match_results_df.sort_values(by=['day', 'date'])\n",
    "date_discrepancies_df = sorted_dates.groupby('day')['date'].apply(lambda x: x.is_monotonic_increasing)\n",
    "\n",
    "date_discrepancies_df = date_discrepancies_df[date_discrepancies_df == False]\n",
    "date_discrepancies_df.head(30)\n"
   ],
   "metadata": {
    "collapsed": false,
    "ExecuteTime": {
     "start_time": "2024-03-14T08:59:27.100021600Z"
    }
   }
  },
  {
   "cell_type": "code",
   "execution_count": null,
   "outputs": [],
   "source": [
    "# Sorting the data by season, day, and date\n",
    "sorted_dates = match_results_df.sort_values(by=['season', 'day', 'date'])\n",
    "\n",
    "# Group by 'season' and 'day', and check if dates are in chronological order within each group\n",
    "grouped = sorted_dates.groupby(['season', 'day'])\n",
    "date_order_check = grouped['date'].apply(lambda x: x.is_monotonic_increasing)\n",
    "\n",
    "# Identifying seasons and days where dates are not in chronological order\n",
    "date_discrepancies = date_order_check[date_order_check == False]\n",
    "date_discrepancies.head(30)"
   ],
   "metadata": {
    "collapsed": false,
    "ExecuteTime": {
     "start_time": "2024-03-14T08:59:27.101022400Z"
    }
   }
  },
  {
   "cell_type": "code",
   "execution_count": null,
   "outputs": [],
   "source": [
    "# Filter matches that ended 0-0\n",
    "matches_0_0 = match_results_df[(match_results_df['result_home_team'] == 0) & (match_results_df['result_away_team'] == 0)]\n",
    "\n",
    "# Get match_ids of 0-0 matches\n",
    "match_ids_0_0 = matches_0_0['match_id']\n",
    "\n",
    "# Check if these matches have any goals in goal_events.csv\n",
    "goals_in_0_0_matches = goal_events_df[goal_events_df['match_id'].isin(match_ids_0_0)]\n",
    "goals_in_0_0_matches.head(30)"
   ],
   "metadata": {
    "collapsed": false,
    "ExecuteTime": {
     "start_time": "2024-03-14T08:59:27.103023300Z"
    }
   }
  },
  {
   "cell_type": "code",
   "execution_count": null,
   "outputs": [],
   "source": [
    "# Splits de 'Goals' kolom in 'Goals_Scored' en 'Goals_Conceded'\n",
    "standings_df[['Goals_Scored', 'Goals_Conceded']] = standings_df['Goals'].str.split(':', expand=True)\n",
    "standings_df['Goals_Scored'] = pd.to_numeric(standings_df['Goals_Scored'])\n",
    "standings_df['Goals_Conceded'] = pd.to_numeric(standings_df['Goals_Conceded'])\n",
    "\n",
    "# Bereken de 'Goal_Difference'\n",
    "standings_df['Calculated_Goal_Difference'] = standings_df['Goals_Scored'] - standings_df['Goals_Conceded']\n",
    "\n",
    "# Sorteer elke groep en reset index\n",
    "sorted_df = standings_df.sort_values(['Season', 'Day', 'Points', 'Wins', 'Calculated_Goal_Difference', 'Goals_Scored'], ascending=[True, True, False, False, False, False])\n",
    "\n",
    "# Voeg een kolom toe voor de berekende rank\n",
    "sorted_df['Calculated_Rank'] = sorted_df.groupby(['Season', 'Day']).cumcount() + 1\n",
    "\n",
    "# Voeg de berekende rank toe aan de originele DataFrame\n",
    "standings_df = standings_df.merge(sorted_df[['Season', 'Day', 'Club', 'Calculated_Rank']], on=['Season', 'Day', 'Club'])\n",
    "\n",
    "# Controleer op discrepanties\n",
    "discrepancies = standings_df[standings_df['Rank'] != standings_df['Calculated_Rank']]\n",
    "discrepancies.head()\n"
   ],
   "metadata": {
    "collapsed": false,
    "ExecuteTime": {
     "start_time": "2024-03-14T08:59:27.105021200Z"
    }
   }
  }
 ]
}
