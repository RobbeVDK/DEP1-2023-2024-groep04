{
 "nbformat": 4,
 "nbformat_minor": 0,
 "metadata": {
  "colab": {
   "provenance": []
  },
  "kernelspec": {
   "name": "python3",
   "language": "python",
   "display_name": "Python 3 (ipykernel)"
  },
  "language_info": {
   "name": "python"
  }
 },
 "cells": [
  {
   "cell_type": "code",
   "execution_count": 362,
   "outputs": [],
   "source": [
    "import pandas as pd\n",
    "\n",
    "# Load CSV files\n",
    "match_results_df = pd.read_csv('csv/wedstrijden_onverwerkd.csv')\n",
    "goal_events_df = pd.read_csv('csv/doelpunten_onverwerkd.csv')\n",
    "standings_df = pd.read_csv('csv/klassement_onverwerkd.csv')\n",
    "\n",
    "goal_events_df = goal_events_df[goal_events_df['valid_goal'] == True]\n",
    "# Filter of vervang niet-numerieke waarden\n",
    "match_results_df['doelpunten_thuisploeg'] = pd.to_numeric(match_results_df['doelpunten_thuisploeg'], errors='coerce').fillna(0)\n",
    "match_results_df['doelpunten_uitploeg'] = pd.to_numeric(match_results_df['doelpunten_uitploeg'], errors='coerce').fillna(0)\n",
    "\n",
    "# Nu kunt u de conversie naar int veilig uitvoeren\n",
    "match_results_df['doelpunten_thuisploeg'] = match_results_df['doelpunten_thuisploeg'].astype(int)\n",
    "match_results_df['doelpunten_uitploeg'] = match_results_df['doelpunten_uitploeg'].astype(int)"
   ],
   "metadata": {
    "collapsed": false,
    "ExecuteTime": {
     "end_time": "2024-03-18T18:31:56.872373500Z",
     "start_time": "2024-03-18T18:31:56.705193400Z"
    }
   }
  },
  {
   "cell_type": "code",
   "execution_count": 363,
   "outputs": [
    {
     "data": {
      "text/plain": "Empty DataFrame\nColumns: [seizoen, speeldag, datum, tijd, id_match, thuisploeg_stamnummer, thuisploeg, uitploeg_stamnummer, uitploeg, doelpunten_thuisploeg, doelpunten_uitploeg, same_as_previous_match]\nIndex: []",
      "text/html": "<div>\n<style scoped>\n    .dataframe tbody tr th:only-of-type {\n        vertical-align: middle;\n    }\n\n    .dataframe tbody tr th {\n        vertical-align: top;\n    }\n\n    .dataframe thead th {\n        text-align: right;\n    }\n</style>\n<table border=\"1\" class=\"dataframe\">\n  <thead>\n    <tr style=\"text-align: right;\">\n      <th></th>\n      <th>seizoen</th>\n      <th>speeldag</th>\n      <th>datum</th>\n      <th>tijd</th>\n      <th>id_match</th>\n      <th>thuisploeg_stamnummer</th>\n      <th>thuisploeg</th>\n      <th>uitploeg_stamnummer</th>\n      <th>uitploeg</th>\n      <th>doelpunten_thuisploeg</th>\n      <th>doelpunten_uitploeg</th>\n      <th>same_as_previous_match</th>\n    </tr>\n  </thead>\n  <tbody>\n  </tbody>\n</table>\n</div>"
     },
     "execution_count": 363,
     "metadata": {},
     "output_type": "execute_result"
    }
   ],
   "source": [
    "# Vind alle verplaatste matches, namelijk de match id zal dezelfde zijn als de vorige\n",
    "match_results_df['same_as_previous_match'] = match_results_df['id_match'].eq(match_results_df['id_match'].shift())\n",
    "\n",
    "# Selecteer alleen de rijen waar 'same_as_previous_match' True is\n",
    "duplicate_matches = match_results_df[match_results_df['same_as_previous_match']]\n",
    "duplicate_matches.head(30)"
   ],
   "metadata": {
    "collapsed": false,
    "ExecuteTime": {
     "end_time": "2024-03-18T18:31:56.884834300Z",
     "start_time": "2024-03-18T18:31:56.875267100Z"
    }
   }
  },
  {
   "cell_type": "code",
   "source": [
    "# Bereken goals\n",
    "goals_home_team = goal_events_df[goal_events_df['goal_team_stamnummer'] == goal_events_df['thuisploeg_stamnummer']].groupby('id_match').size()\n",
    "goals_away_team = goal_events_df[goal_events_df['goal_team_stamnummer'] == goal_events_df['uitploeg_stamnummer']].groupby('id_match').size()\n",
    "\n",
    "# Omzetting\n",
    "goals_home_team_df = goals_home_team.reset_index(name='calculated_doelpunten_thuisploeg')\n",
    "goals_away_team_df = goals_away_team.reset_index(name='calculated_doelpunten_uitploeg')\n",
    "\n",
    "# Vervang NaN values in goal kolom met 0\n",
    "merged_df = pd.merge(match_results_df, goals_home_team_df, on='id_match', how='outer')\n",
    "merged_df = pd.merge(merged_df, goals_away_team_df, on='id_match', how='outer')\n",
    "merged_df['calculated_doelpunten_thuisploeg'] = merged_df['calculated_doelpunten_thuisploeg'].fillna(0).astype(int)\n",
    "merged_df['calculated_doelpunten_uitploeg'] = merged_df['calculated_doelpunten_uitploeg'].fillna(0).astype(int)\n",
    "\n",
    "# Bereken verschil tussen berekening en resultaat\n",
    "discrepancies_goals = merged_df[\n",
    "    ((merged_df['calculated_doelpunten_thuisploeg'] != merged_df['doelpunten_thuisploeg']) |\n",
    "    (merged_df['calculated_doelpunten_uitploeg'] != merged_df['doelpunten_uitploeg'])) &\n",
    "    ~((merged_df['doelpunten_thuisploeg'] == 5) & (merged_df['doelpunten_uitploeg'] == 0)) &\n",
    "    ~((merged_df['doelpunten_thuisploeg'] == 0) & (merged_df['doelpunten_uitploeg'] == 5))\n",
    "]\n",
    "\n",
    "# Select only relevant columns for display - Lommel 2002, Excelsior 2009 verwijderen we alles van, matches, klassement en doelpunten\n",
    "discrepancies_goals.head(1000)"
   ],
   "metadata": {
    "colab": {
     "base_uri": "https://localhost:8080/",
     "height": 112
    },
    "id": "o2sprn5OdrMd",
    "outputId": "f94268b2-1596-43cb-f848-22639c5445c7",
    "ExecuteTime": {
     "end_time": "2024-03-18T18:31:56.963560600Z",
     "start_time": "2024-03-18T18:31:56.885856900Z"
    }
   },
   "execution_count": 364,
   "outputs": [
    {
     "data": {
      "text/plain": "       seizoen  speeldag       datum      tijd  id_match  \\\n12602     1979         2  1979/09/01  20:00:00   4013213   \n12609     1979         2  1979/09/02  15:00:00   4013220   \n13329     1977        14  1977/11/20  15:00:00   4012716   \n13330     1977        15  1977/11/26  19:30:00   4012718   \n13335     1977        15  1977/11/27  15:00:00   4012722   \n...        ...       ...         ...       ...       ...   \n15601     1969        13  1970/03/21  16:00:00   4010564   \n15602     1969        14  1969/12/05  20:00:00   4010458   \n15603     1969        14  1969/12/07  14:30:00   4010459   \n15604     1969        14  1969/12/07  14:30:00   4010460   \n15605     1969        14  1969/12/07  14:30:00   4010461   \n\n       thuisploeg_stamnummer            thuisploeg  uitploeg_stamnummer  \\\n12602                     47         RWD Molenbeek                  522   \n12609                     30             Lierse SK                  553   \n13329                     19           KV Kortrijk                 4451   \n13330                     22        R Charleroi SC                   35   \n13335                   2300           KSK Beveren                    4   \n...                      ...                   ...                  ...   \n15601                    522           Beringen FC                    4   \n15602                     10  Union Saint-Gilloise                  373   \n15603                     55        RCC Schaerbeek                   16   \n15604                    522           Beringen FC                   35   \n15605                     13             Beerschot                    3   \n\n                 uitploeg  doelpunten_thuisploeg  doelpunten_uitploeg  \\\n12602         Beringen FC                      1                    0   \n12609  Waterschei SV Thor                      3                    1   \n13329         KSV Waregem                      1                    1   \n13330      RSC Anderlecht                      2                    1   \n13335            RFC Luik                      2                    0   \n...                   ...                    ...                  ...   \n15601            RFC Luik                      2                    2   \n15602   Sint-Truidense VV                      3                    1   \n15603       Standard Luik                      3                    1   \n15604      RSC Anderlecht                      2                    2   \n15605         Club Brugge                      3                    0   \n\n       same_as_previous_match  calculated_doelpunten_thuisploeg  \\\n12602                   False                                 0   \n12609                   False                                 4   \n13329                   False                                 0   \n13330                   False                                 0   \n13335                   False                                 0   \n...                       ...                               ...   \n15601                   False                                 0   \n15602                   False                                 0   \n15603                   False                                 0   \n15604                   False                                 0   \n15605                   False                                 0   \n\n       calculated_doelpunten_uitploeg  \n12602                               0  \n12609                               1  \n13329                               0  \n13330                               0  \n13335                               0  \n...                               ...  \n15601                               0  \n15602                               0  \n15603                               0  \n15604                               0  \n15605                               0  \n\n[1000 rows x 14 columns]",
      "text/html": "<div>\n<style scoped>\n    .dataframe tbody tr th:only-of-type {\n        vertical-align: middle;\n    }\n\n    .dataframe tbody tr th {\n        vertical-align: top;\n    }\n\n    .dataframe thead th {\n        text-align: right;\n    }\n</style>\n<table border=\"1\" class=\"dataframe\">\n  <thead>\n    <tr style=\"text-align: right;\">\n      <th></th>\n      <th>seizoen</th>\n      <th>speeldag</th>\n      <th>datum</th>\n      <th>tijd</th>\n      <th>id_match</th>\n      <th>thuisploeg_stamnummer</th>\n      <th>thuisploeg</th>\n      <th>uitploeg_stamnummer</th>\n      <th>uitploeg</th>\n      <th>doelpunten_thuisploeg</th>\n      <th>doelpunten_uitploeg</th>\n      <th>same_as_previous_match</th>\n      <th>calculated_doelpunten_thuisploeg</th>\n      <th>calculated_doelpunten_uitploeg</th>\n    </tr>\n  </thead>\n  <tbody>\n    <tr>\n      <th>12602</th>\n      <td>1979</td>\n      <td>2</td>\n      <td>1979/09/01</td>\n      <td>20:00:00</td>\n      <td>4013213</td>\n      <td>47</td>\n      <td>RWD Molenbeek</td>\n      <td>522</td>\n      <td>Beringen FC</td>\n      <td>1</td>\n      <td>0</td>\n      <td>False</td>\n      <td>0</td>\n      <td>0</td>\n    </tr>\n    <tr>\n      <th>12609</th>\n      <td>1979</td>\n      <td>2</td>\n      <td>1979/09/02</td>\n      <td>15:00:00</td>\n      <td>4013220</td>\n      <td>30</td>\n      <td>Lierse SK</td>\n      <td>553</td>\n      <td>Waterschei SV Thor</td>\n      <td>3</td>\n      <td>1</td>\n      <td>False</td>\n      <td>4</td>\n      <td>1</td>\n    </tr>\n    <tr>\n      <th>13329</th>\n      <td>1977</td>\n      <td>14</td>\n      <td>1977/11/20</td>\n      <td>15:00:00</td>\n      <td>4012716</td>\n      <td>19</td>\n      <td>KV Kortrijk</td>\n      <td>4451</td>\n      <td>KSV Waregem</td>\n      <td>1</td>\n      <td>1</td>\n      <td>False</td>\n      <td>0</td>\n      <td>0</td>\n    </tr>\n    <tr>\n      <th>13330</th>\n      <td>1977</td>\n      <td>15</td>\n      <td>1977/11/26</td>\n      <td>19:30:00</td>\n      <td>4012718</td>\n      <td>22</td>\n      <td>R Charleroi SC</td>\n      <td>35</td>\n      <td>RSC Anderlecht</td>\n      <td>2</td>\n      <td>1</td>\n      <td>False</td>\n      <td>0</td>\n      <td>0</td>\n    </tr>\n    <tr>\n      <th>13335</th>\n      <td>1977</td>\n      <td>15</td>\n      <td>1977/11/27</td>\n      <td>15:00:00</td>\n      <td>4012722</td>\n      <td>2300</td>\n      <td>KSK Beveren</td>\n      <td>4</td>\n      <td>RFC Luik</td>\n      <td>2</td>\n      <td>0</td>\n      <td>False</td>\n      <td>0</td>\n      <td>0</td>\n    </tr>\n    <tr>\n      <th>...</th>\n      <td>...</td>\n      <td>...</td>\n      <td>...</td>\n      <td>...</td>\n      <td>...</td>\n      <td>...</td>\n      <td>...</td>\n      <td>...</td>\n      <td>...</td>\n      <td>...</td>\n      <td>...</td>\n      <td>...</td>\n      <td>...</td>\n      <td>...</td>\n    </tr>\n    <tr>\n      <th>15601</th>\n      <td>1969</td>\n      <td>13</td>\n      <td>1970/03/21</td>\n      <td>16:00:00</td>\n      <td>4010564</td>\n      <td>522</td>\n      <td>Beringen FC</td>\n      <td>4</td>\n      <td>RFC Luik</td>\n      <td>2</td>\n      <td>2</td>\n      <td>False</td>\n      <td>0</td>\n      <td>0</td>\n    </tr>\n    <tr>\n      <th>15602</th>\n      <td>1969</td>\n      <td>14</td>\n      <td>1969/12/05</td>\n      <td>20:00:00</td>\n      <td>4010458</td>\n      <td>10</td>\n      <td>Union Saint-Gilloise</td>\n      <td>373</td>\n      <td>Sint-Truidense VV</td>\n      <td>3</td>\n      <td>1</td>\n      <td>False</td>\n      <td>0</td>\n      <td>0</td>\n    </tr>\n    <tr>\n      <th>15603</th>\n      <td>1969</td>\n      <td>14</td>\n      <td>1969/12/07</td>\n      <td>14:30:00</td>\n      <td>4010459</td>\n      <td>55</td>\n      <td>RCC Schaerbeek</td>\n      <td>16</td>\n      <td>Standard Luik</td>\n      <td>3</td>\n      <td>1</td>\n      <td>False</td>\n      <td>0</td>\n      <td>0</td>\n    </tr>\n    <tr>\n      <th>15604</th>\n      <td>1969</td>\n      <td>14</td>\n      <td>1969/12/07</td>\n      <td>14:30:00</td>\n      <td>4010460</td>\n      <td>522</td>\n      <td>Beringen FC</td>\n      <td>35</td>\n      <td>RSC Anderlecht</td>\n      <td>2</td>\n      <td>2</td>\n      <td>False</td>\n      <td>0</td>\n      <td>0</td>\n    </tr>\n    <tr>\n      <th>15605</th>\n      <td>1969</td>\n      <td>14</td>\n      <td>1969/12/07</td>\n      <td>14:30:00</td>\n      <td>4010461</td>\n      <td>13</td>\n      <td>Beerschot</td>\n      <td>3</td>\n      <td>Club Brugge</td>\n      <td>3</td>\n      <td>0</td>\n      <td>False</td>\n      <td>0</td>\n      <td>0</td>\n    </tr>\n  </tbody>\n</table>\n<p>1000 rows × 14 columns</p>\n</div>"
     },
     "execution_count": 364,
     "metadata": {},
     "output_type": "execute_result"
    }
   ]
  },
  {
   "cell_type": "code",
   "execution_count": 365,
   "outputs": [
    {
     "data": {
      "text/plain": "       seizoen  speeldag       datum      tijd  id_match  \\\n356       2022        14  2022/10/23  18:30:00   3851182   \n380       2022        17  2022/11/12  20:45:00   3851244   \n728       2021        22  2022/01/15  16:15:00   3598295   \n841       2021        34  2022/04/10  18:30:00   3598351   \n2427      2014        11  2014/10/19  14:30:00   2503727   \n...        ...       ...         ...       ...       ...   \n15564     1969         9  1969/11/02  15:00:00   4010423   \n15566     1969         9  1969/11/02  15:00:00   4010425   \n15567     1969         9  1969/11/02  15:00:00   4010426   \n15568     1969         9  1969/11/02  15:00:00   4010427   \n15569     1969         9  1969/11/02  15:00:00   4010428   \n\n       thuisploeg_stamnummer            thuisploeg  uitploeg_stamnummer  \\\n356                       16         Standard Luik                   35   \n380                       22        R Charleroi SC                   25   \n728                       18   Oud-Heverlee Leuven                   25   \n841                       10  Union Saint-Gilloise                   13   \n2427                      16         Standard Luik                 5381   \n...                      ...                   ...                  ...   \n15564                     35        RSC Anderlecht                   13   \n15566                     22        R Charleroi SC                    3   \n15567                     53        AS Oostende KM                   55   \n15568                      7              KAA Gent                  373   \n15569                      4              RFC Luik                   30   \n\n                uitploeg  doelpunten_thuisploeg  doelpunten_uitploeg  \\\n356       RSC Anderlecht                      5                    0   \n380          KV Mechelen                      0                    5   \n728          KV Mechelen                      5                    0   \n841            Beerschot                      5                    0   \n2427    SV Zulte Waregem                      0                    5   \n...                  ...                    ...                  ...   \n15564          Beerschot                      0                    1   \n15566        Club Brugge                      3                    1   \n15567     RCC Schaerbeek                      2                    0   \n15568  Sint-Truidense VV                      4                    1   \n15569          Lierse SK                      3                    2   \n\n       same_as_previous_match  calculated_doelpunten_thuisploeg  \\\n356                     False                                 3   \n380                     False                                 1   \n728                     False                                 0   \n841                     False                                 0   \n2427                    False                                 1   \n...                       ...                               ...   \n15564                   False                                 0   \n15566                   False                                 0   \n15567                   False                                 0   \n15568                   False                                 0   \n15569                   False                                 0   \n\n       calculated_doelpunten_uitploeg  \n356                                 1  \n380                                 0  \n728                                 0  \n841                                 0  \n2427                                2  \n...                               ...  \n15564                               0  \n15566                               0  \n15567                               0  \n15568                               0  \n15569                               0  \n\n[1000 rows x 14 columns]",
      "text/html": "<div>\n<style scoped>\n    .dataframe tbody tr th:only-of-type {\n        vertical-align: middle;\n    }\n\n    .dataframe tbody tr th {\n        vertical-align: top;\n    }\n\n    .dataframe thead th {\n        text-align: right;\n    }\n</style>\n<table border=\"1\" class=\"dataframe\">\n  <thead>\n    <tr style=\"text-align: right;\">\n      <th></th>\n      <th>seizoen</th>\n      <th>speeldag</th>\n      <th>datum</th>\n      <th>tijd</th>\n      <th>id_match</th>\n      <th>thuisploeg_stamnummer</th>\n      <th>thuisploeg</th>\n      <th>uitploeg_stamnummer</th>\n      <th>uitploeg</th>\n      <th>doelpunten_thuisploeg</th>\n      <th>doelpunten_uitploeg</th>\n      <th>same_as_previous_match</th>\n      <th>calculated_doelpunten_thuisploeg</th>\n      <th>calculated_doelpunten_uitploeg</th>\n    </tr>\n  </thead>\n  <tbody>\n    <tr>\n      <th>356</th>\n      <td>2022</td>\n      <td>14</td>\n      <td>2022/10/23</td>\n      <td>18:30:00</td>\n      <td>3851182</td>\n      <td>16</td>\n      <td>Standard Luik</td>\n      <td>35</td>\n      <td>RSC Anderlecht</td>\n      <td>5</td>\n      <td>0</td>\n      <td>False</td>\n      <td>3</td>\n      <td>1</td>\n    </tr>\n    <tr>\n      <th>380</th>\n      <td>2022</td>\n      <td>17</td>\n      <td>2022/11/12</td>\n      <td>20:45:00</td>\n      <td>3851244</td>\n      <td>22</td>\n      <td>R Charleroi SC</td>\n      <td>25</td>\n      <td>KV Mechelen</td>\n      <td>0</td>\n      <td>5</td>\n      <td>False</td>\n      <td>1</td>\n      <td>0</td>\n    </tr>\n    <tr>\n      <th>728</th>\n      <td>2021</td>\n      <td>22</td>\n      <td>2022/01/15</td>\n      <td>16:15:00</td>\n      <td>3598295</td>\n      <td>18</td>\n      <td>Oud-Heverlee Leuven</td>\n      <td>25</td>\n      <td>KV Mechelen</td>\n      <td>5</td>\n      <td>0</td>\n      <td>False</td>\n      <td>0</td>\n      <td>0</td>\n    </tr>\n    <tr>\n      <th>841</th>\n      <td>2021</td>\n      <td>34</td>\n      <td>2022/04/10</td>\n      <td>18:30:00</td>\n      <td>3598351</td>\n      <td>10</td>\n      <td>Union Saint-Gilloise</td>\n      <td>13</td>\n      <td>Beerschot</td>\n      <td>5</td>\n      <td>0</td>\n      <td>False</td>\n      <td>0</td>\n      <td>0</td>\n    </tr>\n    <tr>\n      <th>2427</th>\n      <td>2014</td>\n      <td>11</td>\n      <td>2014/10/19</td>\n      <td>14:30:00</td>\n      <td>2503727</td>\n      <td>16</td>\n      <td>Standard Luik</td>\n      <td>5381</td>\n      <td>SV Zulte Waregem</td>\n      <td>0</td>\n      <td>5</td>\n      <td>False</td>\n      <td>1</td>\n      <td>2</td>\n    </tr>\n    <tr>\n      <th>...</th>\n      <td>...</td>\n      <td>...</td>\n      <td>...</td>\n      <td>...</td>\n      <td>...</td>\n      <td>...</td>\n      <td>...</td>\n      <td>...</td>\n      <td>...</td>\n      <td>...</td>\n      <td>...</td>\n      <td>...</td>\n      <td>...</td>\n      <td>...</td>\n    </tr>\n    <tr>\n      <th>15564</th>\n      <td>1969</td>\n      <td>9</td>\n      <td>1969/11/02</td>\n      <td>15:00:00</td>\n      <td>4010423</td>\n      <td>35</td>\n      <td>RSC Anderlecht</td>\n      <td>13</td>\n      <td>Beerschot</td>\n      <td>0</td>\n      <td>1</td>\n      <td>False</td>\n      <td>0</td>\n      <td>0</td>\n    </tr>\n    <tr>\n      <th>15566</th>\n      <td>1969</td>\n      <td>9</td>\n      <td>1969/11/02</td>\n      <td>15:00:00</td>\n      <td>4010425</td>\n      <td>22</td>\n      <td>R Charleroi SC</td>\n      <td>3</td>\n      <td>Club Brugge</td>\n      <td>3</td>\n      <td>1</td>\n      <td>False</td>\n      <td>0</td>\n      <td>0</td>\n    </tr>\n    <tr>\n      <th>15567</th>\n      <td>1969</td>\n      <td>9</td>\n      <td>1969/11/02</td>\n      <td>15:00:00</td>\n      <td>4010426</td>\n      <td>53</td>\n      <td>AS Oostende KM</td>\n      <td>55</td>\n      <td>RCC Schaerbeek</td>\n      <td>2</td>\n      <td>0</td>\n      <td>False</td>\n      <td>0</td>\n      <td>0</td>\n    </tr>\n    <tr>\n      <th>15568</th>\n      <td>1969</td>\n      <td>9</td>\n      <td>1969/11/02</td>\n      <td>15:00:00</td>\n      <td>4010427</td>\n      <td>7</td>\n      <td>KAA Gent</td>\n      <td>373</td>\n      <td>Sint-Truidense VV</td>\n      <td>4</td>\n      <td>1</td>\n      <td>False</td>\n      <td>0</td>\n      <td>0</td>\n    </tr>\n    <tr>\n      <th>15569</th>\n      <td>1969</td>\n      <td>9</td>\n      <td>1969/11/02</td>\n      <td>15:00:00</td>\n      <td>4010428</td>\n      <td>4</td>\n      <td>RFC Luik</td>\n      <td>30</td>\n      <td>Lierse SK</td>\n      <td>3</td>\n      <td>2</td>\n      <td>False</td>\n      <td>0</td>\n      <td>0</td>\n    </tr>\n  </tbody>\n</table>\n<p>1000 rows × 14 columns</p>\n</div>"
     },
     "execution_count": 365,
     "metadata": {},
     "output_type": "execute_result"
    }
   ],
   "source": [
    "#Controle voor (5:0 of 0:5's)\n",
    "discrepancies_goals = merged_df[\n",
    "    (merged_df['calculated_doelpunten_thuisploeg'] != merged_df['doelpunten_thuisploeg']) |\n",
    "    (merged_df['calculated_doelpunten_uitploeg'] != merged_df['doelpunten_uitploeg'])\n",
    "]\n",
    "discrepancies_goals.head(1000)"
   ],
   "metadata": {
    "collapsed": false,
    "ExecuteTime": {
     "end_time": "2024-03-18T18:31:56.963560600Z",
     "start_time": "2024-03-18T18:31:56.929919500Z"
    }
   }
  },
  {
   "cell_type": "code",
   "execution_count": 366,
   "outputs": [
    {
     "data": {
      "text/plain": "Empty DataFrame\nColumns: [seizoen, speeldag, stand, naam_ploeg, id_ploeg, aantal_wedstrijden, aantal_gewonnen, aantal_gelijk, aantal_verloren, doelpunten_voor, doelpunten_tegen, verschil, punten]\nIndex: []",
      "text/html": "<div>\n<style scoped>\n    .dataframe tbody tr th:only-of-type {\n        vertical-align: middle;\n    }\n\n    .dataframe tbody tr th {\n        vertical-align: top;\n    }\n\n    .dataframe thead th {\n        text-align: right;\n    }\n</style>\n<table border=\"1\" class=\"dataframe\">\n  <thead>\n    <tr style=\"text-align: right;\">\n      <th></th>\n      <th>seizoen</th>\n      <th>speeldag</th>\n      <th>stand</th>\n      <th>naam_ploeg</th>\n      <th>id_ploeg</th>\n      <th>aantal_wedstrijden</th>\n      <th>aantal_gewonnen</th>\n      <th>aantal_gelijk</th>\n      <th>aantal_verloren</th>\n      <th>doelpunten_voor</th>\n      <th>doelpunten_tegen</th>\n      <th>verschil</th>\n      <th>punten</th>\n    </tr>\n  </thead>\n  <tbody>\n  </tbody>\n</table>\n</div>"
     },
     "execution_count": 366,
     "metadata": {},
     "output_type": "execute_result"
    }
   ],
   "source": [
    "# controle van aantal_wedstrijden\n",
    "# Geen enkel record met meer wedstrijden dan speeldagen\n",
    "number_of_games_check = standings_df[standings_df.speeldag < standings_df.aantal_wedstrijden]\n",
    "number_of_games_check.head(30)"
   ],
   "metadata": {
    "collapsed": false,
    "ExecuteTime": {
     "end_time": "2024-03-18T18:31:56.964560400Z",
     "start_time": "2024-03-18T18:31:56.946016Z"
    }
   }
  },
  {
   "cell_type": "code",
   "execution_count": 367,
   "outputs": [
    {
     "data": {
      "text/plain": "1975    551\n2002    442\n2009    360\nName: seizoen, dtype: int64"
     },
     "execution_count": 367,
     "metadata": {},
     "output_type": "execute_result"
    }
   ],
   "source": [
    "# controle van aantal_wedstrijden\n",
    "# wel records met minder wedstrijden dan speeldagen, maar bij nazicht van een aantal records klopt dit\n",
    "number_of_games_check = standings_df[standings_df.speeldag > standings_df.aantal_wedstrijden]\n",
    "number_of_games_check.seizoen.value_counts()"
   ],
   "metadata": {
    "collapsed": false,
    "ExecuteTime": {
     "end_time": "2024-03-18T18:31:56.964560400Z",
     "start_time": "2024-03-18T18:31:56.954126800Z"
    }
   }
  },
  {
   "cell_type": "code",
   "execution_count": 368,
   "outputs": [
    {
     "data": {
      "text/plain": "seizoen               0\nspeeldag              0\nstand                 0\nnaam_ploeg            0\nid_ploeg              0\naantal_wedstrijden    0\naantal_gewonnen       0\naantal_gelijk         0\naantal_verloren       0\ndoelpunten_voor       0\ndoelpunten_tegen      0\nverschil              0\npunten                0\ndtype: int64"
     },
     "execution_count": 368,
     "metadata": {},
     "output_type": "execute_result"
    }
   ],
   "source": [
    "# geen records met standings_df.Played != (standings_df.Wins + standings_df.Losses + standings_df.Draws\n",
    "number_of_games_check = standings_df[standings_df.aantal_wedstrijden != (standings_df.aantal_gewonnen + standings_df.aantal_gelijk + standings_df.aantal_verloren)]\n",
    "number_of_games_check.count()"
   ],
   "metadata": {
    "collapsed": false,
    "ExecuteTime": {
     "end_time": "2024-03-18T18:31:57.000708200Z",
     "start_time": "2024-03-18T18:31:56.962566Z"
    }
   }
  },
  {
   "cell_type": "code",
   "execution_count": 369,
   "outputs": [
    {
     "data": {
      "text/plain": "seizoen                     0\nspeeldag                    0\nstand                       0\nnaam_ploeg                  0\nid_ploeg                    0\naantal_wedstrijden          0\naantal_gewonnen             0\naantal_gelijk               0\naantal_verloren             0\ndoelpunten_voor             0\ndoelpunten_tegen            0\nverschil                    0\npunten                      0\ncalculated_goal_verschil    0\ndtype: int64"
     },
     "execution_count": 369,
     "metadata": {},
     "output_type": "execute_result"
    }
   ],
   "source": [
    "# geen records met (uitslagen.doelpunten_voor - uitslagen.doelpunten_tegen) != (uitslagen.verschil)\n",
    "standings_df['calculated_goal_verschil'] = standings_df['doelpunten_voor'] - standings_df['doelpunten_tegen']\n",
    "controle_aantal_wedstrijden = standings_df[standings_df['calculated_goal_verschil'] != standings_df['verschil']]\n",
    "controle_aantal_wedstrijden.count()"
   ],
   "metadata": {
    "collapsed": false,
    "ExecuteTime": {
     "end_time": "2024-03-18T18:31:57.001707900Z",
     "start_time": "2024-03-18T18:31:56.971149400Z"
    }
   }
  },
  {
   "cell_type": "code",
   "execution_count": 370,
   "outputs": [],
   "source": [
    "# het totaal aantal gewonnen matchen per seizoen en per ploeg\n",
    "points_df = standings_df.groupby(['seizoen','speeldag','id_ploeg', 'punten'])[['aantal_gewonnen','aantal_gelijk','aantal_verloren']].sum()\n",
    "points_df = points_df.reset_index()\n",
    "points_df = points_df.sort_values(['seizoen','speeldag','aantal_gewonnen','aantal_gelijk','aantal_verloren'], ascending = [True, True, False, False, False])"
   ],
   "metadata": {
    "collapsed": false,
    "ExecuteTime": {
     "end_time": "2024-03-18T18:31:57.096998100Z",
     "start_time": "2024-03-18T18:31:56.981448Z"
    }
   }
  },
  {
   "cell_type": "code",
   "execution_count": 371,
   "outputs": [
    {
     "data": {
      "text/plain": "     seizoen  speeldag  id_ploeg punten  aantal_gewonnen  aantal_gelijk  \\\n1       1960         1         2    2:0                1              0   \n3       1960         1         4    2:0                1              0   \n5       1960         1        10    2:0                1              0   \n6       1960         1        13    2:0                1              0   \n7       1960         1        16    2:0                1              0   \n..       ...       ...       ...    ...              ...            ...   \n95      1960         6      3434   2:10                0              2   \n103     1960         7        16   12:2                5              2   \n97      1960         7         2   10:4                4              2   \n99      1960         7         4   10:4                4              2   \n107     1960         7        90    9:5                4              1   \n\n     aantal_verloren  punten_check  \n1                  0             3  \n3                  0             3  \n5                  0             3  \n6                  0             3  \n7                  0             3  \n..               ...           ...  \n95                 4             2  \n103                0            17  \n97                 1            14  \n99                 1            14  \n107                2            13  \n\n[100 rows x 8 columns]",
      "text/html": "<div>\n<style scoped>\n    .dataframe tbody tr th:only-of-type {\n        vertical-align: middle;\n    }\n\n    .dataframe tbody tr th {\n        vertical-align: top;\n    }\n\n    .dataframe thead th {\n        text-align: right;\n    }\n</style>\n<table border=\"1\" class=\"dataframe\">\n  <thead>\n    <tr style=\"text-align: right;\">\n      <th></th>\n      <th>seizoen</th>\n      <th>speeldag</th>\n      <th>id_ploeg</th>\n      <th>punten</th>\n      <th>aantal_gewonnen</th>\n      <th>aantal_gelijk</th>\n      <th>aantal_verloren</th>\n      <th>punten_check</th>\n    </tr>\n  </thead>\n  <tbody>\n    <tr>\n      <th>1</th>\n      <td>1960</td>\n      <td>1</td>\n      <td>2</td>\n      <td>2:0</td>\n      <td>1</td>\n      <td>0</td>\n      <td>0</td>\n      <td>3</td>\n    </tr>\n    <tr>\n      <th>3</th>\n      <td>1960</td>\n      <td>1</td>\n      <td>4</td>\n      <td>2:0</td>\n      <td>1</td>\n      <td>0</td>\n      <td>0</td>\n      <td>3</td>\n    </tr>\n    <tr>\n      <th>5</th>\n      <td>1960</td>\n      <td>1</td>\n      <td>10</td>\n      <td>2:0</td>\n      <td>1</td>\n      <td>0</td>\n      <td>0</td>\n      <td>3</td>\n    </tr>\n    <tr>\n      <th>6</th>\n      <td>1960</td>\n      <td>1</td>\n      <td>13</td>\n      <td>2:0</td>\n      <td>1</td>\n      <td>0</td>\n      <td>0</td>\n      <td>3</td>\n    </tr>\n    <tr>\n      <th>7</th>\n      <td>1960</td>\n      <td>1</td>\n      <td>16</td>\n      <td>2:0</td>\n      <td>1</td>\n      <td>0</td>\n      <td>0</td>\n      <td>3</td>\n    </tr>\n    <tr>\n      <th>...</th>\n      <td>...</td>\n      <td>...</td>\n      <td>...</td>\n      <td>...</td>\n      <td>...</td>\n      <td>...</td>\n      <td>...</td>\n      <td>...</td>\n    </tr>\n    <tr>\n      <th>95</th>\n      <td>1960</td>\n      <td>6</td>\n      <td>3434</td>\n      <td>2:10</td>\n      <td>0</td>\n      <td>2</td>\n      <td>4</td>\n      <td>2</td>\n    </tr>\n    <tr>\n      <th>103</th>\n      <td>1960</td>\n      <td>7</td>\n      <td>16</td>\n      <td>12:2</td>\n      <td>5</td>\n      <td>2</td>\n      <td>0</td>\n      <td>17</td>\n    </tr>\n    <tr>\n      <th>97</th>\n      <td>1960</td>\n      <td>7</td>\n      <td>2</td>\n      <td>10:4</td>\n      <td>4</td>\n      <td>2</td>\n      <td>1</td>\n      <td>14</td>\n    </tr>\n    <tr>\n      <th>99</th>\n      <td>1960</td>\n      <td>7</td>\n      <td>4</td>\n      <td>10:4</td>\n      <td>4</td>\n      <td>2</td>\n      <td>1</td>\n      <td>14</td>\n    </tr>\n    <tr>\n      <th>107</th>\n      <td>1960</td>\n      <td>7</td>\n      <td>90</td>\n      <td>9:5</td>\n      <td>4</td>\n      <td>1</td>\n      <td>2</td>\n      <td>13</td>\n    </tr>\n  </tbody>\n</table>\n<p>100 rows × 8 columns</p>\n</div>"
     },
     "execution_count": 371,
     "metadata": {},
     "output_type": "execute_result"
    }
   ],
   "source": [
    "points_df['punten_check'] = points_df['aantal_gewonnen'] * 3 + points_df['aantal_gelijk'] + points_df['aantal_verloren'] * 0\n",
    "discrepancies_df = points_df[points_df['punten'] != points_df['punten_check']]\n",
    "discrepancies_df.head(100)"
   ],
   "metadata": {
    "collapsed": false,
    "ExecuteTime": {
     "end_time": "2024-03-18T18:31:57.114920600Z",
     "start_time": "2024-03-18T18:31:57.012868900Z"
    }
   }
  },
  {
   "cell_type": "code",
   "execution_count": 372,
   "outputs": [
    {
     "data": {
      "text/plain": "Empty DataFrame\nColumns: [seizoen_goal, dag, datum_goal, tijd_goal, id_match, thuisploeg_stamnummer_goal, thuisploeg_goal, uitploeg_goal, uitploeg_stamnummer_goal, goal_time, real_time_goal, goal_team_naam, goal_team_stamnummer, stand_thuis, stand_uit, valid_goal, seizoen_match, speeldag, datum_match, tijd_match, thuisploeg_stamnummer_match, thuisploeg_match, uitploeg_stamnummer_match, uitploeg_match, doelpunten_thuisploeg, doelpunten_uitploeg, same_as_previous_match]\nIndex: []\n\n[0 rows x 27 columns]",
      "text/html": "<div>\n<style scoped>\n    .dataframe tbody tr th:only-of-type {\n        vertical-align: middle;\n    }\n\n    .dataframe tbody tr th {\n        vertical-align: top;\n    }\n\n    .dataframe thead th {\n        text-align: right;\n    }\n</style>\n<table border=\"1\" class=\"dataframe\">\n  <thead>\n    <tr style=\"text-align: right;\">\n      <th></th>\n      <th>seizoen_goal</th>\n      <th>dag</th>\n      <th>datum_goal</th>\n      <th>tijd_goal</th>\n      <th>id_match</th>\n      <th>thuisploeg_stamnummer_goal</th>\n      <th>thuisploeg_goal</th>\n      <th>uitploeg_goal</th>\n      <th>uitploeg_stamnummer_goal</th>\n      <th>goal_time</th>\n      <th>...</th>\n      <th>speeldag</th>\n      <th>datum_match</th>\n      <th>tijd_match</th>\n      <th>thuisploeg_stamnummer_match</th>\n      <th>thuisploeg_match</th>\n      <th>uitploeg_stamnummer_match</th>\n      <th>uitploeg_match</th>\n      <th>doelpunten_thuisploeg</th>\n      <th>doelpunten_uitploeg</th>\n      <th>same_as_previous_match</th>\n    </tr>\n  </thead>\n  <tbody>\n  </tbody>\n</table>\n<p>0 rows × 27 columns</p>\n</div>"
     },
     "execution_count": 372,
     "metadata": {},
     "output_type": "execute_result"
    }
   ],
   "source": [
    "match_results_df['datum'] = pd.to_datetime(match_results_df['datum'])\n",
    "goal_events_df['datum'] = pd.to_datetime(goal_events_df['datum'])\n",
    "\n",
    "merged_df = pd.merge(goal_events_df, match_results_df, on='id_match', suffixes=('_goal', '_match'))\n",
    "\n",
    "# Check for discrepancies in dates\n",
    "date_discrepancies_df = merged_df[merged_df['datum_goal'] != merged_df['datum_match']]\n",
    "date_discrepancies_df.head(30)"
   ],
   "metadata": {
    "collapsed": false,
    "ExecuteTime": {
     "end_time": "2024-03-18T18:31:57.178121600Z",
     "start_time": "2024-03-18T18:31:57.031058500Z"
    }
   }
  },
  {
   "cell_type": "code",
   "execution_count": 373,
   "outputs": [
    {
     "data": {
      "text/plain": "Series([], Name: datum, dtype: bool)"
     },
     "execution_count": 373,
     "metadata": {},
     "output_type": "execute_result"
    }
   ],
   "source": [
    "# Groepeer de gegevens op 'Day' en controleer de datums\n",
    "sorted_dates = match_results_df.sort_values(by=['speeldag', 'datum'])\n",
    "date_discrepancies_df = sorted_dates.groupby('speeldag')['datum'].apply(lambda x: x.is_monotonic_increasing)\n",
    "\n",
    "date_discrepancies_df = date_discrepancies_df[date_discrepancies_df == False]\n",
    "date_discrepancies_df.head(30)\n"
   ],
   "metadata": {
    "collapsed": false,
    "ExecuteTime": {
     "end_time": "2024-03-18T18:31:57.209646300Z",
     "start_time": "2024-03-18T18:31:57.088546900Z"
    }
   }
  },
  {
   "cell_type": "code",
   "execution_count": 374,
   "outputs": [
    {
     "data": {
      "text/plain": "Series([], Name: datum, dtype: bool)"
     },
     "execution_count": 374,
     "metadata": {},
     "output_type": "execute_result"
    }
   ],
   "source": [
    "# Sorting the data by season, day, and date\n",
    "sorted_dates = match_results_df.sort_values(by=['seizoen', 'speeldag', 'datum'])\n",
    "\n",
    "# Group by 'season' and 'day', and check if dates are in chronological order within each group\n",
    "grouped = sorted_dates.groupby(['seizoen', 'speeldag'])\n",
    "date_order_check = grouped['datum'].apply(lambda x: x.is_monotonic_increasing)\n",
    "\n",
    "# Identifying seasons and days where dates are not in chronological order\n",
    "date_discrepancies = date_order_check[date_order_check == False]\n",
    "date_discrepancies.head(30)"
   ],
   "metadata": {
    "collapsed": false,
    "ExecuteTime": {
     "end_time": "2024-03-18T18:31:57.301481500Z",
     "start_time": "2024-03-18T18:31:57.104711900Z"
    }
   }
  },
  {
   "cell_type": "code",
   "execution_count": 375,
   "outputs": [
    {
     "data": {
      "text/plain": "Empty DataFrame\nColumns: [seizoen, dag, datum, tijd, id_match, thuisploeg_stamnummer, thuisploeg, uitploeg, uitploeg_stamnummer, goal_time, real_time_goal, goal_team_naam, goal_team_stamnummer, stand_thuis, stand_uit, valid_goal]\nIndex: []",
      "text/html": "<div>\n<style scoped>\n    .dataframe tbody tr th:only-of-type {\n        vertical-align: middle;\n    }\n\n    .dataframe tbody tr th {\n        vertical-align: top;\n    }\n\n    .dataframe thead th {\n        text-align: right;\n    }\n</style>\n<table border=\"1\" class=\"dataframe\">\n  <thead>\n    <tr style=\"text-align: right;\">\n      <th></th>\n      <th>seizoen</th>\n      <th>dag</th>\n      <th>datum</th>\n      <th>tijd</th>\n      <th>id_match</th>\n      <th>thuisploeg_stamnummer</th>\n      <th>thuisploeg</th>\n      <th>uitploeg</th>\n      <th>uitploeg_stamnummer</th>\n      <th>goal_time</th>\n      <th>real_time_goal</th>\n      <th>goal_team_naam</th>\n      <th>goal_team_stamnummer</th>\n      <th>stand_thuis</th>\n      <th>stand_uit</th>\n      <th>valid_goal</th>\n    </tr>\n  </thead>\n  <tbody>\n  </tbody>\n</table>\n</div>"
     },
     "execution_count": 375,
     "metadata": {},
     "output_type": "execute_result"
    }
   ],
   "source": [
    "# Filter matches that ended 0-0\n",
    "matches_0_0 = match_results_df[(match_results_df['doelpunten_thuisploeg'] == 0) & (match_results_df['doelpunten_uitploeg'] == 0)]\n",
    "\n",
    "# Get match_ids of 0-0 matches\n",
    "match_ids_0_0 = matches_0_0['id_match']\n",
    "\n",
    "# Check if these matches have any goals in goal_events.csv\n",
    "goals_in_0_0_matches = goal_events_df[goal_events_df['id_match'].isin(match_ids_0_0)]\n",
    "goals_in_0_0_matches.head(100)"
   ],
   "metadata": {
    "collapsed": false,
    "ExecuteTime": {
     "end_time": "2024-03-18T18:31:57.343827500Z",
     "start_time": "2024-03-18T18:31:57.242746700Z"
    }
   }
  },
  {
   "cell_type": "code",
   "execution_count": 376,
   "outputs": [
    {
     "data": {
      "text/plain": "      seizoen  speeldag  stand      naam_ploeg  id_ploeg  aantal_wedstrijden  \\\n48       2023         4      1     Club Brugge         3                   4   \n49       2023         4      2        KAA Gent         7                   4   \n50       2023         4      3        Union SG        10                   4   \n51       2023         4      4  RSC Anderlecht        35                   4   \n52       2023         4      5      Antwerp FC         1                   4   \n...       ...       ...    ...             ...       ...                 ...   \n2478     2019        12      3      Antwerp FC         1                  12   \n2479     2019        12      4     KV Mechelen        25                  12   \n2480     2019        12      5        KAA Gent         7                  12   \n2481     2019        12      6        KRC Genk       322                  12   \n2482     2019        12      7   Zulte Waregem      5381                  12   \n\n      aantal_gewonnen  aantal_gelijk  aantal_verloren  doelpunten_voor  \\\n48                  3              1                0               14   \n49                  3              1                0                9   \n50                  3              0                1                8   \n51                  3              0                1                4   \n52                  2              1                1                8   \n...               ...            ...              ...              ...   \n2478                7              2                3               26   \n2479                7              2                3               22   \n2480                6              3                3               24   \n2481                6              2                4               19   \n2482                5              4                3               20   \n\n      doelpunten_tegen  verschil punten  calculated_goal_verschil  \\\n48                   2        12     10                        12   \n49                   5         4     10                         4   \n50                   5         3      9                         3   \n51                   3         1      9                         1   \n52                   2         6      7                         6   \n...                ...       ...    ...                       ...   \n2478                17         9     23                         9   \n2479                18         4     23                         4   \n2480                15         9     21                         9   \n2481                15         4     20                         4   \n2482                14         6     19                         6   \n\n      calculated_stand  \n48                  12  \n49                  13  \n50                   1  \n51                   2  \n52                   3  \n...                ...  \n2478                 5  \n2479                 6  \n2480                 7  \n2481                 8  \n2482                 9  \n\n[1000 rows x 15 columns]",
      "text/html": "<div>\n<style scoped>\n    .dataframe tbody tr th:only-of-type {\n        vertical-align: middle;\n    }\n\n    .dataframe tbody tr th {\n        vertical-align: top;\n    }\n\n    .dataframe thead th {\n        text-align: right;\n    }\n</style>\n<table border=\"1\" class=\"dataframe\">\n  <thead>\n    <tr style=\"text-align: right;\">\n      <th></th>\n      <th>seizoen</th>\n      <th>speeldag</th>\n      <th>stand</th>\n      <th>naam_ploeg</th>\n      <th>id_ploeg</th>\n      <th>aantal_wedstrijden</th>\n      <th>aantal_gewonnen</th>\n      <th>aantal_gelijk</th>\n      <th>aantal_verloren</th>\n      <th>doelpunten_voor</th>\n      <th>doelpunten_tegen</th>\n      <th>verschil</th>\n      <th>punten</th>\n      <th>calculated_goal_verschil</th>\n      <th>calculated_stand</th>\n    </tr>\n  </thead>\n  <tbody>\n    <tr>\n      <th>48</th>\n      <td>2023</td>\n      <td>4</td>\n      <td>1</td>\n      <td>Club Brugge</td>\n      <td>3</td>\n      <td>4</td>\n      <td>3</td>\n      <td>1</td>\n      <td>0</td>\n      <td>14</td>\n      <td>2</td>\n      <td>12</td>\n      <td>10</td>\n      <td>12</td>\n      <td>12</td>\n    </tr>\n    <tr>\n      <th>49</th>\n      <td>2023</td>\n      <td>4</td>\n      <td>2</td>\n      <td>KAA Gent</td>\n      <td>7</td>\n      <td>4</td>\n      <td>3</td>\n      <td>1</td>\n      <td>0</td>\n      <td>9</td>\n      <td>5</td>\n      <td>4</td>\n      <td>10</td>\n      <td>4</td>\n      <td>13</td>\n    </tr>\n    <tr>\n      <th>50</th>\n      <td>2023</td>\n      <td>4</td>\n      <td>3</td>\n      <td>Union SG</td>\n      <td>10</td>\n      <td>4</td>\n      <td>3</td>\n      <td>0</td>\n      <td>1</td>\n      <td>8</td>\n      <td>5</td>\n      <td>3</td>\n      <td>9</td>\n      <td>3</td>\n      <td>1</td>\n    </tr>\n    <tr>\n      <th>51</th>\n      <td>2023</td>\n      <td>4</td>\n      <td>4</td>\n      <td>RSC Anderlecht</td>\n      <td>35</td>\n      <td>4</td>\n      <td>3</td>\n      <td>0</td>\n      <td>1</td>\n      <td>4</td>\n      <td>3</td>\n      <td>1</td>\n      <td>9</td>\n      <td>1</td>\n      <td>2</td>\n    </tr>\n    <tr>\n      <th>52</th>\n      <td>2023</td>\n      <td>4</td>\n      <td>5</td>\n      <td>Antwerp FC</td>\n      <td>1</td>\n      <td>4</td>\n      <td>2</td>\n      <td>1</td>\n      <td>1</td>\n      <td>8</td>\n      <td>2</td>\n      <td>6</td>\n      <td>7</td>\n      <td>6</td>\n      <td>3</td>\n    </tr>\n    <tr>\n      <th>...</th>\n      <td>...</td>\n      <td>...</td>\n      <td>...</td>\n      <td>...</td>\n      <td>...</td>\n      <td>...</td>\n      <td>...</td>\n      <td>...</td>\n      <td>...</td>\n      <td>...</td>\n      <td>...</td>\n      <td>...</td>\n      <td>...</td>\n      <td>...</td>\n      <td>...</td>\n    </tr>\n    <tr>\n      <th>2478</th>\n      <td>2019</td>\n      <td>12</td>\n      <td>3</td>\n      <td>Antwerp FC</td>\n      <td>1</td>\n      <td>12</td>\n      <td>7</td>\n      <td>2</td>\n      <td>3</td>\n      <td>26</td>\n      <td>17</td>\n      <td>9</td>\n      <td>23</td>\n      <td>9</td>\n      <td>5</td>\n    </tr>\n    <tr>\n      <th>2479</th>\n      <td>2019</td>\n      <td>12</td>\n      <td>4</td>\n      <td>KV Mechelen</td>\n      <td>25</td>\n      <td>12</td>\n      <td>7</td>\n      <td>2</td>\n      <td>3</td>\n      <td>22</td>\n      <td>18</td>\n      <td>4</td>\n      <td>23</td>\n      <td>4</td>\n      <td>6</td>\n    </tr>\n    <tr>\n      <th>2480</th>\n      <td>2019</td>\n      <td>12</td>\n      <td>5</td>\n      <td>KAA Gent</td>\n      <td>7</td>\n      <td>12</td>\n      <td>6</td>\n      <td>3</td>\n      <td>3</td>\n      <td>24</td>\n      <td>15</td>\n      <td>9</td>\n      <td>21</td>\n      <td>9</td>\n      <td>7</td>\n    </tr>\n    <tr>\n      <th>2481</th>\n      <td>2019</td>\n      <td>12</td>\n      <td>6</td>\n      <td>KRC Genk</td>\n      <td>322</td>\n      <td>12</td>\n      <td>6</td>\n      <td>2</td>\n      <td>4</td>\n      <td>19</td>\n      <td>15</td>\n      <td>4</td>\n      <td>20</td>\n      <td>4</td>\n      <td>8</td>\n    </tr>\n    <tr>\n      <th>2482</th>\n      <td>2019</td>\n      <td>12</td>\n      <td>7</td>\n      <td>Zulte Waregem</td>\n      <td>5381</td>\n      <td>12</td>\n      <td>5</td>\n      <td>4</td>\n      <td>3</td>\n      <td>20</td>\n      <td>14</td>\n      <td>6</td>\n      <td>19</td>\n      <td>6</td>\n      <td>9</td>\n    </tr>\n  </tbody>\n</table>\n<p>1000 rows × 15 columns</p>\n</div>"
     },
     "execution_count": 376,
     "metadata": {},
     "output_type": "execute_result"
    }
   ],
   "source": [
    "# Sorteer de DataFrame op basis van seizoen, speeldag, punten, aantal gewonnen wedstrijden, doelpuntenverschil en gemaakte doelpunten\n",
    "sorted_df = standings_df.sort_values(['seizoen', 'speeldag', 'punten', 'aantal_gewonnen', 'calculated_goal_verschil', 'doelpunten_voor'], ascending=[True, True, False, False, False, False])\n",
    "\n",
    "# Bereken de stand\n",
    "sorted_df['calculated_stand'] = sorted_df.groupby(['seizoen', 'speeldag']).cumcount() + 1\n",
    "\n",
    "# Pas de stand aan voor gelijke standen\n",
    "sorted_df['calculated_stand'] = sorted_df.groupby(['seizoen', 'speeldag', 'punten', 'aantal_gewonnen', 'calculated_goal_verschil', 'doelpunten_voor'])['calculated_stand'].transform('min')\n",
    "\n",
    "# Voeg de berekende stand toe aan de originele DataFrame\n",
    "standings_df = standings_df.merge(sorted_df[['seizoen', 'speeldag', 'id_ploeg', 'calculated_stand']], on=['seizoen', 'speeldag', 'id_ploeg'], how='left')\n",
    "\n",
    "# Controleer op discrepanties tussen de berekende en werkelijke stand\n",
    "discrepancies = standings_df[standings_df['stand'] != standings_df['calculated_stand']]\n",
    "discrepancies.head(1000)\n"
   ],
   "metadata": {
    "collapsed": false,
    "ExecuteTime": {
     "end_time": "2024-03-18T18:31:57.384734Z",
     "start_time": "2024-03-18T18:31:57.255536900Z"
    }
   }
  },
  {
   "cell_type": "code",
   "execution_count": 377,
   "outputs": [
    {
     "data": {
      "text/plain": "      seizoen  speeldag      datum      tijd  id_match  thuisploeg_stamnummer  \\\n21       2023         3 2023-08-13  16:00:00   4098800                   4276   \n356      2022        14 2022-10-23  18:30:00   3851182                     16   \n376      2022        17 2022-11-11  20:45:00   3851239                     18   \n380      2022        17 2022-11-12  20:45:00   3851244                     22   \n481      2022        28 2023-03-05  16:00:00   3851121                      1   \n...       ...       ...        ...       ...       ...                    ...   \n7650     1996        29 1997-04-05  20:00:00   3183694                     90   \n7820     1995        14 1995-10-28  20:00:00   3491975                     90   \n7822     1995        15 1995-11-03  20:00:00   3491977                     17   \n7879     1995        21 1996-01-27  20:00:00   3492034                    373   \n7897     1995        23 1996-02-10  20:00:00   3492052                     22   \n\n               thuisploeg  uitploeg_stamnummer           uitploeg  \\\n21              KAS Eupen                    3        Club Brugge   \n356         Standard Luik                   35     RSC Anderlecht   \n376   Oud-Heverlee Leuven                   17        RFC Seraing   \n380        R Charleroi SC                   25        KV Mechelen   \n481      Royal Antwerp FC                   25        KV Mechelen   \n...                   ...                  ...                ...   \n7650      Eendracht Aalst                 3530           Germinal   \n7820      Eendracht Aalst                  373  Sint-Truidense VV   \n7822          RFC Seraing                   90    Eendracht Aalst   \n7879    Sint-Truidense VV                   35     RSC Anderlecht   \n7897       R Charleroi SC                 1986    KFC Lommelse SK   \n\n      doelpunten_thuisploeg  doelpunten_uitploeg  same_as_previous_match  \n21                        0                    5                   False  \n356                       5                    0                   False  \n376                       5                    0                   False  \n380                       0                    5                   False  \n481                       5                    0                   False  \n...                     ...                  ...                     ...  \n7650                      5                    0                   False  \n7820                      0                    5                   False  \n7822                      5                    0                   False  \n7879                      0                    5                   False  \n7897                      5                    0                   False  \n\n[100 rows x 12 columns]",
      "text/html": "<div>\n<style scoped>\n    .dataframe tbody tr th:only-of-type {\n        vertical-align: middle;\n    }\n\n    .dataframe tbody tr th {\n        vertical-align: top;\n    }\n\n    .dataframe thead th {\n        text-align: right;\n    }\n</style>\n<table border=\"1\" class=\"dataframe\">\n  <thead>\n    <tr style=\"text-align: right;\">\n      <th></th>\n      <th>seizoen</th>\n      <th>speeldag</th>\n      <th>datum</th>\n      <th>tijd</th>\n      <th>id_match</th>\n      <th>thuisploeg_stamnummer</th>\n      <th>thuisploeg</th>\n      <th>uitploeg_stamnummer</th>\n      <th>uitploeg</th>\n      <th>doelpunten_thuisploeg</th>\n      <th>doelpunten_uitploeg</th>\n      <th>same_as_previous_match</th>\n    </tr>\n  </thead>\n  <tbody>\n    <tr>\n      <th>21</th>\n      <td>2023</td>\n      <td>3</td>\n      <td>2023-08-13</td>\n      <td>16:00:00</td>\n      <td>4098800</td>\n      <td>4276</td>\n      <td>KAS Eupen</td>\n      <td>3</td>\n      <td>Club Brugge</td>\n      <td>0</td>\n      <td>5</td>\n      <td>False</td>\n    </tr>\n    <tr>\n      <th>356</th>\n      <td>2022</td>\n      <td>14</td>\n      <td>2022-10-23</td>\n      <td>18:30:00</td>\n      <td>3851182</td>\n      <td>16</td>\n      <td>Standard Luik</td>\n      <td>35</td>\n      <td>RSC Anderlecht</td>\n      <td>5</td>\n      <td>0</td>\n      <td>False</td>\n    </tr>\n    <tr>\n      <th>376</th>\n      <td>2022</td>\n      <td>17</td>\n      <td>2022-11-11</td>\n      <td>20:45:00</td>\n      <td>3851239</td>\n      <td>18</td>\n      <td>Oud-Heverlee Leuven</td>\n      <td>17</td>\n      <td>RFC Seraing</td>\n      <td>5</td>\n      <td>0</td>\n      <td>False</td>\n    </tr>\n    <tr>\n      <th>380</th>\n      <td>2022</td>\n      <td>17</td>\n      <td>2022-11-12</td>\n      <td>20:45:00</td>\n      <td>3851244</td>\n      <td>22</td>\n      <td>R Charleroi SC</td>\n      <td>25</td>\n      <td>KV Mechelen</td>\n      <td>0</td>\n      <td>5</td>\n      <td>False</td>\n    </tr>\n    <tr>\n      <th>481</th>\n      <td>2022</td>\n      <td>28</td>\n      <td>2023-03-05</td>\n      <td>16:00:00</td>\n      <td>3851121</td>\n      <td>1</td>\n      <td>Royal Antwerp FC</td>\n      <td>25</td>\n      <td>KV Mechelen</td>\n      <td>5</td>\n      <td>0</td>\n      <td>False</td>\n    </tr>\n    <tr>\n      <th>...</th>\n      <td>...</td>\n      <td>...</td>\n      <td>...</td>\n      <td>...</td>\n      <td>...</td>\n      <td>...</td>\n      <td>...</td>\n      <td>...</td>\n      <td>...</td>\n      <td>...</td>\n      <td>...</td>\n      <td>...</td>\n    </tr>\n    <tr>\n      <th>7650</th>\n      <td>1996</td>\n      <td>29</td>\n      <td>1997-04-05</td>\n      <td>20:00:00</td>\n      <td>3183694</td>\n      <td>90</td>\n      <td>Eendracht Aalst</td>\n      <td>3530</td>\n      <td>Germinal</td>\n      <td>5</td>\n      <td>0</td>\n      <td>False</td>\n    </tr>\n    <tr>\n      <th>7820</th>\n      <td>1995</td>\n      <td>14</td>\n      <td>1995-10-28</td>\n      <td>20:00:00</td>\n      <td>3491975</td>\n      <td>90</td>\n      <td>Eendracht Aalst</td>\n      <td>373</td>\n      <td>Sint-Truidense VV</td>\n      <td>0</td>\n      <td>5</td>\n      <td>False</td>\n    </tr>\n    <tr>\n      <th>7822</th>\n      <td>1995</td>\n      <td>15</td>\n      <td>1995-11-03</td>\n      <td>20:00:00</td>\n      <td>3491977</td>\n      <td>17</td>\n      <td>RFC Seraing</td>\n      <td>90</td>\n      <td>Eendracht Aalst</td>\n      <td>5</td>\n      <td>0</td>\n      <td>False</td>\n    </tr>\n    <tr>\n      <th>7879</th>\n      <td>1995</td>\n      <td>21</td>\n      <td>1996-01-27</td>\n      <td>20:00:00</td>\n      <td>3492034</td>\n      <td>373</td>\n      <td>Sint-Truidense VV</td>\n      <td>35</td>\n      <td>RSC Anderlecht</td>\n      <td>0</td>\n      <td>5</td>\n      <td>False</td>\n    </tr>\n    <tr>\n      <th>7897</th>\n      <td>1995</td>\n      <td>23</td>\n      <td>1996-02-10</td>\n      <td>20:00:00</td>\n      <td>3492052</td>\n      <td>22</td>\n      <td>R Charleroi SC</td>\n      <td>1986</td>\n      <td>KFC Lommelse SK</td>\n      <td>5</td>\n      <td>0</td>\n      <td>False</td>\n    </tr>\n  </tbody>\n</table>\n<p>100 rows × 12 columns</p>\n</div>"
     },
     "execution_count": 377,
     "metadata": {},
     "output_type": "execute_result"
    }
   ],
   "source": [
    "filtered_matches = match_results_df[(match_results_df['doelpunten_thuisploeg'] == 5) & (match_results_df['doelpunten_uitploeg'] == 0) | (match_results_df['doelpunten_thuisploeg'] == 0) & (match_results_df['doelpunten_uitploeg'] == 5)]\n",
    "\n",
    "filtered_matches.head(100)"
   ],
   "metadata": {
    "collapsed": false,
    "ExecuteTime": {
     "end_time": "2024-03-18T18:31:57.426525300Z",
     "start_time": "2024-03-18T18:31:57.324703500Z"
    }
   }
  }
 ]
}
