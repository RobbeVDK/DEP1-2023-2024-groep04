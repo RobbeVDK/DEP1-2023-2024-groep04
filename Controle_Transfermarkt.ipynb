{
 "nbformat": 4,
 "nbformat_minor": 0,
 "metadata": {
  "colab": {
   "provenance": []
  },
  "kernelspec": {
   "name": "python3",
   "language": "python",
   "display_name": "Python 3 (ipykernel)"
  },
  "language_info": {
   "name": "python"
  }
 },
 "cells": [
  {
   "cell_type": "code",
   "execution_count": 45,
   "outputs": [],
   "source": [
    "import pandas as pd\n",
    "\n",
    "# Load CSV files\n",
    "match_results_df = pd.read_csv('csv/wedstrijden_onverwerkd.csv')\n",
    "goal_events_df = pd.read_csv('csv/doelpunten_onverwerkd.csv')\n",
    "standings_df = pd.read_csv('csv/klassement_onverwerkd.csv')\n",
    "\n",
    "goal_events_df = goal_events_df[goal_events_df['valid_goal'] == True]"
   ],
   "metadata": {
    "collapsed": false,
    "ExecuteTime": {
     "end_time": "2024-03-14T09:48:08.212696900Z",
     "start_time": "2024-03-14T09:48:08.201006Z"
    }
   }
  },
  {
   "cell_type": "code",
   "source": [
    "# Bereken goals\n",
    "goals_home_team = goal_events_df[goal_events_df['goal_team_stamnummer'] == goal_events_df['thuisploeg_stamnummer']].groupby('id_match').size()\n",
    "goals_away_team = goal_events_df[goal_events_df['goal_team_stamnummer'] == goal_events_df['uitploeg_stamnummer']].groupby('id_match').size()\n",
    "\n",
    "# Omzetting\n",
    "goals_home_team_df = goals_home_team.reset_index(name='calculated_doelpunten_thuisploeg')\n",
    "goals_away_team_df = goals_away_team.reset_index(name='calculated_doelpunten_uitploeg')\n",
    "\n",
    "# Vervang NaN values in goal kolom met 0\n",
    "merged_df = pd.merge(match_results_df, goals_home_team_df, on='id_match', how='outer')\n",
    "merged_df = pd.merge(merged_df, goals_away_team_df, on='id_match', how='outer')\n",
    "merged_df['calculated_doelpunten_thuisploeg'] = merged_df['calculated_doelpunten_thuisploeg'].fillna(0)\n",
    "merged_df['calculated_doelpunten_uitploeg'] = merged_df['calculated_doelpunten_uitploeg'].fillna(0)\n",
    "\n",
    "# Bereken verschil tussen berekening en resultaat\n",
    "discrepancies_goals = merged_df[\n",
    "    (merged_df['calculated_doelpunten_thuisploeg'] != merged_df['doelpunten_thuisploeg']) |\n",
    "    (merged_df['calculated_doelpunten_uitploeg'] != merged_df['doelpunten_uitploeg'])\n",
    "]\n",
    "\n",
    "# Select only relevant columns for display\n",
    "discrepancies_goals.head(50)"
   ],
   "metadata": {
    "colab": {
     "base_uri": "https://localhost:8080/",
     "height": 112
    },
    "id": "o2sprn5OdrMd",
    "outputId": "f94268b2-1596-43cb-f848-22639c5445c7",
    "ExecuteTime": {
     "end_time": "2024-03-14T09:48:08.246429900Z",
     "start_time": "2024-03-14T09:48:08.215697100Z"
    }
   },
   "execution_count": 46,
   "outputs": [
    {
     "data": {
      "text/plain": "    seizoen  speeldag       datum      tijd  id_match  thuisploeg_stamnummer  \\\n0      2020         1  2020/08/08  16:30:00   3413839                      3   \n1      2020         1  2020/08/08  19:00:00   3413840                      1   \n2      2020         1  2020/08/08  19:00:00   3413841                     16   \n3      2020         1  2020/08/09  13:30:00   3413842                    322   \n4      2020         1  2020/08/09  16:00:00   3413843                   2159   \n5      2020         1  2020/08/09  18:15:00   3413844                     25   \n6      2020         1  2020/08/09  20:45:00   3413845                     19   \n7      2020         1  2020/08/10  19:00:00   3413846                   2495   \n8      2020         1  2020/08/10  19:00:00   3413847                     31   \n9      2020         2  2020/08/14  19:00:00   3415245                    216   \n10     2020         2  2020/08/15  16:30:00   3415246                    290   \n11     2020         2  2020/08/15  19:00:00   3415247                      7   \n12     2020         2  2020/08/15  19:00:00   3415248                     29   \n13     2020         2  2020/08/16  13:30:00   3415249                     12   \n14     2020         2  2020/08/16  16:00:00   3415250                     13   \n15     2020         2  2020/08/16  16:00:00   3415251                   1792   \n16     2020         2  2020/08/16  18:15:00   3415252                     35   \n17     2020         2  2020/08/17  19:00:00   3415253                   1669   \n18     2020         3  2020/08/21  19:00:00   3415262                     19   \n19     2020         3  2020/08/22  16:15:00   3415260                   2159   \n20     2020         3  2020/08/22  18:30:00   3415256                     25   \n21     2020         3  2020/08/22  18:30:00   3415257                   2495   \n22     2020         3  2020/08/22  20:45:00   3415254                      1   \n23     2020         3  2020/08/23  13:30:00   3415259                     16   \n24     2020         3  2020/08/23  16:00:00   3415255                      3   \n25     2020         3  2020/08/23  18:15:00   3415258                     35   \n26     2020         3  2020/08/24  20:45:00   3415261                    322   \n27     2020         4  2020/08/28  20:45:00   3415267                     31   \n28     2020         4  2020/08/29  16:15:00   3415271                   1792   \n29     2020         4  2020/08/29  18:30:00   3415265                     12   \n30     2020         4  2020/08/29  18:30:00   3415270                   1669   \n31     2020         4  2020/08/29  20:45:00   3415268                    216   \n32     2020         4  2020/08/30  13:30:00   3415266                    290   \n33     2020         4  2020/08/30  16:00:00   3415264                     13   \n34     2020         4  2020/08/30  18:15:00   3415269                     29   \n35     2020         4  2020/08/30  20:45:00   3415263                      7   \n36     2020         5  2020/09/11  20:45:00   3415275                   1792   \n37     2020         5  2020/09/12  16:15:00   3415272                     25   \n38     2020         5  2020/09/12  18:30:00   3415277                   2495   \n39     2020         5  2020/09/12  20:45:00   3415274                      3   \n40     2020         5  2020/09/13  13:30:00   3415278                     35   \n41     2020         5  2020/09/13  16:00:00   3415279                    322   \n42     2020         5  2020/09/13  18:15:00   3415280                   2159   \n43     2020         5  2020/09/13  20:45:00   3415276                     19   \n44     2020         5  2020/09/14  20:45:00   3415273                     13   \n45     2020         6  2020/09/18  20:45:00   3415286                     29   \n46     2020         6  2020/09/19  16:15:00   3415285                     31   \n47     2020         6  2020/09/19  18:30:00   3415281                    216   \n48     2020         6  2020/09/19  20:45:00   3415289                   1669   \n49     2020         6  2020/09/20  13:30:00   3415288                   2159   \n\n                       thuisploeg  uitploeg_stamnummer  \\\n0                     Club Brugge                   29   \n1                    R Antwerp FC                  216   \n2                   Standard Luik                   12   \n3               Sint-Truidense VV                    7   \n4                SV Zulte Waregem                  290   \n5                     KV Mechelen                   35   \n6                     KV Kortrijk                 1669   \n7             Oud-Heverlee Leuven                 1792   \n8                     KV Oostende                   13   \n9   Royal Excel Moeskroen (-2022)                   25   \n10                       KRC Genk                 2495   \n11                       KAA Gent                   19   \n12                 R Charleroi SC                   31   \n13                  Cercle Brugge                    1   \n14                 Beerschot V.A.                 2159   \n15                      KAS Eupen                    3   \n16                 RSC Anderlecht                  322   \n17     KVRS Waasland - SK Beveren                   16   \n18                    KV Kortrijk                 1792   \n19               SV Zulte Waregem                 1669   \n20                    KV Mechelen                   12   \n21            Oud-Heverlee Leuven                   29   \n22                   R Antwerp FC                    7   \n23                  Standard Luik                  290   \n24                    Club Brugge                   13   \n25                 RSC Anderlecht                  216   \n26              Sint-Truidense VV                   31   \n27                    KV Oostende                   35   \n28                      KAS Eupen                  322   \n29                  Cercle Brugge                   19   \n30     KVRS Waasland - SK Beveren                 2495   \n31  Royal Excel Moeskroen (-2022)                 2159   \n32                       KRC Genk                    3   \n33                 Beerschot V.A.                   16   \n34                 R Charleroi SC                    1   \n35                       KAA Gent                   25   \n36                      KAS Eupen                    7   \n37                    KV Mechelen                   31   \n38            Oud-Heverlee Leuven                   16   \n39                    Club Brugge                 1669   \n40                 RSC Anderlecht                   12   \n41              Sint-Truidense VV                    1   \n42               SV Zulte Waregem                   29   \n43                    KV Kortrijk                  216   \n44                 Beerschot V.A.                  290   \n45                 R Charleroi SC                   13   \n46                    KV Oostende                 2495   \n47  Royal Excel Moeskroen (-2022)                    7   \n48     KVRS Waasland - SK Beveren                   35   \n49               SV Zulte Waregem                    3   \n\n                         uitploeg doelpunten_thuisploeg doelpunten_uitploeg  \\\n0                  R Charleroi SC                     0                   1   \n1   Royal Excel Moeskroen (-2022)                     1                   1   \n2                   Cercle Brugge                     1                   0   \n3                        KAA Gent                     2                   1   \n4                        KRC Genk                     1                   2   \n5                  RSC Anderlecht                     2                   2   \n6      KVRS Waasland - SK Beveren                     1                   3   \n7                       KAS Eupen                     1                   1   \n8                  Beerschot V.A.                     1                   2   \n9                     KV Mechelen                     0                   1   \n10            Oud-Heverlee Leuven                     1                   1   \n11                    KV Kortrijk                     1                   2   \n12                    KV Oostende                     1                   0   \n13                   R Antwerp FC                     2                   1   \n14               SV Zulte Waregem                     3                   1   \n15                    Club Brugge                     0                   4   \n16              Sint-Truidense VV                     3                   1   \n17                  Standard Luik                     1                   2   \n18                      KAS Eupen                     0                   0   \n19     KVRS Waasland - SK Beveren                     4                   1   \n20                  Cercle Brugge                     2                   3   \n21                 R Charleroi SC                     1                   3   \n22                       KAA Gent                     1                   0   \n23                       KRC Genk                     0                   0   \n24                 Beerschot V.A.                     0                   1   \n25  Royal Excel Moeskroen (-2022)                     1                   1   \n26                    KV Oostende                     0                   0   \n27                 RSC Anderlecht                     2                   2   \n28              Sint-Truidense VV                     1                   1   \n29                    KV Kortrijk                     0                   1   \n30            Oud-Heverlee Leuven                     1                   3   \n31               SV Zulte Waregem                     0                   1   \n32                    Club Brugge                     1                   2   \n33                  Standard Luik                     0                   3   \n34                   R Antwerp FC                     2                   0   \n35                    KV Mechelen                     1                   0   \n36                       KAA Gent                     2                   1   \n37                    KV Oostende                     0                   1   \n38                  Standard Luik                     1                   0   \n39     KVRS Waasland - SK Beveren                     4                   1   \n40                  Cercle Brugge                     2                   0   \n41                   R Antwerp FC                     2                   3   \n42                 R Charleroi SC                     0                   2   \n43  Royal Excel Moeskroen (-2022)                     3                   0   \n44                       KRC Genk                     5                   2   \n45                 Beerschot V.A.                     3                   1   \n46            Oud-Heverlee Leuven                     3                   1   \n47                       KAA Gent                     0                   1   \n48                 RSC Anderlecht                     2                   4   \n49                    Club Brugge                     0                   6   \n\n    calculated_doelpunten_thuisploeg  calculated_doelpunten_uitploeg  \n0                                0.0                             1.0  \n1                                1.0                             1.0  \n2                                1.0                             0.0  \n3                                2.0                             1.0  \n4                                1.0                             2.0  \n5                                2.0                             2.0  \n6                                1.0                             3.0  \n7                                1.0                             1.0  \n8                                1.0                             2.0  \n9                                0.0                             1.0  \n10                               1.0                             1.0  \n11                               1.0                             2.0  \n12                               1.0                             0.0  \n13                               2.0                             1.0  \n14                               3.0                             1.0  \n15                               0.0                             4.0  \n16                               3.0                             1.0  \n17                               1.0                             2.0  \n18                               0.0                             0.0  \n19                               4.0                             1.0  \n20                               2.0                             3.0  \n21                               1.0                             3.0  \n22                               1.0                             0.0  \n23                               0.0                             0.0  \n24                               0.0                             1.0  \n25                               1.0                             1.0  \n26                               0.0                             0.0  \n27                               2.0                             2.0  \n28                               1.0                             1.0  \n29                               0.0                             1.0  \n30                               1.0                             3.0  \n31                               0.0                             1.0  \n32                               1.0                             2.0  \n33                               0.0                             3.0  \n34                               2.0                             0.0  \n35                               1.0                             0.0  \n36                               2.0                             1.0  \n37                               0.0                             1.0  \n38                               1.0                             0.0  \n39                               4.0                             1.0  \n40                               2.0                             0.0  \n41                               2.0                             3.0  \n42                               0.0                             2.0  \n43                               3.0                             0.0  \n44                               5.0                             2.0  \n45                               3.0                             1.0  \n46                               3.0                             1.0  \n47                               0.0                             1.0  \n48                               2.0                             4.0  \n49                               0.0                             6.0  ",
      "text/html": "<div>\n<style scoped>\n    .dataframe tbody tr th:only-of-type {\n        vertical-align: middle;\n    }\n\n    .dataframe tbody tr th {\n        vertical-align: top;\n    }\n\n    .dataframe thead th {\n        text-align: right;\n    }\n</style>\n<table border=\"1\" class=\"dataframe\">\n  <thead>\n    <tr style=\"text-align: right;\">\n      <th></th>\n      <th>seizoen</th>\n      <th>speeldag</th>\n      <th>datum</th>\n      <th>tijd</th>\n      <th>id_match</th>\n      <th>thuisploeg_stamnummer</th>\n      <th>thuisploeg</th>\n      <th>uitploeg_stamnummer</th>\n      <th>uitploeg</th>\n      <th>doelpunten_thuisploeg</th>\n      <th>doelpunten_uitploeg</th>\n      <th>calculated_doelpunten_thuisploeg</th>\n      <th>calculated_doelpunten_uitploeg</th>\n    </tr>\n  </thead>\n  <tbody>\n    <tr>\n      <th>0</th>\n      <td>2020</td>\n      <td>1</td>\n      <td>2020/08/08</td>\n      <td>16:30:00</td>\n      <td>3413839</td>\n      <td>3</td>\n      <td>Club Brugge</td>\n      <td>29</td>\n      <td>R Charleroi SC</td>\n      <td>0</td>\n      <td>1</td>\n      <td>0.0</td>\n      <td>1.0</td>\n    </tr>\n    <tr>\n      <th>1</th>\n      <td>2020</td>\n      <td>1</td>\n      <td>2020/08/08</td>\n      <td>19:00:00</td>\n      <td>3413840</td>\n      <td>1</td>\n      <td>R Antwerp FC</td>\n      <td>216</td>\n      <td>Royal Excel Moeskroen (-2022)</td>\n      <td>1</td>\n      <td>1</td>\n      <td>1.0</td>\n      <td>1.0</td>\n    </tr>\n    <tr>\n      <th>2</th>\n      <td>2020</td>\n      <td>1</td>\n      <td>2020/08/08</td>\n      <td>19:00:00</td>\n      <td>3413841</td>\n      <td>16</td>\n      <td>Standard Luik</td>\n      <td>12</td>\n      <td>Cercle Brugge</td>\n      <td>1</td>\n      <td>0</td>\n      <td>1.0</td>\n      <td>0.0</td>\n    </tr>\n    <tr>\n      <th>3</th>\n      <td>2020</td>\n      <td>1</td>\n      <td>2020/08/09</td>\n      <td>13:30:00</td>\n      <td>3413842</td>\n      <td>322</td>\n      <td>Sint-Truidense VV</td>\n      <td>7</td>\n      <td>KAA Gent</td>\n      <td>2</td>\n      <td>1</td>\n      <td>2.0</td>\n      <td>1.0</td>\n    </tr>\n    <tr>\n      <th>4</th>\n      <td>2020</td>\n      <td>1</td>\n      <td>2020/08/09</td>\n      <td>16:00:00</td>\n      <td>3413843</td>\n      <td>2159</td>\n      <td>SV Zulte Waregem</td>\n      <td>290</td>\n      <td>KRC Genk</td>\n      <td>1</td>\n      <td>2</td>\n      <td>1.0</td>\n      <td>2.0</td>\n    </tr>\n    <tr>\n      <th>5</th>\n      <td>2020</td>\n      <td>1</td>\n      <td>2020/08/09</td>\n      <td>18:15:00</td>\n      <td>3413844</td>\n      <td>25</td>\n      <td>KV Mechelen</td>\n      <td>35</td>\n      <td>RSC Anderlecht</td>\n      <td>2</td>\n      <td>2</td>\n      <td>2.0</td>\n      <td>2.0</td>\n    </tr>\n    <tr>\n      <th>6</th>\n      <td>2020</td>\n      <td>1</td>\n      <td>2020/08/09</td>\n      <td>20:45:00</td>\n      <td>3413845</td>\n      <td>19</td>\n      <td>KV Kortrijk</td>\n      <td>1669</td>\n      <td>KVRS Waasland - SK Beveren</td>\n      <td>1</td>\n      <td>3</td>\n      <td>1.0</td>\n      <td>3.0</td>\n    </tr>\n    <tr>\n      <th>7</th>\n      <td>2020</td>\n      <td>1</td>\n      <td>2020/08/10</td>\n      <td>19:00:00</td>\n      <td>3413846</td>\n      <td>2495</td>\n      <td>Oud-Heverlee Leuven</td>\n      <td>1792</td>\n      <td>KAS Eupen</td>\n      <td>1</td>\n      <td>1</td>\n      <td>1.0</td>\n      <td>1.0</td>\n    </tr>\n    <tr>\n      <th>8</th>\n      <td>2020</td>\n      <td>1</td>\n      <td>2020/08/10</td>\n      <td>19:00:00</td>\n      <td>3413847</td>\n      <td>31</td>\n      <td>KV Oostende</td>\n      <td>13</td>\n      <td>Beerschot V.A.</td>\n      <td>1</td>\n      <td>2</td>\n      <td>1.0</td>\n      <td>2.0</td>\n    </tr>\n    <tr>\n      <th>9</th>\n      <td>2020</td>\n      <td>2</td>\n      <td>2020/08/14</td>\n      <td>19:00:00</td>\n      <td>3415245</td>\n      <td>216</td>\n      <td>Royal Excel Moeskroen (-2022)</td>\n      <td>25</td>\n      <td>KV Mechelen</td>\n      <td>0</td>\n      <td>1</td>\n      <td>0.0</td>\n      <td>1.0</td>\n    </tr>\n    <tr>\n      <th>10</th>\n      <td>2020</td>\n      <td>2</td>\n      <td>2020/08/15</td>\n      <td>16:30:00</td>\n      <td>3415246</td>\n      <td>290</td>\n      <td>KRC Genk</td>\n      <td>2495</td>\n      <td>Oud-Heverlee Leuven</td>\n      <td>1</td>\n      <td>1</td>\n      <td>1.0</td>\n      <td>1.0</td>\n    </tr>\n    <tr>\n      <th>11</th>\n      <td>2020</td>\n      <td>2</td>\n      <td>2020/08/15</td>\n      <td>19:00:00</td>\n      <td>3415247</td>\n      <td>7</td>\n      <td>KAA Gent</td>\n      <td>19</td>\n      <td>KV Kortrijk</td>\n      <td>1</td>\n      <td>2</td>\n      <td>1.0</td>\n      <td>2.0</td>\n    </tr>\n    <tr>\n      <th>12</th>\n      <td>2020</td>\n      <td>2</td>\n      <td>2020/08/15</td>\n      <td>19:00:00</td>\n      <td>3415248</td>\n      <td>29</td>\n      <td>R Charleroi SC</td>\n      <td>31</td>\n      <td>KV Oostende</td>\n      <td>1</td>\n      <td>0</td>\n      <td>1.0</td>\n      <td>0.0</td>\n    </tr>\n    <tr>\n      <th>13</th>\n      <td>2020</td>\n      <td>2</td>\n      <td>2020/08/16</td>\n      <td>13:30:00</td>\n      <td>3415249</td>\n      <td>12</td>\n      <td>Cercle Brugge</td>\n      <td>1</td>\n      <td>R Antwerp FC</td>\n      <td>2</td>\n      <td>1</td>\n      <td>2.0</td>\n      <td>1.0</td>\n    </tr>\n    <tr>\n      <th>14</th>\n      <td>2020</td>\n      <td>2</td>\n      <td>2020/08/16</td>\n      <td>16:00:00</td>\n      <td>3415250</td>\n      <td>13</td>\n      <td>Beerschot V.A.</td>\n      <td>2159</td>\n      <td>SV Zulte Waregem</td>\n      <td>3</td>\n      <td>1</td>\n      <td>3.0</td>\n      <td>1.0</td>\n    </tr>\n    <tr>\n      <th>15</th>\n      <td>2020</td>\n      <td>2</td>\n      <td>2020/08/16</td>\n      <td>16:00:00</td>\n      <td>3415251</td>\n      <td>1792</td>\n      <td>KAS Eupen</td>\n      <td>3</td>\n      <td>Club Brugge</td>\n      <td>0</td>\n      <td>4</td>\n      <td>0.0</td>\n      <td>4.0</td>\n    </tr>\n    <tr>\n      <th>16</th>\n      <td>2020</td>\n      <td>2</td>\n      <td>2020/08/16</td>\n      <td>18:15:00</td>\n      <td>3415252</td>\n      <td>35</td>\n      <td>RSC Anderlecht</td>\n      <td>322</td>\n      <td>Sint-Truidense VV</td>\n      <td>3</td>\n      <td>1</td>\n      <td>3.0</td>\n      <td>1.0</td>\n    </tr>\n    <tr>\n      <th>17</th>\n      <td>2020</td>\n      <td>2</td>\n      <td>2020/08/17</td>\n      <td>19:00:00</td>\n      <td>3415253</td>\n      <td>1669</td>\n      <td>KVRS Waasland - SK Beveren</td>\n      <td>16</td>\n      <td>Standard Luik</td>\n      <td>1</td>\n      <td>2</td>\n      <td>1.0</td>\n      <td>2.0</td>\n    </tr>\n    <tr>\n      <th>18</th>\n      <td>2020</td>\n      <td>3</td>\n      <td>2020/08/21</td>\n      <td>19:00:00</td>\n      <td>3415262</td>\n      <td>19</td>\n      <td>KV Kortrijk</td>\n      <td>1792</td>\n      <td>KAS Eupen</td>\n      <td>0</td>\n      <td>0</td>\n      <td>0.0</td>\n      <td>0.0</td>\n    </tr>\n    <tr>\n      <th>19</th>\n      <td>2020</td>\n      <td>3</td>\n      <td>2020/08/22</td>\n      <td>16:15:00</td>\n      <td>3415260</td>\n      <td>2159</td>\n      <td>SV Zulte Waregem</td>\n      <td>1669</td>\n      <td>KVRS Waasland - SK Beveren</td>\n      <td>4</td>\n      <td>1</td>\n      <td>4.0</td>\n      <td>1.0</td>\n    </tr>\n    <tr>\n      <th>20</th>\n      <td>2020</td>\n      <td>3</td>\n      <td>2020/08/22</td>\n      <td>18:30:00</td>\n      <td>3415256</td>\n      <td>25</td>\n      <td>KV Mechelen</td>\n      <td>12</td>\n      <td>Cercle Brugge</td>\n      <td>2</td>\n      <td>3</td>\n      <td>2.0</td>\n      <td>3.0</td>\n    </tr>\n    <tr>\n      <th>21</th>\n      <td>2020</td>\n      <td>3</td>\n      <td>2020/08/22</td>\n      <td>18:30:00</td>\n      <td>3415257</td>\n      <td>2495</td>\n      <td>Oud-Heverlee Leuven</td>\n      <td>29</td>\n      <td>R Charleroi SC</td>\n      <td>1</td>\n      <td>3</td>\n      <td>1.0</td>\n      <td>3.0</td>\n    </tr>\n    <tr>\n      <th>22</th>\n      <td>2020</td>\n      <td>3</td>\n      <td>2020/08/22</td>\n      <td>20:45:00</td>\n      <td>3415254</td>\n      <td>1</td>\n      <td>R Antwerp FC</td>\n      <td>7</td>\n      <td>KAA Gent</td>\n      <td>1</td>\n      <td>0</td>\n      <td>1.0</td>\n      <td>0.0</td>\n    </tr>\n    <tr>\n      <th>23</th>\n      <td>2020</td>\n      <td>3</td>\n      <td>2020/08/23</td>\n      <td>13:30:00</td>\n      <td>3415259</td>\n      <td>16</td>\n      <td>Standard Luik</td>\n      <td>290</td>\n      <td>KRC Genk</td>\n      <td>0</td>\n      <td>0</td>\n      <td>0.0</td>\n      <td>0.0</td>\n    </tr>\n    <tr>\n      <th>24</th>\n      <td>2020</td>\n      <td>3</td>\n      <td>2020/08/23</td>\n      <td>16:00:00</td>\n      <td>3415255</td>\n      <td>3</td>\n      <td>Club Brugge</td>\n      <td>13</td>\n      <td>Beerschot V.A.</td>\n      <td>0</td>\n      <td>1</td>\n      <td>0.0</td>\n      <td>1.0</td>\n    </tr>\n    <tr>\n      <th>25</th>\n      <td>2020</td>\n      <td>3</td>\n      <td>2020/08/23</td>\n      <td>18:15:00</td>\n      <td>3415258</td>\n      <td>35</td>\n      <td>RSC Anderlecht</td>\n      <td>216</td>\n      <td>Royal Excel Moeskroen (-2022)</td>\n      <td>1</td>\n      <td>1</td>\n      <td>1.0</td>\n      <td>1.0</td>\n    </tr>\n    <tr>\n      <th>26</th>\n      <td>2020</td>\n      <td>3</td>\n      <td>2020/08/24</td>\n      <td>20:45:00</td>\n      <td>3415261</td>\n      <td>322</td>\n      <td>Sint-Truidense VV</td>\n      <td>31</td>\n      <td>KV Oostende</td>\n      <td>0</td>\n      <td>0</td>\n      <td>0.0</td>\n      <td>0.0</td>\n    </tr>\n    <tr>\n      <th>27</th>\n      <td>2020</td>\n      <td>4</td>\n      <td>2020/08/28</td>\n      <td>20:45:00</td>\n      <td>3415267</td>\n      <td>31</td>\n      <td>KV Oostende</td>\n      <td>35</td>\n      <td>RSC Anderlecht</td>\n      <td>2</td>\n      <td>2</td>\n      <td>2.0</td>\n      <td>2.0</td>\n    </tr>\n    <tr>\n      <th>28</th>\n      <td>2020</td>\n      <td>4</td>\n      <td>2020/08/29</td>\n      <td>16:15:00</td>\n      <td>3415271</td>\n      <td>1792</td>\n      <td>KAS Eupen</td>\n      <td>322</td>\n      <td>Sint-Truidense VV</td>\n      <td>1</td>\n      <td>1</td>\n      <td>1.0</td>\n      <td>1.0</td>\n    </tr>\n    <tr>\n      <th>29</th>\n      <td>2020</td>\n      <td>4</td>\n      <td>2020/08/29</td>\n      <td>18:30:00</td>\n      <td>3415265</td>\n      <td>12</td>\n      <td>Cercle Brugge</td>\n      <td>19</td>\n      <td>KV Kortrijk</td>\n      <td>0</td>\n      <td>1</td>\n      <td>0.0</td>\n      <td>1.0</td>\n    </tr>\n    <tr>\n      <th>30</th>\n      <td>2020</td>\n      <td>4</td>\n      <td>2020/08/29</td>\n      <td>18:30:00</td>\n      <td>3415270</td>\n      <td>1669</td>\n      <td>KVRS Waasland - SK Beveren</td>\n      <td>2495</td>\n      <td>Oud-Heverlee Leuven</td>\n      <td>1</td>\n      <td>3</td>\n      <td>1.0</td>\n      <td>3.0</td>\n    </tr>\n    <tr>\n      <th>31</th>\n      <td>2020</td>\n      <td>4</td>\n      <td>2020/08/29</td>\n      <td>20:45:00</td>\n      <td>3415268</td>\n      <td>216</td>\n      <td>Royal Excel Moeskroen (-2022)</td>\n      <td>2159</td>\n      <td>SV Zulte Waregem</td>\n      <td>0</td>\n      <td>1</td>\n      <td>0.0</td>\n      <td>1.0</td>\n    </tr>\n    <tr>\n      <th>32</th>\n      <td>2020</td>\n      <td>4</td>\n      <td>2020/08/30</td>\n      <td>13:30:00</td>\n      <td>3415266</td>\n      <td>290</td>\n      <td>KRC Genk</td>\n      <td>3</td>\n      <td>Club Brugge</td>\n      <td>1</td>\n      <td>2</td>\n      <td>1.0</td>\n      <td>2.0</td>\n    </tr>\n    <tr>\n      <th>33</th>\n      <td>2020</td>\n      <td>4</td>\n      <td>2020/08/30</td>\n      <td>16:00:00</td>\n      <td>3415264</td>\n      <td>13</td>\n      <td>Beerschot V.A.</td>\n      <td>16</td>\n      <td>Standard Luik</td>\n      <td>0</td>\n      <td>3</td>\n      <td>0.0</td>\n      <td>3.0</td>\n    </tr>\n    <tr>\n      <th>34</th>\n      <td>2020</td>\n      <td>4</td>\n      <td>2020/08/30</td>\n      <td>18:15:00</td>\n      <td>3415269</td>\n      <td>29</td>\n      <td>R Charleroi SC</td>\n      <td>1</td>\n      <td>R Antwerp FC</td>\n      <td>2</td>\n      <td>0</td>\n      <td>2.0</td>\n      <td>0.0</td>\n    </tr>\n    <tr>\n      <th>35</th>\n      <td>2020</td>\n      <td>4</td>\n      <td>2020/08/30</td>\n      <td>20:45:00</td>\n      <td>3415263</td>\n      <td>7</td>\n      <td>KAA Gent</td>\n      <td>25</td>\n      <td>KV Mechelen</td>\n      <td>1</td>\n      <td>0</td>\n      <td>1.0</td>\n      <td>0.0</td>\n    </tr>\n    <tr>\n      <th>36</th>\n      <td>2020</td>\n      <td>5</td>\n      <td>2020/09/11</td>\n      <td>20:45:00</td>\n      <td>3415275</td>\n      <td>1792</td>\n      <td>KAS Eupen</td>\n      <td>7</td>\n      <td>KAA Gent</td>\n      <td>2</td>\n      <td>1</td>\n      <td>2.0</td>\n      <td>1.0</td>\n    </tr>\n    <tr>\n      <th>37</th>\n      <td>2020</td>\n      <td>5</td>\n      <td>2020/09/12</td>\n      <td>16:15:00</td>\n      <td>3415272</td>\n      <td>25</td>\n      <td>KV Mechelen</td>\n      <td>31</td>\n      <td>KV Oostende</td>\n      <td>0</td>\n      <td>1</td>\n      <td>0.0</td>\n      <td>1.0</td>\n    </tr>\n    <tr>\n      <th>38</th>\n      <td>2020</td>\n      <td>5</td>\n      <td>2020/09/12</td>\n      <td>18:30:00</td>\n      <td>3415277</td>\n      <td>2495</td>\n      <td>Oud-Heverlee Leuven</td>\n      <td>16</td>\n      <td>Standard Luik</td>\n      <td>1</td>\n      <td>0</td>\n      <td>1.0</td>\n      <td>0.0</td>\n    </tr>\n    <tr>\n      <th>39</th>\n      <td>2020</td>\n      <td>5</td>\n      <td>2020/09/12</td>\n      <td>20:45:00</td>\n      <td>3415274</td>\n      <td>3</td>\n      <td>Club Brugge</td>\n      <td>1669</td>\n      <td>KVRS Waasland - SK Beveren</td>\n      <td>4</td>\n      <td>1</td>\n      <td>4.0</td>\n      <td>1.0</td>\n    </tr>\n    <tr>\n      <th>40</th>\n      <td>2020</td>\n      <td>5</td>\n      <td>2020/09/13</td>\n      <td>13:30:00</td>\n      <td>3415278</td>\n      <td>35</td>\n      <td>RSC Anderlecht</td>\n      <td>12</td>\n      <td>Cercle Brugge</td>\n      <td>2</td>\n      <td>0</td>\n      <td>2.0</td>\n      <td>0.0</td>\n    </tr>\n    <tr>\n      <th>41</th>\n      <td>2020</td>\n      <td>5</td>\n      <td>2020/09/13</td>\n      <td>16:00:00</td>\n      <td>3415279</td>\n      <td>322</td>\n      <td>Sint-Truidense VV</td>\n      <td>1</td>\n      <td>R Antwerp FC</td>\n      <td>2</td>\n      <td>3</td>\n      <td>2.0</td>\n      <td>3.0</td>\n    </tr>\n    <tr>\n      <th>42</th>\n      <td>2020</td>\n      <td>5</td>\n      <td>2020/09/13</td>\n      <td>18:15:00</td>\n      <td>3415280</td>\n      <td>2159</td>\n      <td>SV Zulte Waregem</td>\n      <td>29</td>\n      <td>R Charleroi SC</td>\n      <td>0</td>\n      <td>2</td>\n      <td>0.0</td>\n      <td>2.0</td>\n    </tr>\n    <tr>\n      <th>43</th>\n      <td>2020</td>\n      <td>5</td>\n      <td>2020/09/13</td>\n      <td>20:45:00</td>\n      <td>3415276</td>\n      <td>19</td>\n      <td>KV Kortrijk</td>\n      <td>216</td>\n      <td>Royal Excel Moeskroen (-2022)</td>\n      <td>3</td>\n      <td>0</td>\n      <td>3.0</td>\n      <td>0.0</td>\n    </tr>\n    <tr>\n      <th>44</th>\n      <td>2020</td>\n      <td>5</td>\n      <td>2020/09/14</td>\n      <td>20:45:00</td>\n      <td>3415273</td>\n      <td>13</td>\n      <td>Beerschot V.A.</td>\n      <td>290</td>\n      <td>KRC Genk</td>\n      <td>5</td>\n      <td>2</td>\n      <td>5.0</td>\n      <td>2.0</td>\n    </tr>\n    <tr>\n      <th>45</th>\n      <td>2020</td>\n      <td>6</td>\n      <td>2020/09/18</td>\n      <td>20:45:00</td>\n      <td>3415286</td>\n      <td>29</td>\n      <td>R Charleroi SC</td>\n      <td>13</td>\n      <td>Beerschot V.A.</td>\n      <td>3</td>\n      <td>1</td>\n      <td>3.0</td>\n      <td>1.0</td>\n    </tr>\n    <tr>\n      <th>46</th>\n      <td>2020</td>\n      <td>6</td>\n      <td>2020/09/19</td>\n      <td>16:15:00</td>\n      <td>3415285</td>\n      <td>31</td>\n      <td>KV Oostende</td>\n      <td>2495</td>\n      <td>Oud-Heverlee Leuven</td>\n      <td>3</td>\n      <td>1</td>\n      <td>3.0</td>\n      <td>1.0</td>\n    </tr>\n    <tr>\n      <th>47</th>\n      <td>2020</td>\n      <td>6</td>\n      <td>2020/09/19</td>\n      <td>18:30:00</td>\n      <td>3415281</td>\n      <td>216</td>\n      <td>Royal Excel Moeskroen (-2022)</td>\n      <td>7</td>\n      <td>KAA Gent</td>\n      <td>0</td>\n      <td>1</td>\n      <td>0.0</td>\n      <td>1.0</td>\n    </tr>\n    <tr>\n      <th>48</th>\n      <td>2020</td>\n      <td>6</td>\n      <td>2020/09/19</td>\n      <td>20:45:00</td>\n      <td>3415289</td>\n      <td>1669</td>\n      <td>KVRS Waasland - SK Beveren</td>\n      <td>35</td>\n      <td>RSC Anderlecht</td>\n      <td>2</td>\n      <td>4</td>\n      <td>2.0</td>\n      <td>4.0</td>\n    </tr>\n    <tr>\n      <th>49</th>\n      <td>2020</td>\n      <td>6</td>\n      <td>2020/09/20</td>\n      <td>13:30:00</td>\n      <td>3415288</td>\n      <td>2159</td>\n      <td>SV Zulte Waregem</td>\n      <td>3</td>\n      <td>Club Brugge</td>\n      <td>0</td>\n      <td>6</td>\n      <td>0.0</td>\n      <td>6.0</td>\n    </tr>\n  </tbody>\n</table>\n</div>"
     },
     "execution_count": 46,
     "metadata": {},
     "output_type": "execute_result"
    }
   ]
  },
  {
   "cell_type": "code",
   "execution_count": 47,
   "outputs": [
    {
     "ename": "AttributeError",
     "evalue": "'DataFrame' object has no attribute 'dag'",
     "output_type": "error",
     "traceback": [
      "\u001B[1;31m---------------------------------------------------------------------------\u001B[0m",
      "\u001B[1;31mAttributeError\u001B[0m                            Traceback (most recent call last)",
      "\u001B[1;32m~\\AppData\\Local\\Temp\\ipykernel_10812\\2154743705.py\u001B[0m in \u001B[0;36m?\u001B[1;34m()\u001B[0m\n\u001B[0;32m      1\u001B[0m \u001B[1;31m# controle van aantal_wedstrijden\u001B[0m\u001B[1;33m\u001B[0m\u001B[1;33m\u001B[0m\u001B[0m\n\u001B[0;32m      2\u001B[0m \u001B[1;31m# Geen enkel record met meer wedstrijden dan speeldagen\u001B[0m\u001B[1;33m\u001B[0m\u001B[1;33m\u001B[0m\u001B[0m\n\u001B[1;32m----> 3\u001B[1;33m \u001B[0mnumber_of_games_check\u001B[0m \u001B[1;33m=\u001B[0m \u001B[0mstandings_df\u001B[0m\u001B[1;33m[\u001B[0m\u001B[0mstandings_df\u001B[0m\u001B[1;33m.\u001B[0m\u001B[0mdag\u001B[0m \u001B[1;33m<\u001B[0m \u001B[0mstandings_df\u001B[0m\u001B[1;33m.\u001B[0m\u001B[0maantal_wedstrijden\u001B[0m\u001B[1;33m]\u001B[0m\u001B[1;33m\u001B[0m\u001B[1;33m\u001B[0m\u001B[0m\n\u001B[0m\u001B[0;32m      4\u001B[0m \u001B[0mnumber_of_games_check\u001B[0m\u001B[1;33m.\u001B[0m\u001B[0mhead\u001B[0m\u001B[1;33m(\u001B[0m\u001B[1;36m30\u001B[0m\u001B[1;33m)\u001B[0m\u001B[1;33m\u001B[0m\u001B[1;33m\u001B[0m\u001B[0m\n",
      "\u001B[1;32m~\\Documents\\School\\DEP\\DEP1-2023-2024-groep04\\venv\\Lib\\site-packages\\pandas\\core\\generic.py\u001B[0m in \u001B[0;36m?\u001B[1;34m(self, name)\u001B[0m\n\u001B[0;32m   5898\u001B[0m             \u001B[1;32mand\u001B[0m \u001B[0mname\u001B[0m \u001B[1;32mnot\u001B[0m \u001B[1;32min\u001B[0m \u001B[0mself\u001B[0m\u001B[1;33m.\u001B[0m\u001B[0m_accessors\u001B[0m\u001B[1;33m\u001B[0m\u001B[1;33m\u001B[0m\u001B[0m\n\u001B[0;32m   5899\u001B[0m             \u001B[1;32mand\u001B[0m \u001B[0mself\u001B[0m\u001B[1;33m.\u001B[0m\u001B[0m_info_axis\u001B[0m\u001B[1;33m.\u001B[0m\u001B[0m_can_hold_identifiers_and_holds_name\u001B[0m\u001B[1;33m(\u001B[0m\u001B[0mname\u001B[0m\u001B[1;33m)\u001B[0m\u001B[1;33m\u001B[0m\u001B[1;33m\u001B[0m\u001B[0m\n\u001B[0;32m   5900\u001B[0m         ):\n\u001B[0;32m   5901\u001B[0m             \u001B[1;32mreturn\u001B[0m \u001B[0mself\u001B[0m\u001B[1;33m[\u001B[0m\u001B[0mname\u001B[0m\u001B[1;33m]\u001B[0m\u001B[1;33m\u001B[0m\u001B[1;33m\u001B[0m\u001B[0m\n\u001B[1;32m-> 5902\u001B[1;33m         \u001B[1;32mreturn\u001B[0m \u001B[0mobject\u001B[0m\u001B[1;33m.\u001B[0m\u001B[0m__getattribute__\u001B[0m\u001B[1;33m(\u001B[0m\u001B[0mself\u001B[0m\u001B[1;33m,\u001B[0m \u001B[0mname\u001B[0m\u001B[1;33m)\u001B[0m\u001B[1;33m\u001B[0m\u001B[1;33m\u001B[0m\u001B[0m\n\u001B[0m",
      "\u001B[1;31mAttributeError\u001B[0m: 'DataFrame' object has no attribute 'dag'"
     ]
    }
   ],
   "source": [
    "# controle van aantal_wedstrijden\n",
    "# Geen enkel record met meer wedstrijden dan speeldagen\n",
    "number_of_games_check = standings_df[standings_df.dag < standings_df.aantal_wedstrijden]\n",
    "number_of_games_check.head(30)"
   ],
   "metadata": {
    "collapsed": false,
    "ExecuteTime": {
     "end_time": "2024-03-14T09:48:08.246429900Z",
     "start_time": "2024-03-14T09:48:08.235488700Z"
    }
   }
  },
  {
   "cell_type": "code",
   "execution_count": null,
   "outputs": [],
   "source": [
    "# controle van aantal_wedstrijden\n",
    "# wel records met minder wedstrijden dan speeldagen, maar bij nazicht van een aantal records klopt dit\n",
    "controle_aantal_wedstrijden = standings_df[standings_df.Day > standings_df.Played]\n",
    "controle_aantal_wedstrijden.Season.value_counts()"
   ],
   "metadata": {
    "collapsed": false,
    "ExecuteTime": {
     "start_time": "2024-03-14T09:48:08.245428500Z"
    }
   }
  },
  {
   "cell_type": "code",
   "execution_count": null,
   "outputs": [],
   "source": [
    "# geen records met standings_df.Played != (standings_df.Wins + standings_df.Losses + standings_df.Draws\n",
    "controle_aantal_wedstrijden = standings_df[standings_df.Played != (standings_df.Wins + standings_df.Losses + standings_df.Draws)]\n",
    "controle_aantal_wedstrijden.count()"
   ],
   "metadata": {
    "collapsed": false,
    "ExecuteTime": {
     "start_time": "2024-03-14T09:48:08.246429900Z"
    }
   }
  },
  {
   "cell_type": "code",
   "execution_count": null,
   "outputs": [],
   "source": [
    "# Split the 'Goals' column into two separate columns\n",
    "standings_df[['Goals_Scored', 'Goals_Conceded']] = standings_df['Goals'].str.split(':', expand=True)\n",
    "\n",
    "standings_df['Goals_Scored'] = pd.to_numeric(standings_df['Goals_Scored'])\n",
    "standings_df['Goals_Conceded'] = pd.to_numeric(standings_df['Goals_Conceded'])\n",
    "\n",
    "# geen records met (uitslagen.doelpunten_voor - uitslagen.doelpunten_tegen) != (uitslagen.verschil)\n",
    "standings_df['Calculated_Goal_Difference'] = standings_df['Goals_Scored'] - standings_df['Goals_Conceded']\n",
    "controle_aantal_wedstrijden = standings_df[standings_df['Calculated_Goal_Difference'] != standings_df['Goal_Difference']]\n",
    "controle_aantal_wedstrijden.count()"
   ],
   "metadata": {
    "collapsed": false,
    "ExecuteTime": {
     "end_time": "2024-03-14T09:48:08.248429Z",
     "start_time": "2024-03-14T09:48:08.247428900Z"
    }
   }
  },
  {
   "cell_type": "code",
   "execution_count": null,
   "outputs": [],
   "source": [
    "# lijnen zoeken waarvoor punten geen : bevat (seizoen 1964 + vanaf 1995)\n",
    "controle_klassement = standings_df[(standings_df.Goals.str.count(':') == 0)]\n",
    "controle_klassement.head()"
   ],
   "metadata": {
    "collapsed": false,
    "ExecuteTime": {
     "start_time": "2024-03-14T09:48:08.249428900Z"
    }
   }
  },
  {
   "cell_type": "code",
   "execution_count": null,
   "outputs": [],
   "source": [
    "# het totaal aantal gewonnen matchen per seizoen en per ploeg\n",
    "points_df = standings_df.groupby(['Season','Day','Club Number', 'Points'])[['Wins','Draws','Losses']].sum()\n",
    "points_df = points_df.reset_index()\n",
    "points_df = points_df.sort_values(['Season','Day','Wins','Draws','Losses'], ascending = [True, True, False, False, False])\n",
    "points_df.head(30)"
   ],
   "metadata": {
    "collapsed": false,
    "ExecuteTime": {
     "start_time": "2024-03-14T09:48:08.250429800Z"
    }
   }
  },
  {
   "cell_type": "code",
   "execution_count": null,
   "outputs": [],
   "source": [
    "points_df['Points_Check'] = points_df['Wins'] * 3 + points_df['Draws'] + points_df['Losses'] * 0\n",
    "discrepancies_df = points_df[points_df['Points'] != points_df['Points_Check']]\n",
    "discrepancies_df.head(30)"
   ],
   "metadata": {
    "collapsed": false,
    "ExecuteTime": {
     "end_time": "2024-03-14T09:48:08.265592700Z",
     "start_time": "2024-03-14T09:48:08.251430400Z"
    }
   }
  },
  {
   "cell_type": "code",
   "execution_count": null,
   "outputs": [],
   "source": [
    "match_results_df['date'] = pd.to_datetime(match_results_df['date'])\n",
    "goal_events_df['date'] = pd.to_datetime(goal_events_df['date'])\n",
    "\n",
    "merged_df = pd.merge(goal_events_df, match_results_df, on='match_id', suffixes=('_goal', '_match'))\n",
    "\n",
    "# Check for discrepancies in dates\n",
    "date_discrepancies_df = merged_df[merged_df['date_goal'] != merged_df['date_match']]\n",
    "date_discrepancies_df.head(30)"
   ],
   "metadata": {
    "collapsed": false,
    "ExecuteTime": {
     "start_time": "2024-03-14T09:48:08.253431200Z"
    }
   }
  },
  {
   "cell_type": "code",
   "execution_count": null,
   "outputs": [],
   "source": [
    "# Groepeer de gegevens op 'Day' en controleer de datums\n",
    "sorted_dates = match_results_df.sort_values(by=['day', 'date'])\n",
    "date_discrepancies_df = sorted_dates.groupby('day')['date'].apply(lambda x: x.is_monotonic_increasing)\n",
    "\n",
    "date_discrepancies_df = date_discrepancies_df[date_discrepancies_df == False]\n",
    "date_discrepancies_df.head(30)\n"
   ],
   "metadata": {
    "collapsed": false,
    "ExecuteTime": {
     "start_time": "2024-03-14T09:48:08.254429Z"
    }
   }
  },
  {
   "cell_type": "code",
   "execution_count": null,
   "outputs": [],
   "source": [
    "# Sorting the data by season, day, and date\n",
    "sorted_dates = match_results_df.sort_values(by=['season', 'day', 'date'])\n",
    "\n",
    "# Group by 'season' and 'day', and check if dates are in chronological order within each group\n",
    "grouped = sorted_dates.groupby(['season', 'day'])\n",
    "date_order_check = grouped['date'].apply(lambda x: x.is_monotonic_increasing)\n",
    "\n",
    "# Identifying seasons and days where dates are not in chronological order\n",
    "date_discrepancies = date_order_check[date_order_check == False]\n",
    "date_discrepancies.head(30)"
   ],
   "metadata": {
    "collapsed": false,
    "ExecuteTime": {
     "start_time": "2024-03-14T09:48:08.255430600Z"
    }
   }
  },
  {
   "cell_type": "code",
   "execution_count": null,
   "outputs": [],
   "source": [
    "# Filter matches that ended 0-0\n",
    "matches_0_0 = match_results_df[(match_results_df['result_home_team'] == 0) & (match_results_df['result_away_team'] == 0)]\n",
    "\n",
    "# Get match_ids of 0-0 matches\n",
    "match_ids_0_0 = matches_0_0['match_id']\n",
    "\n",
    "# Check if these matches have any goals in goal_events.csv\n",
    "goals_in_0_0_matches = goal_events_df[goal_events_df['match_id'].isin(match_ids_0_0)]\n",
    "goals_in_0_0_matches.head(30)"
   ],
   "metadata": {
    "collapsed": false,
    "ExecuteTime": {
     "start_time": "2024-03-14T09:48:08.256430Z"
    }
   }
  },
  {
   "cell_type": "code",
   "execution_count": null,
   "outputs": [],
   "source": [
    "# Splits de 'Goals' kolom in 'Goals_Scored' en 'Goals_Conceded'\n",
    "standings_df[['Goals_Scored', 'Goals_Conceded']] = standings_df['Goals'].str.split(':', expand=True)\n",
    "standings_df['Goals_Scored'] = pd.to_numeric(standings_df['Goals_Scored'])\n",
    "standings_df['Goals_Conceded'] = pd.to_numeric(standings_df['Goals_Conceded'])\n",
    "\n",
    "# Bereken de 'Goal_Difference'\n",
    "standings_df['Calculated_Goal_Difference'] = standings_df['Goals_Scored'] - standings_df['Goals_Conceded']\n",
    "\n",
    "# Sorteer elke groep en reset index\n",
    "sorted_df = standings_df.sort_values(['Season', 'Day', 'Points', 'Wins', 'Calculated_Goal_Difference', 'Goals_Scored'], ascending=[True, True, False, False, False, False])\n",
    "\n",
    "# Voeg een kolom toe voor de berekende rank\n",
    "sorted_df['Calculated_Rank'] = sorted_df.groupby(['Season', 'Day']).cumcount() + 1\n",
    "\n",
    "# Voeg de berekende rank toe aan de originele DataFrame\n",
    "standings_df = standings_df.merge(sorted_df[['Season', 'Day', 'Club', 'Calculated_Rank']], on=['Season', 'Day', 'Club'])\n",
    "\n",
    "# Controleer op discrepanties\n",
    "discrepancies = standings_df[standings_df['Rank'] != standings_df['Calculated_Rank']]\n",
    "discrepancies.head()\n"
   ],
   "metadata": {
    "collapsed": false,
    "ExecuteTime": {
     "start_time": "2024-03-14T09:48:08.257442100Z"
    }
   }
  }
 ]
}
