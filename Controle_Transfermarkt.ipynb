{
 "nbformat": 4,
 "nbformat_minor": 0,
 "metadata": {
  "colab": {
   "provenance": []
  },
  "kernelspec": {
   "name": "python3",
   "language": "python",
   "display_name": "Python 3 (ipykernel)"
  },
  "language_info": {
   "name": "python"
  }
 },
 "cells": [
  {
   "cell_type": "code",
   "execution_count": 347,
   "outputs": [],
   "source": [
    "import pandas as pd\n",
    "\n",
    "# Load CSV files\n",
    "match_results_df = pd.read_csv('csv/match_results.csv')\n",
    "goal_events_df = pd.read_csv('csv/goal_events_verwerkt.csv')\n",
    "standings_df = pd.read_csv('csv/standings.csv')\n",
    "\n",
    "team_name_mapping = {\n",
    "    'Antwerp FC': 'R Antwerp FC',\n",
    "    'Cercle': 'Cercle Brugge',\n",
    "    'Club Brugge': 'Club Brugge',\n",
    "    'Eupen': 'KAS Eupen',\n",
    "    'FCB': 'Club Brugge',\n",
    "    'Genk': 'KRC Genk',\n",
    "    'Gent': 'KAA Gent',\n",
    "    'KAA Gent': 'KAA Gent',\n",
    "    'KAS Eupen': 'KAS Eupen',\n",
    "    'KV Kortrijk': 'KV Kortrijk',\n",
    "    'KV Mechelen': 'KV Mechelen',\n",
    "    'KVC Westerlo': 'KVC Westerlo',\n",
    "    'KVCWes': 'KVC Westerlo',\n",
    "    'KVK': 'KV Kortrijk',\n",
    "    'KVM': 'KV Mechelen',\n",
    "    'OH Leuven': 'Oud-Heverlee Leuven',\n",
    "    'OHL': 'Oud-Heverlee Leuven',\n",
    "    'R Charleroi SC': 'R Charleroi SC',\n",
    "    'RAFC': 'R Antwerp FC',\n",
    "    'RCSC': 'R Charleroi SC',\n",
    "    'RSC Anderlecht': 'RSC Anderlecht',\n",
    "    'RSCA': 'RSC Anderlecht',\n",
    "    'RUSG': 'Union Saint-Gilloise',\n",
    "    'RWDM': 'RWD Molenbeek',\n",
    "    'SL': 'Standard Luik',\n",
    "    'STVV': 'Sint-Truidense VV',\n",
    "    'St-Truidense VV': 'Sint-Truidense VV',\n",
    "    'Standard Luik': 'Standard Luik',\n",
    "    'Union SG': 'Union Saint-Gilloise'\n",
    "}\n",
    "\n",
    "goal_events_df = goal_events_df[goal_events_df['valid_goal'] == True]"
   ],
   "metadata": {
    "collapsed": false,
    "ExecuteTime": {
     "end_time": "2024-03-14T01:43:33.538164500Z",
     "start_time": "2024-03-14T01:43:33.520252600Z"
    }
   }
  },
  {
   "cell_type": "code",
   "source": [
    "# Calculate goals for home and away teams\n",
    "goals_home_team = goal_events_df[goal_events_df['goal_team'] == goal_events_df['home_team']].groupby('match_id').size()\n",
    "goals_away_team = goal_events_df[goal_events_df['goal_team'] == goal_events_df['away_team']].groupby('match_id').size()\n",
    "\n",
    "# Convert Series to DataFrame and reset index\n",
    "goals_home_team_df = goals_home_team.reset_index(name='calculated_goals_home_team')\n",
    "goals_away_team_df = goals_away_team.reset_index(name='calculated_goals_away_team')\n",
    "\n",
    "# Replace NaN values in goal columns with 0\n",
    "merged_df = pd.merge(match_results_df, goals_home_team_df, on='match_id', how='outer')\n",
    "merged_df = pd.merge(merged_df, goals_away_team_df, on='match_id', how='outer')\n",
    "merged_df['calculated_goals_home_team'] = merged_df['calculated_goals_home_team'].fillna(0)\n",
    "merged_df['calculated_goals_away_team'] = merged_df['calculated_goals_away_team'].fillna(0)\n",
    "\n",
    "\n",
    "# Calculate discrepancies in goals vs result\n",
    "discrepancies = merged_df[\n",
    "    (merged_df['calculated_goals_home_team'] != merged_df['result_home_team']) |\n",
    "    (merged_df['calculated_goals_away_team'] != merged_df['result_away_team'])\n",
    "]\n",
    "\n",
    "# Select only relevant columns for display\n",
    "discrepancies = discrepancies[['date', 'match_id', 'home_team', 'away_team', 'calculated_goals_home_team', 'result_home_team', 'calculated_goals_away_team', 'result_away_team']]\n",
    "discrepancies.head(50)"
   ],
   "metadata": {
    "colab": {
     "base_uri": "https://localhost:8080/",
     "height": 112
    },
    "id": "o2sprn5OdrMd",
    "outputId": "f94268b2-1596-43cb-f848-22639c5445c7",
    "ExecuteTime": {
     "end_time": "2024-03-14T01:43:33.561743300Z",
     "start_time": "2024-03-14T01:43:33.531165700Z"
    }
   },
   "execution_count": 348,
   "outputs": [
    {
     "data": {
      "text/plain": "           date  match_id       home_team    away_team  \\\n132  2007/12/08     79993      FC Brussel     KRC Genk   \n154  2008/01/19     80019  RSC Anderlecht  KV Mechelen   \n\n     calculated_goals_home_team  result_home_team  calculated_goals_away_team  \\\n132                         0.0                 0                         0.0   \n154                         0.0                 1                         1.0   \n\n     result_away_team  \n132                 5  \n154                 0  ",
      "text/html": "<div>\n<style scoped>\n    .dataframe tbody tr th:only-of-type {\n        vertical-align: middle;\n    }\n\n    .dataframe tbody tr th {\n        vertical-align: top;\n    }\n\n    .dataframe thead th {\n        text-align: right;\n    }\n</style>\n<table border=\"1\" class=\"dataframe\">\n  <thead>\n    <tr style=\"text-align: right;\">\n      <th></th>\n      <th>date</th>\n      <th>match_id</th>\n      <th>home_team</th>\n      <th>away_team</th>\n      <th>calculated_goals_home_team</th>\n      <th>result_home_team</th>\n      <th>calculated_goals_away_team</th>\n      <th>result_away_team</th>\n    </tr>\n  </thead>\n  <tbody>\n    <tr>\n      <th>132</th>\n      <td>2007/12/08</td>\n      <td>79993</td>\n      <td>FC Brussel</td>\n      <td>KRC Genk</td>\n      <td>0.0</td>\n      <td>0</td>\n      <td>0.0</td>\n      <td>5</td>\n    </tr>\n    <tr>\n      <th>154</th>\n      <td>2008/01/19</td>\n      <td>80019</td>\n      <td>RSC Anderlecht</td>\n      <td>KV Mechelen</td>\n      <td>0.0</td>\n      <td>1</td>\n      <td>1.0</td>\n      <td>0</td>\n    </tr>\n  </tbody>\n</table>\n</div>"
     },
     "execution_count": 348,
     "metadata": {},
     "output_type": "execute_result"
    }
   ]
  },
  {
   "cell_type": "code",
   "execution_count": 349,
   "outputs": [
    {
     "data": {
      "text/plain": "Empty DataFrame\nColumns: [Rank, Club, Club Number, Played, Wins, Draws, Losses, Goals, Goal_Difference, Points, Season, Day]\nIndex: []",
      "text/html": "<div>\n<style scoped>\n    .dataframe tbody tr th:only-of-type {\n        vertical-align: middle;\n    }\n\n    .dataframe tbody tr th {\n        vertical-align: top;\n    }\n\n    .dataframe thead th {\n        text-align: right;\n    }\n</style>\n<table border=\"1\" class=\"dataframe\">\n  <thead>\n    <tr style=\"text-align: right;\">\n      <th></th>\n      <th>Rank</th>\n      <th>Club</th>\n      <th>Club Number</th>\n      <th>Played</th>\n      <th>Wins</th>\n      <th>Draws</th>\n      <th>Losses</th>\n      <th>Goals</th>\n      <th>Goal_Difference</th>\n      <th>Points</th>\n      <th>Season</th>\n      <th>Day</th>\n    </tr>\n  </thead>\n  <tbody>\n  </tbody>\n</table>\n</div>"
     },
     "execution_count": 349,
     "metadata": {},
     "output_type": "execute_result"
    }
   ],
   "source": [
    "# controle van aantal_wedstrijden\n",
    "# Geen enkel record met meer wedstrijden dan speeldagen\n",
    "controle_aantal_wedstrijden = standings_df[standings_df.Day < standings_df.Played]\n",
    "controle_aantal_wedstrijden.head(30)"
   ],
   "metadata": {
    "collapsed": false,
    "ExecuteTime": {
     "end_time": "2024-03-14T01:43:33.616207400Z",
     "start_time": "2024-03-14T01:43:33.543999700Z"
    }
   }
  },
  {
   "cell_type": "code",
   "execution_count": 350,
   "outputs": [
    {
     "data": {
      "text/plain": "Series([], Name: Season, dtype: int64)"
     },
     "execution_count": 350,
     "metadata": {},
     "output_type": "execute_result"
    }
   ],
   "source": [
    "# controle van aantal_wedstrijden\n",
    "# wel records met minder wedstrijden dan speeldagen, maar bij nazicht van een aantal records klopt dit\n",
    "controle_aantal_wedstrijden = standings_df[standings_df.Day > standings_df.Played]\n",
    "controle_aantal_wedstrijden.Season.value_counts()"
   ],
   "metadata": {
    "collapsed": false,
    "ExecuteTime": {
     "end_time": "2024-03-14T01:43:33.616827800Z",
     "start_time": "2024-03-14T01:43:33.551052500Z"
    }
   }
  },
  {
   "cell_type": "code",
   "execution_count": 351,
   "outputs": [
    {
     "data": {
      "text/plain": "Rank               0\nClub               0\nClub Number        0\nPlayed             0\nWins               0\nDraws              0\nLosses             0\nGoals              0\nGoal_Difference    0\nPoints             0\nSeason             0\nDay                0\ndtype: int64"
     },
     "execution_count": 351,
     "metadata": {},
     "output_type": "execute_result"
    }
   ],
   "source": [
    "# geen records met standings_df.Played != (standings_df.Wins + standings_df.Losses + standings_df.Draws\n",
    "controle_aantal_wedstrijden = standings_df[standings_df.Played != (standings_df.Wins + standings_df.Losses + standings_df.Draws)]\n",
    "controle_aantal_wedstrijden.count()"
   ],
   "metadata": {
    "collapsed": false,
    "ExecuteTime": {
     "end_time": "2024-03-14T01:43:33.616827800Z",
     "start_time": "2024-03-14T01:43:33.556342700Z"
    }
   }
  },
  {
   "cell_type": "code",
   "execution_count": 352,
   "outputs": [
    {
     "data": {
      "text/plain": "Rank                          0\nClub                          0\nClub Number                   0\nPlayed                        0\nWins                          0\nDraws                         0\nLosses                        0\nGoals                         0\nGoal_Difference               0\nPoints                        0\nSeason                        0\nDay                           0\nGoals_Scored                  0\nGoals_Conceded                0\nCalculated_Goal_Difference    0\ndtype: int64"
     },
     "execution_count": 352,
     "metadata": {},
     "output_type": "execute_result"
    }
   ],
   "source": [
    "# Split the 'Goals' column into two separate columns\n",
    "standings_df[['Goals_Scored', 'Goals_Conceded']] = standings_df['Goals'].str.split(':', expand=True)\n",
    "\n",
    "standings_df['Goals_Scored'] = pd.to_numeric(standings_df['Goals_Scored'])\n",
    "standings_df['Goals_Conceded'] = pd.to_numeric(standings_df['Goals_Conceded'])\n",
    "\n",
    "# geen records met (uitslagen.doelpunten_voor - uitslagen.doelpunten_tegen) != (uitslagen.verschil)\n",
    "standings_df['Calculated_Goal_Difference'] = standings_df['Goals_Scored'] - standings_df['Goals_Conceded']\n",
    "controle_aantal_wedstrijden = standings_df[standings_df['Calculated_Goal_Difference'] != standings_df['Goal_Difference']]\n",
    "controle_aantal_wedstrijden.count()"
   ],
   "metadata": {
    "collapsed": false,
    "ExecuteTime": {
     "end_time": "2024-03-14T01:43:33.632256900Z",
     "start_time": "2024-03-14T01:43:33.561743300Z"
    }
   }
  },
  {
   "cell_type": "code",
   "execution_count": 353,
   "outputs": [
    {
     "data": {
      "text/plain": "Empty DataFrame\nColumns: [Rank, Club, Club Number, Played, Wins, Draws, Losses, Goals, Goal_Difference, Points, Season, Day, Goals_Scored, Goals_Conceded, Calculated_Goal_Difference]\nIndex: []",
      "text/html": "<div>\n<style scoped>\n    .dataframe tbody tr th:only-of-type {\n        vertical-align: middle;\n    }\n\n    .dataframe tbody tr th {\n        vertical-align: top;\n    }\n\n    .dataframe thead th {\n        text-align: right;\n    }\n</style>\n<table border=\"1\" class=\"dataframe\">\n  <thead>\n    <tr style=\"text-align: right;\">\n      <th></th>\n      <th>Rank</th>\n      <th>Club</th>\n      <th>Club Number</th>\n      <th>Played</th>\n      <th>Wins</th>\n      <th>Draws</th>\n      <th>Losses</th>\n      <th>Goals</th>\n      <th>Goal_Difference</th>\n      <th>Points</th>\n      <th>Season</th>\n      <th>Day</th>\n      <th>Goals_Scored</th>\n      <th>Goals_Conceded</th>\n      <th>Calculated_Goal_Difference</th>\n    </tr>\n  </thead>\n  <tbody>\n  </tbody>\n</table>\n</div>"
     },
     "execution_count": 353,
     "metadata": {},
     "output_type": "execute_result"
    }
   ],
   "source": [
    "# lijnen zoeken waarvoor punten geen : bevat (seizoen 1964 + vanaf 1995)\n",
    "controle_klassement = standings_df[(standings_df.Goals.str.count(':') == 0)]\n",
    "controle_klassement.head()"
   ],
   "metadata": {
    "collapsed": false,
    "ExecuteTime": {
     "end_time": "2024-03-14T01:43:33.632256900Z",
     "start_time": "2024-03-14T01:43:33.569903800Z"
    }
   }
  },
  {
   "cell_type": "code",
   "execution_count": 354,
   "outputs": [
    {
     "data": {
      "text/plain": "    Season  Day      Club Number  Points  Wins  Draws  Losses\n2     2007    1               16       3     1      0       0\n5     2007    1              290       3     1      0       0\n6     2007    1                3       3     1      0       0\n7     2007    1               35       3     1      0       0\n9     2007    1                7       3     1      0       0\n10    2007    1              867       3     1      0       0\n13    2007    1  Germ. Beerschot       3     1      0       0\n14    2007    1      KSC Lokeren       3     1      0       0\n1     2007    1              134       1     0      1       0\n15    2007    1   R Charleroi SC       1     0      1       0\n0     2007    1               12       0     0      0       1\n3     2007    1             1611       0     0      0       1\n4     2007    1               25       0     0      0       1\n8     2007    1               44       0     0      0       1\n11    2007    1    Exc. Mouscron       0     0      0       1\n12    2007    1       FC Brussel       0     0      0       1\n16    2007    1  St-Truidense VV       0     0      0       1\n17    2007    1    Zulte Waregem       0     0      0       1\n20    2007    2               16       6     2      0       0\n24    2007    2                3       6     2      0       0\n25    2007    2               35       6     2      0       0\n27    2007    2                7       6     2      0       0\n28    2007    2              867       6     2      0       0\n19    2007    2              134       4     1      1       0\n18    2007    2               12       3     1      0       1\n23    2007    2              290       3     1      0       1\n29    2007    2    Exc. Mouscron       3     1      0       1\n31    2007    2  Germ. Beerschot       3     1      0       1\n32    2007    2      KSC Lokeren       3     1      0       1\n22    2007    2               25       1     0      1       1",
      "text/html": "<div>\n<style scoped>\n    .dataframe tbody tr th:only-of-type {\n        vertical-align: middle;\n    }\n\n    .dataframe tbody tr th {\n        vertical-align: top;\n    }\n\n    .dataframe thead th {\n        text-align: right;\n    }\n</style>\n<table border=\"1\" class=\"dataframe\">\n  <thead>\n    <tr style=\"text-align: right;\">\n      <th></th>\n      <th>Season</th>\n      <th>Day</th>\n      <th>Club Number</th>\n      <th>Points</th>\n      <th>Wins</th>\n      <th>Draws</th>\n      <th>Losses</th>\n    </tr>\n  </thead>\n  <tbody>\n    <tr>\n      <th>2</th>\n      <td>2007</td>\n      <td>1</td>\n      <td>16</td>\n      <td>3</td>\n      <td>1</td>\n      <td>0</td>\n      <td>0</td>\n    </tr>\n    <tr>\n      <th>5</th>\n      <td>2007</td>\n      <td>1</td>\n      <td>290</td>\n      <td>3</td>\n      <td>1</td>\n      <td>0</td>\n      <td>0</td>\n    </tr>\n    <tr>\n      <th>6</th>\n      <td>2007</td>\n      <td>1</td>\n      <td>3</td>\n      <td>3</td>\n      <td>1</td>\n      <td>0</td>\n      <td>0</td>\n    </tr>\n    <tr>\n      <th>7</th>\n      <td>2007</td>\n      <td>1</td>\n      <td>35</td>\n      <td>3</td>\n      <td>1</td>\n      <td>0</td>\n      <td>0</td>\n    </tr>\n    <tr>\n      <th>9</th>\n      <td>2007</td>\n      <td>1</td>\n      <td>7</td>\n      <td>3</td>\n      <td>1</td>\n      <td>0</td>\n      <td>0</td>\n    </tr>\n    <tr>\n      <th>10</th>\n      <td>2007</td>\n      <td>1</td>\n      <td>867</td>\n      <td>3</td>\n      <td>1</td>\n      <td>0</td>\n      <td>0</td>\n    </tr>\n    <tr>\n      <th>13</th>\n      <td>2007</td>\n      <td>1</td>\n      <td>Germ. Beerschot</td>\n      <td>3</td>\n      <td>1</td>\n      <td>0</td>\n      <td>0</td>\n    </tr>\n    <tr>\n      <th>14</th>\n      <td>2007</td>\n      <td>1</td>\n      <td>KSC Lokeren</td>\n      <td>3</td>\n      <td>1</td>\n      <td>0</td>\n      <td>0</td>\n    </tr>\n    <tr>\n      <th>1</th>\n      <td>2007</td>\n      <td>1</td>\n      <td>134</td>\n      <td>1</td>\n      <td>0</td>\n      <td>1</td>\n      <td>0</td>\n    </tr>\n    <tr>\n      <th>15</th>\n      <td>2007</td>\n      <td>1</td>\n      <td>R Charleroi SC</td>\n      <td>1</td>\n      <td>0</td>\n      <td>1</td>\n      <td>0</td>\n    </tr>\n    <tr>\n      <th>0</th>\n      <td>2007</td>\n      <td>1</td>\n      <td>12</td>\n      <td>0</td>\n      <td>0</td>\n      <td>0</td>\n      <td>1</td>\n    </tr>\n    <tr>\n      <th>3</th>\n      <td>2007</td>\n      <td>1</td>\n      <td>1611</td>\n      <td>0</td>\n      <td>0</td>\n      <td>0</td>\n      <td>1</td>\n    </tr>\n    <tr>\n      <th>4</th>\n      <td>2007</td>\n      <td>1</td>\n      <td>25</td>\n      <td>0</td>\n      <td>0</td>\n      <td>0</td>\n      <td>1</td>\n    </tr>\n    <tr>\n      <th>8</th>\n      <td>2007</td>\n      <td>1</td>\n      <td>44</td>\n      <td>0</td>\n      <td>0</td>\n      <td>0</td>\n      <td>1</td>\n    </tr>\n    <tr>\n      <th>11</th>\n      <td>2007</td>\n      <td>1</td>\n      <td>Exc. Mouscron</td>\n      <td>0</td>\n      <td>0</td>\n      <td>0</td>\n      <td>1</td>\n    </tr>\n    <tr>\n      <th>12</th>\n      <td>2007</td>\n      <td>1</td>\n      <td>FC Brussel</td>\n      <td>0</td>\n      <td>0</td>\n      <td>0</td>\n      <td>1</td>\n    </tr>\n    <tr>\n      <th>16</th>\n      <td>2007</td>\n      <td>1</td>\n      <td>St-Truidense VV</td>\n      <td>0</td>\n      <td>0</td>\n      <td>0</td>\n      <td>1</td>\n    </tr>\n    <tr>\n      <th>17</th>\n      <td>2007</td>\n      <td>1</td>\n      <td>Zulte Waregem</td>\n      <td>0</td>\n      <td>0</td>\n      <td>0</td>\n      <td>1</td>\n    </tr>\n    <tr>\n      <th>20</th>\n      <td>2007</td>\n      <td>2</td>\n      <td>16</td>\n      <td>6</td>\n      <td>2</td>\n      <td>0</td>\n      <td>0</td>\n    </tr>\n    <tr>\n      <th>24</th>\n      <td>2007</td>\n      <td>2</td>\n      <td>3</td>\n      <td>6</td>\n      <td>2</td>\n      <td>0</td>\n      <td>0</td>\n    </tr>\n    <tr>\n      <th>25</th>\n      <td>2007</td>\n      <td>2</td>\n      <td>35</td>\n      <td>6</td>\n      <td>2</td>\n      <td>0</td>\n      <td>0</td>\n    </tr>\n    <tr>\n      <th>27</th>\n      <td>2007</td>\n      <td>2</td>\n      <td>7</td>\n      <td>6</td>\n      <td>2</td>\n      <td>0</td>\n      <td>0</td>\n    </tr>\n    <tr>\n      <th>28</th>\n      <td>2007</td>\n      <td>2</td>\n      <td>867</td>\n      <td>6</td>\n      <td>2</td>\n      <td>0</td>\n      <td>0</td>\n    </tr>\n    <tr>\n      <th>19</th>\n      <td>2007</td>\n      <td>2</td>\n      <td>134</td>\n      <td>4</td>\n      <td>1</td>\n      <td>1</td>\n      <td>0</td>\n    </tr>\n    <tr>\n      <th>18</th>\n      <td>2007</td>\n      <td>2</td>\n      <td>12</td>\n      <td>3</td>\n      <td>1</td>\n      <td>0</td>\n      <td>1</td>\n    </tr>\n    <tr>\n      <th>23</th>\n      <td>2007</td>\n      <td>2</td>\n      <td>290</td>\n      <td>3</td>\n      <td>1</td>\n      <td>0</td>\n      <td>1</td>\n    </tr>\n    <tr>\n      <th>29</th>\n      <td>2007</td>\n      <td>2</td>\n      <td>Exc. Mouscron</td>\n      <td>3</td>\n      <td>1</td>\n      <td>0</td>\n      <td>1</td>\n    </tr>\n    <tr>\n      <th>31</th>\n      <td>2007</td>\n      <td>2</td>\n      <td>Germ. Beerschot</td>\n      <td>3</td>\n      <td>1</td>\n      <td>0</td>\n      <td>1</td>\n    </tr>\n    <tr>\n      <th>32</th>\n      <td>2007</td>\n      <td>2</td>\n      <td>KSC Lokeren</td>\n      <td>3</td>\n      <td>1</td>\n      <td>0</td>\n      <td>1</td>\n    </tr>\n    <tr>\n      <th>22</th>\n      <td>2007</td>\n      <td>2</td>\n      <td>25</td>\n      <td>1</td>\n      <td>0</td>\n      <td>1</td>\n      <td>1</td>\n    </tr>\n  </tbody>\n</table>\n</div>"
     },
     "execution_count": 354,
     "metadata": {},
     "output_type": "execute_result"
    }
   ],
   "source": [
    "# het totaal aantal gewonnen matchen per seizoen en per ploeg\n",
    "points_df = standings_df.groupby(['Season','Day','Club Number', 'Points'])[['Wins','Draws','Losses']].sum()\n",
    "points_df = points_df.reset_index()\n",
    "points_df = points_df.sort_values(['Season','Day','Wins','Draws','Losses'], ascending = [True, True, False, False, False])\n",
    "points_df.head(30)"
   ],
   "metadata": {
    "collapsed": false,
    "ExecuteTime": {
     "end_time": "2024-03-14T01:43:33.633257500Z",
     "start_time": "2024-03-14T01:43:33.576330400Z"
    }
   }
  },
  {
   "cell_type": "code",
   "execution_count": 355,
   "outputs": [
    {
     "data": {
      "text/plain": "Empty DataFrame\nColumns: [Season, Day, Club Number, Points, Wins, Draws, Losses, Points_Check]\nIndex: []",
      "text/html": "<div>\n<style scoped>\n    .dataframe tbody tr th:only-of-type {\n        vertical-align: middle;\n    }\n\n    .dataframe tbody tr th {\n        vertical-align: top;\n    }\n\n    .dataframe thead th {\n        text-align: right;\n    }\n</style>\n<table border=\"1\" class=\"dataframe\">\n  <thead>\n    <tr style=\"text-align: right;\">\n      <th></th>\n      <th>Season</th>\n      <th>Day</th>\n      <th>Club Number</th>\n      <th>Points</th>\n      <th>Wins</th>\n      <th>Draws</th>\n      <th>Losses</th>\n      <th>Points_Check</th>\n    </tr>\n  </thead>\n  <tbody>\n  </tbody>\n</table>\n</div>"
     },
     "execution_count": 355,
     "metadata": {},
     "output_type": "execute_result"
    }
   ],
   "source": [
    "points_df['Points_Check'] = points_df['Wins'] * 3 + points_df['Draws'] + points_df['Losses'] * 0\n",
    "discrepancies_df = points_df[points_df['Points'] != points_df['Points_Check']]\n",
    "discrepancies_df.head(30)"
   ],
   "metadata": {
    "collapsed": false,
    "ExecuteTime": {
     "end_time": "2024-03-14T01:43:33.633257500Z",
     "start_time": "2024-03-14T01:43:33.588621500Z"
    }
   }
  },
  {
   "cell_type": "code",
   "execution_count": 356,
   "outputs": [
    {
     "data": {
      "text/plain": "Empty DataFrame\nColumns: [date_goal, time_goal, home_team_goal, home_team_number_goal, away_team_goal, away_team_number_goal, goal_team, goal_time, result_home_team_goal, result_away_team_goal, valid_goal, season_goal, day_goal, match_id, real_time_goal, date_match, time_match, home_team_match, home_team_number_match, result_home_team_match, result_away_team_match, away_team_match, away_team_number_match, season_match, day_match]\nIndex: []\n\n[0 rows x 25 columns]",
      "text/html": "<div>\n<style scoped>\n    .dataframe tbody tr th:only-of-type {\n        vertical-align: middle;\n    }\n\n    .dataframe tbody tr th {\n        vertical-align: top;\n    }\n\n    .dataframe thead th {\n        text-align: right;\n    }\n</style>\n<table border=\"1\" class=\"dataframe\">\n  <thead>\n    <tr style=\"text-align: right;\">\n      <th></th>\n      <th>date_goal</th>\n      <th>time_goal</th>\n      <th>home_team_goal</th>\n      <th>home_team_number_goal</th>\n      <th>away_team_goal</th>\n      <th>away_team_number_goal</th>\n      <th>goal_team</th>\n      <th>goal_time</th>\n      <th>result_home_team_goal</th>\n      <th>result_away_team_goal</th>\n      <th>...</th>\n      <th>date_match</th>\n      <th>time_match</th>\n      <th>home_team_match</th>\n      <th>home_team_number_match</th>\n      <th>result_home_team_match</th>\n      <th>result_away_team_match</th>\n      <th>away_team_match</th>\n      <th>away_team_number_match</th>\n      <th>season_match</th>\n      <th>day_match</th>\n    </tr>\n  </thead>\n  <tbody>\n  </tbody>\n</table>\n<p>0 rows × 25 columns</p>\n</div>"
     },
     "execution_count": 356,
     "metadata": {},
     "output_type": "execute_result"
    }
   ],
   "source": [
    "match_results_df['date'] = pd.to_datetime(match_results_df['date'])\n",
    "goal_events_df['date'] = pd.to_datetime(goal_events_df['date'])\n",
    "\n",
    "merged_df = pd.merge(goal_events_df, match_results_df, on='match_id', suffixes=('_goal', '_match'))\n",
    "\n",
    "# Check for discrepancies in dates\n",
    "date_discrepancies_df = merged_df[merged_df['date_goal'] != merged_df['date_match']]\n",
    "date_discrepancies_df.head(30)"
   ],
   "metadata": {
    "collapsed": false,
    "ExecuteTime": {
     "end_time": "2024-03-14T01:43:33.634257400Z",
     "start_time": "2024-03-14T01:43:33.596171900Z"
    }
   }
  },
  {
   "cell_type": "code",
   "execution_count": 357,
   "outputs": [
    {
     "data": {
      "text/plain": "Series([], Name: date, dtype: bool)"
     },
     "execution_count": 357,
     "metadata": {},
     "output_type": "execute_result"
    }
   ],
   "source": [
    "# Groepeer de gegevens op 'Day' en controleer de datums\n",
    "sorted_dates = match_results_df.sort_values(by=['day', 'date'])\n",
    "date_discrepancies_df = sorted_dates.groupby('day')['date'].apply(lambda x: x.is_monotonic_increasing)\n",
    "\n",
    "date_discrepancies_df = date_discrepancies_df[date_discrepancies_df == False]\n",
    "date_discrepancies_df.head(30)\n"
   ],
   "metadata": {
    "collapsed": false,
    "ExecuteTime": {
     "end_time": "2024-03-14T01:43:33.635687100Z",
     "start_time": "2024-03-14T01:43:33.611207200Z"
    }
   }
  },
  {
   "cell_type": "code",
   "execution_count": 358,
   "outputs": [
    {
     "data": {
      "text/plain": "Series([], Name: date, dtype: bool)"
     },
     "execution_count": 358,
     "metadata": {},
     "output_type": "execute_result"
    }
   ],
   "source": [
    "# Sorting the data by season, day, and date\n",
    "sorted_dates = match_results_df.sort_values(by=['season', 'day', 'date'])\n",
    "\n",
    "# Group by 'season' and 'day', and check if dates are in chronological order within each group\n",
    "grouped = sorted_dates.groupby(['season', 'day'])\n",
    "date_order_check = grouped['date'].apply(lambda x: x.is_monotonic_increasing)\n",
    "\n",
    "# Identifying seasons and days where dates are not in chronological order\n",
    "date_discrepancies = date_order_check[date_order_check == False]\n",
    "date_discrepancies.head(30)"
   ],
   "metadata": {
    "collapsed": false,
    "ExecuteTime": {
     "end_time": "2024-03-14T01:43:33.676780400Z",
     "start_time": "2024-03-14T01:43:33.620340200Z"
    }
   }
  },
  {
   "cell_type": "code",
   "execution_count": 359,
   "outputs": [
    {
     "data": {
      "text/plain": "Empty DataFrame\nColumns: [date, time, home_team, home_team_number, away_team, away_team_number, goal_team, goal_time, result_home_team, result_away_team, valid_goal, season, day, match_id, real_time_goal]\nIndex: []",
      "text/html": "<div>\n<style scoped>\n    .dataframe tbody tr th:only-of-type {\n        vertical-align: middle;\n    }\n\n    .dataframe tbody tr th {\n        vertical-align: top;\n    }\n\n    .dataframe thead th {\n        text-align: right;\n    }\n</style>\n<table border=\"1\" class=\"dataframe\">\n  <thead>\n    <tr style=\"text-align: right;\">\n      <th></th>\n      <th>date</th>\n      <th>time</th>\n      <th>home_team</th>\n      <th>home_team_number</th>\n      <th>away_team</th>\n      <th>away_team_number</th>\n      <th>goal_team</th>\n      <th>goal_time</th>\n      <th>result_home_team</th>\n      <th>result_away_team</th>\n      <th>valid_goal</th>\n      <th>season</th>\n      <th>day</th>\n      <th>match_id</th>\n      <th>real_time_goal</th>\n    </tr>\n  </thead>\n  <tbody>\n  </tbody>\n</table>\n</div>"
     },
     "execution_count": 359,
     "metadata": {},
     "output_type": "execute_result"
    }
   ],
   "source": [
    "# Filter matches that ended 0-0\n",
    "matches_0_0 = match_results_df[(match_results_df['result_home_team'] == 0) & (match_results_df['result_away_team'] == 0)]\n",
    "\n",
    "# Get match_ids of 0-0 matches\n",
    "match_ids_0_0 = matches_0_0['match_id']\n",
    "\n",
    "# Check if these matches have any goals in goal_events.csv\n",
    "goals_in_0_0_matches = goal_events_df[goal_events_df['match_id'].isin(match_ids_0_0)]\n",
    "goals_in_0_0_matches.head(30)"
   ],
   "metadata": {
    "collapsed": false,
    "ExecuteTime": {
     "end_time": "2024-03-14T01:43:33.759591700Z",
     "start_time": "2024-03-14T01:43:33.630258Z"
    }
   }
  },
  {
   "cell_type": "code",
   "execution_count": 360,
   "outputs": [
    {
     "data": {
      "text/plain": "   Rank            Club  Club Number  Played  Wins  Draws  Losses Goals  \\\n1     1        KAA Gent            7       1     1      0       0   4:1   \n4     4     Club Brugge            3       1     1      0       0   2:1   \n5     4     KSC Lokeren  KSC Lokeren       1     1      0       0   2:1   \n7     7  RSC Anderlecht           35       1     1      0       0   1:0   \n9     9   KSV Roeselare          134       1     0      1       0   1:1   \n\n   Goal_Difference  Points  Season  Day  Goals_Scored  Goals_Conceded  \\\n1                3       3    2007    1             4               1   \n4                1       3    2007    1             2               1   \n5                1       3    2007    1             2               1   \n7                1       3    2007    1             1               0   \n9                0       1    2007    1             1               1   \n\n   Calculated_Goal_Difference  Calculated_Rank  \n1                           3                2  \n4                           1                5  \n5                           1                6  \n7                           1                8  \n9                           0               10  ",
      "text/html": "<div>\n<style scoped>\n    .dataframe tbody tr th:only-of-type {\n        vertical-align: middle;\n    }\n\n    .dataframe tbody tr th {\n        vertical-align: top;\n    }\n\n    .dataframe thead th {\n        text-align: right;\n    }\n</style>\n<table border=\"1\" class=\"dataframe\">\n  <thead>\n    <tr style=\"text-align: right;\">\n      <th></th>\n      <th>Rank</th>\n      <th>Club</th>\n      <th>Club Number</th>\n      <th>Played</th>\n      <th>Wins</th>\n      <th>Draws</th>\n      <th>Losses</th>\n      <th>Goals</th>\n      <th>Goal_Difference</th>\n      <th>Points</th>\n      <th>Season</th>\n      <th>Day</th>\n      <th>Goals_Scored</th>\n      <th>Goals_Conceded</th>\n      <th>Calculated_Goal_Difference</th>\n      <th>Calculated_Rank</th>\n    </tr>\n  </thead>\n  <tbody>\n    <tr>\n      <th>1</th>\n      <td>1</td>\n      <td>KAA Gent</td>\n      <td>7</td>\n      <td>1</td>\n      <td>1</td>\n      <td>0</td>\n      <td>0</td>\n      <td>4:1</td>\n      <td>3</td>\n      <td>3</td>\n      <td>2007</td>\n      <td>1</td>\n      <td>4</td>\n      <td>1</td>\n      <td>3</td>\n      <td>2</td>\n    </tr>\n    <tr>\n      <th>4</th>\n      <td>4</td>\n      <td>Club Brugge</td>\n      <td>3</td>\n      <td>1</td>\n      <td>1</td>\n      <td>0</td>\n      <td>0</td>\n      <td>2:1</td>\n      <td>1</td>\n      <td>3</td>\n      <td>2007</td>\n      <td>1</td>\n      <td>2</td>\n      <td>1</td>\n      <td>1</td>\n      <td>5</td>\n    </tr>\n    <tr>\n      <th>5</th>\n      <td>4</td>\n      <td>KSC Lokeren</td>\n      <td>KSC Lokeren</td>\n      <td>1</td>\n      <td>1</td>\n      <td>0</td>\n      <td>0</td>\n      <td>2:1</td>\n      <td>1</td>\n      <td>3</td>\n      <td>2007</td>\n      <td>1</td>\n      <td>2</td>\n      <td>1</td>\n      <td>1</td>\n      <td>6</td>\n    </tr>\n    <tr>\n      <th>7</th>\n      <td>7</td>\n      <td>RSC Anderlecht</td>\n      <td>35</td>\n      <td>1</td>\n      <td>1</td>\n      <td>0</td>\n      <td>0</td>\n      <td>1:0</td>\n      <td>1</td>\n      <td>3</td>\n      <td>2007</td>\n      <td>1</td>\n      <td>1</td>\n      <td>0</td>\n      <td>1</td>\n      <td>8</td>\n    </tr>\n    <tr>\n      <th>9</th>\n      <td>9</td>\n      <td>KSV Roeselare</td>\n      <td>134</td>\n      <td>1</td>\n      <td>0</td>\n      <td>1</td>\n      <td>0</td>\n      <td>1:1</td>\n      <td>0</td>\n      <td>1</td>\n      <td>2007</td>\n      <td>1</td>\n      <td>1</td>\n      <td>1</td>\n      <td>0</td>\n      <td>10</td>\n    </tr>\n  </tbody>\n</table>\n</div>"
     },
     "execution_count": 360,
     "metadata": {},
     "output_type": "execute_result"
    }
   ],
   "source": [
    "# Splits de 'Goals' kolom in 'Goals_Scored' en 'Goals_Conceded'\n",
    "standings_df[['Goals_Scored', 'Goals_Conceded']] = standings_df['Goals'].str.split(':', expand=True)\n",
    "standings_df['Goals_Scored'] = pd.to_numeric(standings_df['Goals_Scored'])\n",
    "standings_df['Goals_Conceded'] = pd.to_numeric(standings_df['Goals_Conceded'])\n",
    "\n",
    "# Bereken de 'Goal_Difference'\n",
    "standings_df['Calculated_Goal_Difference'] = standings_df['Goals_Scored'] - standings_df['Goals_Conceded']\n",
    "\n",
    "# Sorteer elke groep en reset index\n",
    "sorted_df = standings_df.sort_values(['Season', 'Day', 'Points', 'Wins', 'Calculated_Goal_Difference', 'Goals_Scored'], ascending=[True, True, False, False, False, False])\n",
    "\n",
    "# Voeg een kolom toe voor de berekende rank\n",
    "sorted_df['Calculated_Rank'] = sorted_df.groupby(['Season', 'Day']).cumcount() + 1\n",
    "\n",
    "# Voeg de berekende rank toe aan de originele DataFrame\n",
    "standings_df = standings_df.merge(sorted_df[['Season', 'Day', 'Club', 'Calculated_Rank']], on=['Season', 'Day', 'Club'])\n",
    "\n",
    "# Controleer op discrepanties\n",
    "discrepancies = standings_df[standings_df['Rank'] != standings_df['Calculated_Rank']]\n",
    "discrepancies.head()\n"
   ],
   "metadata": {
    "collapsed": false,
    "ExecuteTime": {
     "end_time": "2024-03-14T01:43:33.759591700Z",
     "start_time": "2024-03-14T01:43:33.640692100Z"
    }
   }
  }
 ]
}
