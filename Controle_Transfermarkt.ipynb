{
 "nbformat": 4,
 "nbformat_minor": 0,
 "metadata": {
  "colab": {
   "provenance": []
  },
  "kernelspec": {
   "name": "python3",
   "language": "python",
   "display_name": "Python 3 (ipykernel)"
  },
  "language_info": {
   "name": "python"
  }
 },
 "cells": [
  {
   "cell_type": "code",
   "execution_count": 893,
   "outputs": [],
   "source": [
    "import pandas as pd\n",
    "\n",
    "# Load CSV files\n",
    "match_results_df = pd.read_csv('csv/wedstrijden_onverwerkd.csv')\n",
    "goal_events_df = pd.read_csv('csv/doelpunten_onverwerkd.csv')\n",
    "standings_df = pd.read_csv('csv/klassement_onverwerkd.csv')\n",
    "\n",
    "goal_events_df = goal_events_df[goal_events_df['valid_goal'] == True]\n",
    "# Filter of vervang niet-numerieke waarden\n",
    "match_results_df['doelpunten_thuisploeg'] = pd.to_numeric(match_results_df['doelpunten_thuisploeg'], errors='coerce').fillna(0)\n",
    "match_results_df['doelpunten_uitploeg'] = pd.to_numeric(match_results_df['doelpunten_uitploeg'], errors='coerce').fillna(0)\n",
    "\n",
    "# Nu kunt u de conversie naar int veilig uitvoeren\n",
    "match_results_df['doelpunten_thuisploeg'] = match_results_df['doelpunten_thuisploeg'].astype(int)\n",
    "match_results_df['doelpunten_uitploeg'] = match_results_df['doelpunten_uitploeg'].astype(int)"
   ],
   "metadata": {
    "collapsed": false,
    "ExecuteTime": {
     "end_time": "2024-03-18T21:40:17.292969800Z",
     "start_time": "2024-03-18T21:40:17.132986600Z"
    }
   }
  },
  {
   "cell_type": "code",
   "execution_count": 894,
   "outputs": [
    {
     "data": {
      "text/plain": "Empty DataFrame\nColumns: [seizoen, speeldag, datum, tijd, id_match, thuisploeg_stamnummer, thuisploeg, uitploeg_stamnummer, uitploeg, doelpunten_thuisploeg, doelpunten_uitploeg, same_as_previous_match]\nIndex: []",
      "text/html": "<div>\n<style scoped>\n    .dataframe tbody tr th:only-of-type {\n        vertical-align: middle;\n    }\n\n    .dataframe tbody tr th {\n        vertical-align: top;\n    }\n\n    .dataframe thead th {\n        text-align: right;\n    }\n</style>\n<table border=\"1\" class=\"dataframe\">\n  <thead>\n    <tr style=\"text-align: right;\">\n      <th></th>\n      <th>seizoen</th>\n      <th>speeldag</th>\n      <th>datum</th>\n      <th>tijd</th>\n      <th>id_match</th>\n      <th>thuisploeg_stamnummer</th>\n      <th>thuisploeg</th>\n      <th>uitploeg_stamnummer</th>\n      <th>uitploeg</th>\n      <th>doelpunten_thuisploeg</th>\n      <th>doelpunten_uitploeg</th>\n      <th>same_as_previous_match</th>\n    </tr>\n  </thead>\n  <tbody>\n  </tbody>\n</table>\n</div>"
     },
     "execution_count": 894,
     "metadata": {},
     "output_type": "execute_result"
    }
   ],
   "source": [
    "# Vind alle verplaatste matches, namelijk de match id zal dezelfde zijn als de vorige\n",
    "match_results_df['same_as_previous_match'] = match_results_df['id_match'].eq(match_results_df['id_match'].shift())\n",
    "\n",
    "# Selecteer alleen de rijen waar 'same_as_previous_match' True is\n",
    "duplicate_matches = match_results_df[match_results_df['same_as_previous_match']]\n",
    "duplicate_matches.head(30)"
   ],
   "metadata": {
    "collapsed": false,
    "ExecuteTime": {
     "end_time": "2024-03-18T21:40:17.308078200Z",
     "start_time": "2024-03-18T21:40:17.293972Z"
    }
   }
  },
  {
   "cell_type": "code",
   "source": [
    "# Bereken goals\n",
    "goals_home_team = goal_events_df[goal_events_df['goal_team_stamnummer'] == goal_events_df['thuisploeg_stamnummer']].groupby('id_match').size()\n",
    "goals_away_team = goal_events_df[goal_events_df['goal_team_stamnummer'] == goal_events_df['uitploeg_stamnummer']].groupby('id_match').size()\n",
    "\n",
    "# Omzetting\n",
    "goals_home_team_df = goals_home_team.reset_index(name='calculated_doelpunten_thuisploeg')\n",
    "goals_away_team_df = goals_away_team.reset_index(name='calculated_doelpunten_uitploeg')\n",
    "\n",
    "# Vervang NaN values in goal kolom met 0\n",
    "merged_df = pd.merge(match_results_df, goals_home_team_df, on='id_match', how='outer')\n",
    "merged_df = pd.merge(merged_df, goals_away_team_df, on='id_match', how='outer')\n",
    "merged_df['calculated_doelpunten_thuisploeg'] = merged_df['calculated_doelpunten_thuisploeg'].fillna(0).astype(int)\n",
    "merged_df['calculated_doelpunten_uitploeg'] = merged_df['calculated_doelpunten_uitploeg'].fillna(0).astype(int)\n",
    "\n",
    "# Bereken verschil tussen berekening en resultaat\n",
    "discrepancies_goals = merged_df[\n",
    "    ((merged_df['calculated_doelpunten_thuisploeg'] != merged_df['doelpunten_thuisploeg']) |\n",
    "    (merged_df['calculated_doelpunten_uitploeg'] != merged_df['doelpunten_uitploeg'])) &\n",
    "    ~((merged_df['doelpunten_thuisploeg'] == 5) & (merged_df['doelpunten_uitploeg'] == 0)) &\n",
    "    ~((merged_df['doelpunten_thuisploeg'] == 0) & (merged_df['doelpunten_uitploeg'] == 5))\n",
    "]\n",
    "\n",
    "# Select only relevant columns for display - Lommel 2002, Excelsior 2009 verwijderen we alles van, matches, klassement en doelpunten\n",
    "discrepancies_goals.head(1000)"
   ],
   "metadata": {
    "colab": {
     "base_uri": "https://localhost:8080/",
     "height": 112
    },
    "id": "o2sprn5OdrMd",
    "outputId": "f94268b2-1596-43cb-f848-22639c5445c7",
    "ExecuteTime": {
     "end_time": "2024-03-18T21:40:17.399091900Z",
     "start_time": "2024-03-18T21:40:17.308078200Z"
    }
   },
   "execution_count": 895,
   "outputs": [
    {
     "data": {
      "text/plain": "       seizoen  speeldag       datum      tijd  id_match  \\\n13329     1977        14  1977/11/20  15:00:00   4012716   \n13330     1977        15  1977/11/26  19:30:00   4012718   \n13335     1977        15  1977/11/27  15:00:00   4012722   \n13337     1977        15  1977/11/27  15:00:00   4012724   \n13340     1977        16  1977/12/03  20:00:00   4012726   \n...        ...       ...         ...       ...       ...   \n15610     1969        15  1969/12/14  14:30:00   4010466   \n15611     1969        15  1969/12/14  14:30:00   4010467   \n15612     1969        15  1969/12/14  14:30:00   4010468   \n15613     1969        15  1969/12/14  14:30:00   4010469   \n15614     1969        15  1969/12/14  14:30:00   4010470   \n\n       thuisploeg_stamnummer         thuisploeg  uitploeg_stamnummer  \\\n13329                     19        KV Kortrijk                 4451   \n13330                     22     R Charleroi SC                   35   \n13335                   2300        KSK Beveren                    4   \n13337                     30          Lierse SK                   19   \n13340                     35     RSC Anderlecht                 2300   \n...                      ...                ...                  ...   \n15610                     16      Standard Luik                 4451   \n15611                     35     RSC Anderlecht                    7   \n15612                    373  Sint-Truidense VV                   13   \n15613                   2300        KSK Beveren                  522   \n15614                     22     R Charleroi SC                   55   \n\n             uitploeg  doelpunten_thuisploeg  doelpunten_uitploeg  \\\n13329     KSV Waregem                      1                    1   \n13330  RSC Anderlecht                      2                    1   \n13335        RFC Luik                      2                    0   \n13337     KV Kortrijk                      2                    0   \n13340     KSK Beveren                      0                    1   \n...               ...                    ...                  ...   \n15610     KSV Waregem                      2                    0   \n15611        KAA Gent                      3                    1   \n15612       Beerschot                      3                    0   \n15613     Beringen FC                      2                    1   \n15614  RCC Schaerbeek                      6                    0   \n\n       same_as_previous_match  calculated_doelpunten_thuisploeg  \\\n13329                   False                                 0   \n13330                   False                                 0   \n13335                   False                                 0   \n13337                   False                                 0   \n13340                   False                                 0   \n...                       ...                               ...   \n15610                   False                                 0   \n15611                   False                                 0   \n15612                   False                                 0   \n15613                   False                                 0   \n15614                   False                                 0   \n\n       calculated_doelpunten_uitploeg  \n13329                               0  \n13330                               0  \n13335                               0  \n13337                               0  \n13340                               0  \n...                               ...  \n15610                               0  \n15611                               0  \n15612                               0  \n15613                               0  \n15614                               0  \n\n[1000 rows x 14 columns]",
      "text/html": "<div>\n<style scoped>\n    .dataframe tbody tr th:only-of-type {\n        vertical-align: middle;\n    }\n\n    .dataframe tbody tr th {\n        vertical-align: top;\n    }\n\n    .dataframe thead th {\n        text-align: right;\n    }\n</style>\n<table border=\"1\" class=\"dataframe\">\n  <thead>\n    <tr style=\"text-align: right;\">\n      <th></th>\n      <th>seizoen</th>\n      <th>speeldag</th>\n      <th>datum</th>\n      <th>tijd</th>\n      <th>id_match</th>\n      <th>thuisploeg_stamnummer</th>\n      <th>thuisploeg</th>\n      <th>uitploeg_stamnummer</th>\n      <th>uitploeg</th>\n      <th>doelpunten_thuisploeg</th>\n      <th>doelpunten_uitploeg</th>\n      <th>same_as_previous_match</th>\n      <th>calculated_doelpunten_thuisploeg</th>\n      <th>calculated_doelpunten_uitploeg</th>\n    </tr>\n  </thead>\n  <tbody>\n    <tr>\n      <th>13329</th>\n      <td>1977</td>\n      <td>14</td>\n      <td>1977/11/20</td>\n      <td>15:00:00</td>\n      <td>4012716</td>\n      <td>19</td>\n      <td>KV Kortrijk</td>\n      <td>4451</td>\n      <td>KSV Waregem</td>\n      <td>1</td>\n      <td>1</td>\n      <td>False</td>\n      <td>0</td>\n      <td>0</td>\n    </tr>\n    <tr>\n      <th>13330</th>\n      <td>1977</td>\n      <td>15</td>\n      <td>1977/11/26</td>\n      <td>19:30:00</td>\n      <td>4012718</td>\n      <td>22</td>\n      <td>R Charleroi SC</td>\n      <td>35</td>\n      <td>RSC Anderlecht</td>\n      <td>2</td>\n      <td>1</td>\n      <td>False</td>\n      <td>0</td>\n      <td>0</td>\n    </tr>\n    <tr>\n      <th>13335</th>\n      <td>1977</td>\n      <td>15</td>\n      <td>1977/11/27</td>\n      <td>15:00:00</td>\n      <td>4012722</td>\n      <td>2300</td>\n      <td>KSK Beveren</td>\n      <td>4</td>\n      <td>RFC Luik</td>\n      <td>2</td>\n      <td>0</td>\n      <td>False</td>\n      <td>0</td>\n      <td>0</td>\n    </tr>\n    <tr>\n      <th>13337</th>\n      <td>1977</td>\n      <td>15</td>\n      <td>1977/11/27</td>\n      <td>15:00:00</td>\n      <td>4012724</td>\n      <td>30</td>\n      <td>Lierse SK</td>\n      <td>19</td>\n      <td>KV Kortrijk</td>\n      <td>2</td>\n      <td>0</td>\n      <td>False</td>\n      <td>0</td>\n      <td>0</td>\n    </tr>\n    <tr>\n      <th>13340</th>\n      <td>1977</td>\n      <td>16</td>\n      <td>1977/12/03</td>\n      <td>20:00:00</td>\n      <td>4012726</td>\n      <td>35</td>\n      <td>RSC Anderlecht</td>\n      <td>2300</td>\n      <td>KSK Beveren</td>\n      <td>0</td>\n      <td>1</td>\n      <td>False</td>\n      <td>0</td>\n      <td>0</td>\n    </tr>\n    <tr>\n      <th>...</th>\n      <td>...</td>\n      <td>...</td>\n      <td>...</td>\n      <td>...</td>\n      <td>...</td>\n      <td>...</td>\n      <td>...</td>\n      <td>...</td>\n      <td>...</td>\n      <td>...</td>\n      <td>...</td>\n      <td>...</td>\n      <td>...</td>\n      <td>...</td>\n    </tr>\n    <tr>\n      <th>15610</th>\n      <td>1969</td>\n      <td>15</td>\n      <td>1969/12/14</td>\n      <td>14:30:00</td>\n      <td>4010466</td>\n      <td>16</td>\n      <td>Standard Luik</td>\n      <td>4451</td>\n      <td>KSV Waregem</td>\n      <td>2</td>\n      <td>0</td>\n      <td>False</td>\n      <td>0</td>\n      <td>0</td>\n    </tr>\n    <tr>\n      <th>15611</th>\n      <td>1969</td>\n      <td>15</td>\n      <td>1969/12/14</td>\n      <td>14:30:00</td>\n      <td>4010467</td>\n      <td>35</td>\n      <td>RSC Anderlecht</td>\n      <td>7</td>\n      <td>KAA Gent</td>\n      <td>3</td>\n      <td>1</td>\n      <td>False</td>\n      <td>0</td>\n      <td>0</td>\n    </tr>\n    <tr>\n      <th>15612</th>\n      <td>1969</td>\n      <td>15</td>\n      <td>1969/12/14</td>\n      <td>14:30:00</td>\n      <td>4010468</td>\n      <td>373</td>\n      <td>Sint-Truidense VV</td>\n      <td>13</td>\n      <td>Beerschot</td>\n      <td>3</td>\n      <td>0</td>\n      <td>False</td>\n      <td>0</td>\n      <td>0</td>\n    </tr>\n    <tr>\n      <th>15613</th>\n      <td>1969</td>\n      <td>15</td>\n      <td>1969/12/14</td>\n      <td>14:30:00</td>\n      <td>4010469</td>\n      <td>2300</td>\n      <td>KSK Beveren</td>\n      <td>522</td>\n      <td>Beringen FC</td>\n      <td>2</td>\n      <td>1</td>\n      <td>False</td>\n      <td>0</td>\n      <td>0</td>\n    </tr>\n    <tr>\n      <th>15614</th>\n      <td>1969</td>\n      <td>15</td>\n      <td>1969/12/14</td>\n      <td>14:30:00</td>\n      <td>4010470</td>\n      <td>22</td>\n      <td>R Charleroi SC</td>\n      <td>55</td>\n      <td>RCC Schaerbeek</td>\n      <td>6</td>\n      <td>0</td>\n      <td>False</td>\n      <td>0</td>\n      <td>0</td>\n    </tr>\n  </tbody>\n</table>\n<p>1000 rows × 14 columns</p>\n</div>"
     },
     "execution_count": 895,
     "metadata": {},
     "output_type": "execute_result"
    }
   ]
  },
  {
   "cell_type": "code",
   "execution_count": 896,
   "outputs": [
    {
     "data": {
      "text/plain": "       seizoen  speeldag       datum      tijd  id_match  \\\n356       2022        14  2022/10/23  18:30:00   3851182   \n380       2022        17  2022/11/12  20:45:00   3851244   \n728       2021        22  2022/01/15  16:15:00   3598295   \n841       2021        34  2022/04/10  18:30:00   3598351   \n2427      2014        11  2014/10/19  14:30:00   2503727   \n...        ...       ...         ...       ...       ...   \n15573     1969        10  1969/11/09  15:00:00   4010432   \n15574     1969        10  1969/11/09  15:00:00   4010433   \n15576     1969        10  1969/11/11  15:00:00   4010435   \n15577     1969        10  1970/03/22  16:00:00   4010565   \n15578     1969        11  1969/11/15  20:00:00   4010436   \n\n       thuisploeg_stamnummer            thuisploeg  uitploeg_stamnummer  \\\n356                       16         Standard Luik                   35   \n380                       22        R Charleroi SC                   25   \n728                       18   Oud-Heverlee Leuven                   25   \n841                       10  Union Saint-Gilloise                   13   \n2427                      16         Standard Luik                 5381   \n...                      ...                   ...                  ...   \n15573                     10  Union Saint-Gilloise                   22   \n15574                     53        AS Oostende KM                    4   \n15576                    373     Sint-Truidense VV                    3   \n15577                     30             Lierse SK                   35   \n15578                     22        R Charleroi SC                   53   \n\n               uitploeg  doelpunten_thuisploeg  doelpunten_uitploeg  \\\n356      RSC Anderlecht                      5                    0   \n380         KV Mechelen                      0                    5   \n728         KV Mechelen                      5                    0   \n841           Beerschot                      5                    0   \n2427   SV Zulte Waregem                      0                    5   \n...                 ...                    ...                  ...   \n15573    R Charleroi SC                      2                    0   \n15574          RFC Luik                      2                    2   \n15576       Club Brugge                      2                    2   \n15577    RSC Anderlecht                      1                    0   \n15578    AS Oostende KM                      1                    0   \n\n       same_as_previous_match  calculated_doelpunten_thuisploeg  \\\n356                     False                                 3   \n380                     False                                 1   \n728                     False                                 0   \n841                     False                                 0   \n2427                    False                                 1   \n...                       ...                               ...   \n15573                   False                                 0   \n15574                   False                                 0   \n15576                   False                                 0   \n15577                   False                                 0   \n15578                   False                                 0   \n\n       calculated_doelpunten_uitploeg  \n356                                 1  \n380                                 0  \n728                                 0  \n841                                 0  \n2427                                2  \n...                               ...  \n15573                               0  \n15574                               0  \n15576                               0  \n15577                               0  \n15578                               0  \n\n[1000 rows x 14 columns]",
      "text/html": "<div>\n<style scoped>\n    .dataframe tbody tr th:only-of-type {\n        vertical-align: middle;\n    }\n\n    .dataframe tbody tr th {\n        vertical-align: top;\n    }\n\n    .dataframe thead th {\n        text-align: right;\n    }\n</style>\n<table border=\"1\" class=\"dataframe\">\n  <thead>\n    <tr style=\"text-align: right;\">\n      <th></th>\n      <th>seizoen</th>\n      <th>speeldag</th>\n      <th>datum</th>\n      <th>tijd</th>\n      <th>id_match</th>\n      <th>thuisploeg_stamnummer</th>\n      <th>thuisploeg</th>\n      <th>uitploeg_stamnummer</th>\n      <th>uitploeg</th>\n      <th>doelpunten_thuisploeg</th>\n      <th>doelpunten_uitploeg</th>\n      <th>same_as_previous_match</th>\n      <th>calculated_doelpunten_thuisploeg</th>\n      <th>calculated_doelpunten_uitploeg</th>\n    </tr>\n  </thead>\n  <tbody>\n    <tr>\n      <th>356</th>\n      <td>2022</td>\n      <td>14</td>\n      <td>2022/10/23</td>\n      <td>18:30:00</td>\n      <td>3851182</td>\n      <td>16</td>\n      <td>Standard Luik</td>\n      <td>35</td>\n      <td>RSC Anderlecht</td>\n      <td>5</td>\n      <td>0</td>\n      <td>False</td>\n      <td>3</td>\n      <td>1</td>\n    </tr>\n    <tr>\n      <th>380</th>\n      <td>2022</td>\n      <td>17</td>\n      <td>2022/11/12</td>\n      <td>20:45:00</td>\n      <td>3851244</td>\n      <td>22</td>\n      <td>R Charleroi SC</td>\n      <td>25</td>\n      <td>KV Mechelen</td>\n      <td>0</td>\n      <td>5</td>\n      <td>False</td>\n      <td>1</td>\n      <td>0</td>\n    </tr>\n    <tr>\n      <th>728</th>\n      <td>2021</td>\n      <td>22</td>\n      <td>2022/01/15</td>\n      <td>16:15:00</td>\n      <td>3598295</td>\n      <td>18</td>\n      <td>Oud-Heverlee Leuven</td>\n      <td>25</td>\n      <td>KV Mechelen</td>\n      <td>5</td>\n      <td>0</td>\n      <td>False</td>\n      <td>0</td>\n      <td>0</td>\n    </tr>\n    <tr>\n      <th>841</th>\n      <td>2021</td>\n      <td>34</td>\n      <td>2022/04/10</td>\n      <td>18:30:00</td>\n      <td>3598351</td>\n      <td>10</td>\n      <td>Union Saint-Gilloise</td>\n      <td>13</td>\n      <td>Beerschot</td>\n      <td>5</td>\n      <td>0</td>\n      <td>False</td>\n      <td>0</td>\n      <td>0</td>\n    </tr>\n    <tr>\n      <th>2427</th>\n      <td>2014</td>\n      <td>11</td>\n      <td>2014/10/19</td>\n      <td>14:30:00</td>\n      <td>2503727</td>\n      <td>16</td>\n      <td>Standard Luik</td>\n      <td>5381</td>\n      <td>SV Zulte Waregem</td>\n      <td>0</td>\n      <td>5</td>\n      <td>False</td>\n      <td>1</td>\n      <td>2</td>\n    </tr>\n    <tr>\n      <th>...</th>\n      <td>...</td>\n      <td>...</td>\n      <td>...</td>\n      <td>...</td>\n      <td>...</td>\n      <td>...</td>\n      <td>...</td>\n      <td>...</td>\n      <td>...</td>\n      <td>...</td>\n      <td>...</td>\n      <td>...</td>\n      <td>...</td>\n      <td>...</td>\n    </tr>\n    <tr>\n      <th>15573</th>\n      <td>1969</td>\n      <td>10</td>\n      <td>1969/11/09</td>\n      <td>15:00:00</td>\n      <td>4010432</td>\n      <td>10</td>\n      <td>Union Saint-Gilloise</td>\n      <td>22</td>\n      <td>R Charleroi SC</td>\n      <td>2</td>\n      <td>0</td>\n      <td>False</td>\n      <td>0</td>\n      <td>0</td>\n    </tr>\n    <tr>\n      <th>15574</th>\n      <td>1969</td>\n      <td>10</td>\n      <td>1969/11/09</td>\n      <td>15:00:00</td>\n      <td>4010433</td>\n      <td>53</td>\n      <td>AS Oostende KM</td>\n      <td>4</td>\n      <td>RFC Luik</td>\n      <td>2</td>\n      <td>2</td>\n      <td>False</td>\n      <td>0</td>\n      <td>0</td>\n    </tr>\n    <tr>\n      <th>15576</th>\n      <td>1969</td>\n      <td>10</td>\n      <td>1969/11/11</td>\n      <td>15:00:00</td>\n      <td>4010435</td>\n      <td>373</td>\n      <td>Sint-Truidense VV</td>\n      <td>3</td>\n      <td>Club Brugge</td>\n      <td>2</td>\n      <td>2</td>\n      <td>False</td>\n      <td>0</td>\n      <td>0</td>\n    </tr>\n    <tr>\n      <th>15577</th>\n      <td>1969</td>\n      <td>10</td>\n      <td>1970/03/22</td>\n      <td>16:00:00</td>\n      <td>4010565</td>\n      <td>30</td>\n      <td>Lierse SK</td>\n      <td>35</td>\n      <td>RSC Anderlecht</td>\n      <td>1</td>\n      <td>0</td>\n      <td>False</td>\n      <td>0</td>\n      <td>0</td>\n    </tr>\n    <tr>\n      <th>15578</th>\n      <td>1969</td>\n      <td>11</td>\n      <td>1969/11/15</td>\n      <td>20:00:00</td>\n      <td>4010436</td>\n      <td>22</td>\n      <td>R Charleroi SC</td>\n      <td>53</td>\n      <td>AS Oostende KM</td>\n      <td>1</td>\n      <td>0</td>\n      <td>False</td>\n      <td>0</td>\n      <td>0</td>\n    </tr>\n  </tbody>\n</table>\n<p>1000 rows × 14 columns</p>\n</div>"
     },
     "execution_count": 896,
     "metadata": {},
     "output_type": "execute_result"
    }
   ],
   "source": [
    "#Controle voor (5:0 of 0:5's)\n",
    "discrepancies_goals = merged_df[\n",
    "    (merged_df['calculated_doelpunten_thuisploeg'] != merged_df['doelpunten_thuisploeg']) |\n",
    "    (merged_df['calculated_doelpunten_uitploeg'] != merged_df['doelpunten_uitploeg'])\n",
    "]\n",
    "discrepancies_goals.head(1000)"
   ],
   "metadata": {
    "collapsed": false,
    "ExecuteTime": {
     "end_time": "2024-03-18T21:40:17.399091900Z",
     "start_time": "2024-03-18T21:40:17.354649900Z"
    }
   }
  },
  {
   "cell_type": "code",
   "execution_count": 897,
   "outputs": [
    {
     "data": {
      "text/plain": "Empty DataFrame\nColumns: [seizoen, speeldag, stand, naam_ploeg, id_ploeg, aantal_wedstrijden, aantal_gewonnen, aantal_gelijk, aantal_verloren, doelpunten_voor, doelpunten_tegen, verschil, punten]\nIndex: []",
      "text/html": "<div>\n<style scoped>\n    .dataframe tbody tr th:only-of-type {\n        vertical-align: middle;\n    }\n\n    .dataframe tbody tr th {\n        vertical-align: top;\n    }\n\n    .dataframe thead th {\n        text-align: right;\n    }\n</style>\n<table border=\"1\" class=\"dataframe\">\n  <thead>\n    <tr style=\"text-align: right;\">\n      <th></th>\n      <th>seizoen</th>\n      <th>speeldag</th>\n      <th>stand</th>\n      <th>naam_ploeg</th>\n      <th>id_ploeg</th>\n      <th>aantal_wedstrijden</th>\n      <th>aantal_gewonnen</th>\n      <th>aantal_gelijk</th>\n      <th>aantal_verloren</th>\n      <th>doelpunten_voor</th>\n      <th>doelpunten_tegen</th>\n      <th>verschil</th>\n      <th>punten</th>\n    </tr>\n  </thead>\n  <tbody>\n  </tbody>\n</table>\n</div>"
     },
     "execution_count": 897,
     "metadata": {},
     "output_type": "execute_result"
    }
   ],
   "source": [
    "# controle van aantal_wedstrijden\n",
    "# Geen enkel record met meer wedstrijden dan speeldagen\n",
    "number_of_games_check = standings_df[standings_df.speeldag < standings_df.aantal_wedstrijden]\n",
    "number_of_games_check.head(30)"
   ],
   "metadata": {
    "collapsed": false,
    "ExecuteTime": {
     "end_time": "2024-03-18T21:40:17.400098700Z",
     "start_time": "2024-03-18T21:40:17.369925Z"
    }
   }
  },
  {
   "cell_type": "code",
   "execution_count": 898,
   "outputs": [
    {
     "data": {
      "text/plain": "1975    551\n2002    442\n2009    360\nName: seizoen, dtype: int64"
     },
     "execution_count": 898,
     "metadata": {},
     "output_type": "execute_result"
    }
   ],
   "source": [
    "# controle van aantal_wedstrijden\n",
    "# wel records met minder wedstrijden dan speeldagen, maar bij nazicht van een aantal records klopt dit\n",
    "number_of_games_check = standings_df[standings_df.speeldag > standings_df.aantal_wedstrijden]\n",
    "number_of_games_check.seizoen.value_counts()"
   ],
   "metadata": {
    "collapsed": false,
    "ExecuteTime": {
     "end_time": "2024-03-18T21:40:17.400098700Z",
     "start_time": "2024-03-18T21:40:17.378896900Z"
    }
   }
  },
  {
   "cell_type": "code",
   "execution_count": 899,
   "outputs": [
    {
     "data": {
      "text/plain": "seizoen               0\nspeeldag              0\nstand                 0\nnaam_ploeg            0\nid_ploeg              0\naantal_wedstrijden    0\naantal_gewonnen       0\naantal_gelijk         0\naantal_verloren       0\ndoelpunten_voor       0\ndoelpunten_tegen      0\nverschil              0\npunten                0\ndtype: int64"
     },
     "execution_count": 899,
     "metadata": {},
     "output_type": "execute_result"
    }
   ],
   "source": [
    "# geen records met standings_df.Played != (standings_df.Wins + standings_df.Losses + standings_df.Draws\n",
    "number_of_games_check = standings_df[standings_df.aantal_wedstrijden != (standings_df.aantal_gewonnen + standings_df.aantal_gelijk + standings_df.aantal_verloren)]\n",
    "number_of_games_check.count()"
   ],
   "metadata": {
    "collapsed": false,
    "ExecuteTime": {
     "end_time": "2024-03-18T21:40:17.400098700Z",
     "start_time": "2024-03-18T21:40:17.386466200Z"
    }
   }
  },
  {
   "cell_type": "code",
   "execution_count": 900,
   "outputs": [
    {
     "data": {
      "text/plain": "seizoen                     0\nspeeldag                    0\nstand                       0\nnaam_ploeg                  0\nid_ploeg                    0\naantal_wedstrijden          0\naantal_gewonnen             0\naantal_gelijk               0\naantal_verloren             0\ndoelpunten_voor             0\ndoelpunten_tegen            0\nverschil                    0\npunten                      0\ncalculated_goal_verschil    0\ndtype: int64"
     },
     "execution_count": 900,
     "metadata": {},
     "output_type": "execute_result"
    }
   ],
   "source": [
    "# geen records met (uitslagen.doelpunten_voor - uitslagen.doelpunten_tegen) != (uitslagen.verschil)\n",
    "standings_df['calculated_goal_verschil'] = standings_df['doelpunten_voor'] - standings_df['doelpunten_tegen']\n",
    "controle_aantal_wedstrijden = standings_df[standings_df['calculated_goal_verschil'] != standings_df['verschil']]\n",
    "controle_aantal_wedstrijden.count()"
   ],
   "metadata": {
    "collapsed": false,
    "ExecuteTime": {
     "end_time": "2024-03-18T21:40:17.421589100Z",
     "start_time": "2024-03-18T21:40:17.394098900Z"
    }
   }
  },
  {
   "cell_type": "code",
   "execution_count": 901,
   "outputs": [],
   "source": [
    "# het totaal aantal gewonnen matchen per seizoen en per ploeg\n",
    "points_df = standings_df.groupby(['seizoen','speeldag','id_ploeg', 'punten'])[['aantal_gewonnen','aantal_gelijk','aantal_verloren']].sum()\n",
    "points_df = points_df.reset_index()\n",
    "points_df = points_df.sort_values(['seizoen','speeldag','aantal_gewonnen','aantal_gelijk','aantal_verloren'], ascending = [True, True, False, False, False])"
   ],
   "metadata": {
    "collapsed": false,
    "ExecuteTime": {
     "end_time": "2024-03-18T21:40:17.480125100Z",
     "start_time": "2024-03-18T21:40:17.405591200Z"
    }
   }
  },
  {
   "cell_type": "code",
   "execution_count": 902,
   "outputs": [
    {
     "data": {
      "text/plain": "     seizoen  speeldag  id_ploeg punten  aantal_gewonnen  aantal_gelijk  \\\n1       1960         1         2    2:0                1              0   \n3       1960         1         4    2:0                1              0   \n5       1960         1        10    2:0                1              0   \n6       1960         1        13    2:0                1              0   \n7       1960         1        16    2:0                1              0   \n..       ...       ...       ...    ...              ...            ...   \n95      1960         6      3434   2:10                0              2   \n103     1960         7        16   12:2                5              2   \n97      1960         7         2   10:4                4              2   \n99      1960         7         4   10:4                4              2   \n107     1960         7        90    9:5                4              1   \n\n     aantal_verloren  punten_check  \n1                  0             3  \n3                  0             3  \n5                  0             3  \n6                  0             3  \n7                  0             3  \n..               ...           ...  \n95                 4             2  \n103                0            17  \n97                 1            14  \n99                 1            14  \n107                2            13  \n\n[100 rows x 8 columns]",
      "text/html": "<div>\n<style scoped>\n    .dataframe tbody tr th:only-of-type {\n        vertical-align: middle;\n    }\n\n    .dataframe tbody tr th {\n        vertical-align: top;\n    }\n\n    .dataframe thead th {\n        text-align: right;\n    }\n</style>\n<table border=\"1\" class=\"dataframe\">\n  <thead>\n    <tr style=\"text-align: right;\">\n      <th></th>\n      <th>seizoen</th>\n      <th>speeldag</th>\n      <th>id_ploeg</th>\n      <th>punten</th>\n      <th>aantal_gewonnen</th>\n      <th>aantal_gelijk</th>\n      <th>aantal_verloren</th>\n      <th>punten_check</th>\n    </tr>\n  </thead>\n  <tbody>\n    <tr>\n      <th>1</th>\n      <td>1960</td>\n      <td>1</td>\n      <td>2</td>\n      <td>2:0</td>\n      <td>1</td>\n      <td>0</td>\n      <td>0</td>\n      <td>3</td>\n    </tr>\n    <tr>\n      <th>3</th>\n      <td>1960</td>\n      <td>1</td>\n      <td>4</td>\n      <td>2:0</td>\n      <td>1</td>\n      <td>0</td>\n      <td>0</td>\n      <td>3</td>\n    </tr>\n    <tr>\n      <th>5</th>\n      <td>1960</td>\n      <td>1</td>\n      <td>10</td>\n      <td>2:0</td>\n      <td>1</td>\n      <td>0</td>\n      <td>0</td>\n      <td>3</td>\n    </tr>\n    <tr>\n      <th>6</th>\n      <td>1960</td>\n      <td>1</td>\n      <td>13</td>\n      <td>2:0</td>\n      <td>1</td>\n      <td>0</td>\n      <td>0</td>\n      <td>3</td>\n    </tr>\n    <tr>\n      <th>7</th>\n      <td>1960</td>\n      <td>1</td>\n      <td>16</td>\n      <td>2:0</td>\n      <td>1</td>\n      <td>0</td>\n      <td>0</td>\n      <td>3</td>\n    </tr>\n    <tr>\n      <th>...</th>\n      <td>...</td>\n      <td>...</td>\n      <td>...</td>\n      <td>...</td>\n      <td>...</td>\n      <td>...</td>\n      <td>...</td>\n      <td>...</td>\n    </tr>\n    <tr>\n      <th>95</th>\n      <td>1960</td>\n      <td>6</td>\n      <td>3434</td>\n      <td>2:10</td>\n      <td>0</td>\n      <td>2</td>\n      <td>4</td>\n      <td>2</td>\n    </tr>\n    <tr>\n      <th>103</th>\n      <td>1960</td>\n      <td>7</td>\n      <td>16</td>\n      <td>12:2</td>\n      <td>5</td>\n      <td>2</td>\n      <td>0</td>\n      <td>17</td>\n    </tr>\n    <tr>\n      <th>97</th>\n      <td>1960</td>\n      <td>7</td>\n      <td>2</td>\n      <td>10:4</td>\n      <td>4</td>\n      <td>2</td>\n      <td>1</td>\n      <td>14</td>\n    </tr>\n    <tr>\n      <th>99</th>\n      <td>1960</td>\n      <td>7</td>\n      <td>4</td>\n      <td>10:4</td>\n      <td>4</td>\n      <td>2</td>\n      <td>1</td>\n      <td>14</td>\n    </tr>\n    <tr>\n      <th>107</th>\n      <td>1960</td>\n      <td>7</td>\n      <td>90</td>\n      <td>9:5</td>\n      <td>4</td>\n      <td>1</td>\n      <td>2</td>\n      <td>13</td>\n    </tr>\n  </tbody>\n</table>\n<p>100 rows × 8 columns</p>\n</div>"
     },
     "execution_count": 902,
     "metadata": {},
     "output_type": "execute_result"
    }
   ],
   "source": [
    "points_df['punten_check'] = points_df['aantal_gewonnen'] * 3 + points_df['aantal_gelijk'] + points_df['aantal_verloren'] * 0\n",
    "discrepancies_df = points_df[points_df['punten'] != points_df['punten_check']]\n",
    "discrepancies_df.head(100)"
   ],
   "metadata": {
    "collapsed": false,
    "ExecuteTime": {
     "end_time": "2024-03-18T21:40:17.509659500Z",
     "start_time": "2024-03-18T21:40:17.434615200Z"
    }
   }
  },
  {
   "cell_type": "code",
   "execution_count": 903,
   "outputs": [
    {
     "data": {
      "text/plain": "Empty DataFrame\nColumns: [seizoen_goal, dag, datum_goal, tijd_goal, id_match, thuisploeg_stamnummer_goal, thuisploeg_goal, uitploeg_goal, uitploeg_stamnummer_goal, goal_time, real_time_goal, goal_team_naam, goal_team_stamnummer, stand_thuis, stand_uit, valid_goal, seizoen_match, speeldag, datum_match, tijd_match, thuisploeg_stamnummer_match, thuisploeg_match, uitploeg_stamnummer_match, uitploeg_match, doelpunten_thuisploeg, doelpunten_uitploeg, same_as_previous_match]\nIndex: []\n\n[0 rows x 27 columns]",
      "text/html": "<div>\n<style scoped>\n    .dataframe tbody tr th:only-of-type {\n        vertical-align: middle;\n    }\n\n    .dataframe tbody tr th {\n        vertical-align: top;\n    }\n\n    .dataframe thead th {\n        text-align: right;\n    }\n</style>\n<table border=\"1\" class=\"dataframe\">\n  <thead>\n    <tr style=\"text-align: right;\">\n      <th></th>\n      <th>seizoen_goal</th>\n      <th>dag</th>\n      <th>datum_goal</th>\n      <th>tijd_goal</th>\n      <th>id_match</th>\n      <th>thuisploeg_stamnummer_goal</th>\n      <th>thuisploeg_goal</th>\n      <th>uitploeg_goal</th>\n      <th>uitploeg_stamnummer_goal</th>\n      <th>goal_time</th>\n      <th>...</th>\n      <th>speeldag</th>\n      <th>datum_match</th>\n      <th>tijd_match</th>\n      <th>thuisploeg_stamnummer_match</th>\n      <th>thuisploeg_match</th>\n      <th>uitploeg_stamnummer_match</th>\n      <th>uitploeg_match</th>\n      <th>doelpunten_thuisploeg</th>\n      <th>doelpunten_uitploeg</th>\n      <th>same_as_previous_match</th>\n    </tr>\n  </thead>\n  <tbody>\n  </tbody>\n</table>\n<p>0 rows × 27 columns</p>\n</div>"
     },
     "execution_count": 903,
     "metadata": {},
     "output_type": "execute_result"
    }
   ],
   "source": [
    "match_results_df['datum'] = pd.to_datetime(match_results_df['datum'])\n",
    "goal_events_df['datum'] = pd.to_datetime(goal_events_df['datum'])\n",
    "\n",
    "merged_df = pd.merge(goal_events_df, match_results_df, on='id_match', suffixes=('_goal', '_match'))\n",
    "\n",
    "# Check for discrepancies in dates\n",
    "date_discrepancies_df = merged_df[merged_df['datum_goal'] != merged_df['datum_match']]\n",
    "date_discrepancies_df.head(30)"
   ],
   "metadata": {
    "collapsed": false,
    "ExecuteTime": {
     "end_time": "2024-03-18T21:40:17.617504800Z",
     "start_time": "2024-03-18T21:40:17.454263100Z"
    }
   }
  },
  {
   "cell_type": "code",
   "execution_count": 904,
   "outputs": [
    {
     "data": {
      "text/plain": "Series([], Name: datum, dtype: bool)"
     },
     "execution_count": 904,
     "metadata": {},
     "output_type": "execute_result"
    }
   ],
   "source": [
    "# Groepeer de gegevens op 'Day' en controleer de datums\n",
    "sorted_dates = match_results_df.sort_values(by=['speeldag', 'datum'])\n",
    "date_discrepancies_df = sorted_dates.groupby('speeldag')['datum'].apply(lambda x: x.is_monotonic_increasing)\n",
    "\n",
    "date_discrepancies_df = date_discrepancies_df[date_discrepancies_df == False]\n",
    "date_discrepancies_df.head(30)\n"
   ],
   "metadata": {
    "collapsed": false,
    "ExecuteTime": {
     "end_time": "2024-03-18T21:40:17.648520200Z",
     "start_time": "2024-03-18T21:40:17.505660800Z"
    }
   }
  },
  {
   "cell_type": "code",
   "execution_count": 905,
   "outputs": [
    {
     "data": {
      "text/plain": "Series([], Name: datum, dtype: bool)"
     },
     "execution_count": 905,
     "metadata": {},
     "output_type": "execute_result"
    }
   ],
   "source": [
    "# Sorting the data by season, day, and date\n",
    "sorted_dates = match_results_df.sort_values(by=['seizoen', 'speeldag', 'datum'])\n",
    "\n",
    "# Group by 'season' and 'day', and check if dates are in chronological order within each group\n",
    "grouped = sorted_dates.groupby(['seizoen', 'speeldag'])\n",
    "date_order_check = grouped['datum'].apply(lambda x: x.is_monotonic_increasing)\n",
    "\n",
    "# Identifying seasons and days where dates are not in chronological order\n",
    "date_discrepancies = date_order_check[date_order_check == False]\n",
    "date_discrepancies.head(30)"
   ],
   "metadata": {
    "collapsed": false,
    "ExecuteTime": {
     "end_time": "2024-03-18T21:40:17.765869Z",
     "start_time": "2024-03-18T21:40:17.519988200Z"
    }
   }
  },
  {
   "cell_type": "code",
   "execution_count": 906,
   "outputs": [
    {
     "data": {
      "text/plain": "Empty DataFrame\nColumns: [seizoen, dag, datum, tijd, id_match, thuisploeg_stamnummer, thuisploeg, uitploeg, uitploeg_stamnummer, goal_time, real_time_goal, goal_team_naam, goal_team_stamnummer, stand_thuis, stand_uit, valid_goal]\nIndex: []",
      "text/html": "<div>\n<style scoped>\n    .dataframe tbody tr th:only-of-type {\n        vertical-align: middle;\n    }\n\n    .dataframe tbody tr th {\n        vertical-align: top;\n    }\n\n    .dataframe thead th {\n        text-align: right;\n    }\n</style>\n<table border=\"1\" class=\"dataframe\">\n  <thead>\n    <tr style=\"text-align: right;\">\n      <th></th>\n      <th>seizoen</th>\n      <th>dag</th>\n      <th>datum</th>\n      <th>tijd</th>\n      <th>id_match</th>\n      <th>thuisploeg_stamnummer</th>\n      <th>thuisploeg</th>\n      <th>uitploeg</th>\n      <th>uitploeg_stamnummer</th>\n      <th>goal_time</th>\n      <th>real_time_goal</th>\n      <th>goal_team_naam</th>\n      <th>goal_team_stamnummer</th>\n      <th>stand_thuis</th>\n      <th>stand_uit</th>\n      <th>valid_goal</th>\n    </tr>\n  </thead>\n  <tbody>\n  </tbody>\n</table>\n</div>"
     },
     "execution_count": 906,
     "metadata": {},
     "output_type": "execute_result"
    }
   ],
   "source": [
    "# Filter matches that ended 0-0\n",
    "matches_0_0 = match_results_df[(match_results_df['doelpunten_thuisploeg'] == 0) & (match_results_df['doelpunten_uitploeg'] == 0)]\n",
    "\n",
    "# Get match_ids of 0-0 matches\n",
    "match_ids_0_0 = matches_0_0['id_match']\n",
    "\n",
    "# Check if these matches have any goals in goal_events.csv\n",
    "goals_in_0_0_matches = goal_events_df[goal_events_df['id_match'].isin(match_ids_0_0)]\n",
    "goals_in_0_0_matches.head(100)"
   ],
   "metadata": {
    "collapsed": false,
    "ExecuteTime": {
     "end_time": "2024-03-18T21:40:17.765869Z",
     "start_time": "2024-03-18T21:40:17.654610100Z"
    }
   }
  },
  {
   "cell_type": "code",
   "execution_count": 907,
   "outputs": [
    {
     "data": {
      "text/plain": "       seizoen  speeldag  stand       naam_ploeg  id_ploeg  \\\n11246     2002         1     12  St-Truidense VV       373   \n11247     2002         1     12         KRC Genk       322   \n11248     2002         1     14      La Louviere        94   \n11249     2002         1     15   R Charleroi SC        22   \n11250     2002         1     16     KVC Westerlo      2024   \n11251     2002         1     17        RAEC Mons        44   \n11252     2002         1     17    Standard Luik        16   \n11268     2002         2     17  St-Truidense VV       373   \n11269     2002         2     18     KVC Westerlo      2024   \n11286     2002         3     18     KVC Westerlo      2024   \n\n       aantal_wedstrijden  aantal_gewonnen  aantal_gelijk  aantal_verloren  \\\n11246                   1                0              0                1   \n11247                   1                0              0                1   \n11248                   1                0              0                1   \n11249                   1                0              0                1   \n11250                   1                0              0                1   \n11251                   1                0              0                1   \n11252                   1                0              0                1   \n11268                   1                0              0                1   \n11269                   2                0              0                2   \n11286                   3                0              0                3   \n\n       doelpunten_voor  doelpunten_tegen  verschil  punten  \\\n11246                2                 3        -1     0.0   \n11247                2                 3        -1     0.0   \n11248                1                 2        -1     0.0   \n11249                0                 1        -1     0.0   \n11250                0                 2        -2     0.0   \n11251                0                 3        -3     0.0   \n11252                0                 3        -3     0.0   \n11268                2                 3        -1     0.0   \n11269                1                 4        -3     0.0   \n11286                1                 6        -5     0.0   \n\n       calculated_goal_verschil  calculated_rank  \n11246                        -1             11.0  \n11247                        -1             11.0  \n11248                        -1             13.0  \n11249                        -1             14.0  \n11250                        -2             15.0  \n11251                        -3             16.0  \n11252                        -3             16.0  \n11268                        -1             16.0  \n11269                        -3             17.0  \n11286                        -5             17.0  ",
      "text/html": "<div>\n<style scoped>\n    .dataframe tbody tr th:only-of-type {\n        vertical-align: middle;\n    }\n\n    .dataframe tbody tr th {\n        vertical-align: top;\n    }\n\n    .dataframe thead th {\n        text-align: right;\n    }\n</style>\n<table border=\"1\" class=\"dataframe\">\n  <thead>\n    <tr style=\"text-align: right;\">\n      <th></th>\n      <th>seizoen</th>\n      <th>speeldag</th>\n      <th>stand</th>\n      <th>naam_ploeg</th>\n      <th>id_ploeg</th>\n      <th>aantal_wedstrijden</th>\n      <th>aantal_gewonnen</th>\n      <th>aantal_gelijk</th>\n      <th>aantal_verloren</th>\n      <th>doelpunten_voor</th>\n      <th>doelpunten_tegen</th>\n      <th>verschil</th>\n      <th>punten</th>\n      <th>calculated_goal_verschil</th>\n      <th>calculated_rank</th>\n    </tr>\n  </thead>\n  <tbody>\n    <tr>\n      <th>11246</th>\n      <td>2002</td>\n      <td>1</td>\n      <td>12</td>\n      <td>St-Truidense VV</td>\n      <td>373</td>\n      <td>1</td>\n      <td>0</td>\n      <td>0</td>\n      <td>1</td>\n      <td>2</td>\n      <td>3</td>\n      <td>-1</td>\n      <td>0.0</td>\n      <td>-1</td>\n      <td>11.0</td>\n    </tr>\n    <tr>\n      <th>11247</th>\n      <td>2002</td>\n      <td>1</td>\n      <td>12</td>\n      <td>KRC Genk</td>\n      <td>322</td>\n      <td>1</td>\n      <td>0</td>\n      <td>0</td>\n      <td>1</td>\n      <td>2</td>\n      <td>3</td>\n      <td>-1</td>\n      <td>0.0</td>\n      <td>-1</td>\n      <td>11.0</td>\n    </tr>\n    <tr>\n      <th>11248</th>\n      <td>2002</td>\n      <td>1</td>\n      <td>14</td>\n      <td>La Louviere</td>\n      <td>94</td>\n      <td>1</td>\n      <td>0</td>\n      <td>0</td>\n      <td>1</td>\n      <td>1</td>\n      <td>2</td>\n      <td>-1</td>\n      <td>0.0</td>\n      <td>-1</td>\n      <td>13.0</td>\n    </tr>\n    <tr>\n      <th>11249</th>\n      <td>2002</td>\n      <td>1</td>\n      <td>15</td>\n      <td>R Charleroi SC</td>\n      <td>22</td>\n      <td>1</td>\n      <td>0</td>\n      <td>0</td>\n      <td>1</td>\n      <td>0</td>\n      <td>1</td>\n      <td>-1</td>\n      <td>0.0</td>\n      <td>-1</td>\n      <td>14.0</td>\n    </tr>\n    <tr>\n      <th>11250</th>\n      <td>2002</td>\n      <td>1</td>\n      <td>16</td>\n      <td>KVC Westerlo</td>\n      <td>2024</td>\n      <td>1</td>\n      <td>0</td>\n      <td>0</td>\n      <td>1</td>\n      <td>0</td>\n      <td>2</td>\n      <td>-2</td>\n      <td>0.0</td>\n      <td>-2</td>\n      <td>15.0</td>\n    </tr>\n    <tr>\n      <th>11251</th>\n      <td>2002</td>\n      <td>1</td>\n      <td>17</td>\n      <td>RAEC Mons</td>\n      <td>44</td>\n      <td>1</td>\n      <td>0</td>\n      <td>0</td>\n      <td>1</td>\n      <td>0</td>\n      <td>3</td>\n      <td>-3</td>\n      <td>0.0</td>\n      <td>-3</td>\n      <td>16.0</td>\n    </tr>\n    <tr>\n      <th>11252</th>\n      <td>2002</td>\n      <td>1</td>\n      <td>17</td>\n      <td>Standard Luik</td>\n      <td>16</td>\n      <td>1</td>\n      <td>0</td>\n      <td>0</td>\n      <td>1</td>\n      <td>0</td>\n      <td>3</td>\n      <td>-3</td>\n      <td>0.0</td>\n      <td>-3</td>\n      <td>16.0</td>\n    </tr>\n    <tr>\n      <th>11268</th>\n      <td>2002</td>\n      <td>2</td>\n      <td>17</td>\n      <td>St-Truidense VV</td>\n      <td>373</td>\n      <td>1</td>\n      <td>0</td>\n      <td>0</td>\n      <td>1</td>\n      <td>2</td>\n      <td>3</td>\n      <td>-1</td>\n      <td>0.0</td>\n      <td>-1</td>\n      <td>16.0</td>\n    </tr>\n    <tr>\n      <th>11269</th>\n      <td>2002</td>\n      <td>2</td>\n      <td>18</td>\n      <td>KVC Westerlo</td>\n      <td>2024</td>\n      <td>2</td>\n      <td>0</td>\n      <td>0</td>\n      <td>2</td>\n      <td>1</td>\n      <td>4</td>\n      <td>-3</td>\n      <td>0.0</td>\n      <td>-3</td>\n      <td>17.0</td>\n    </tr>\n    <tr>\n      <th>11286</th>\n      <td>2002</td>\n      <td>3</td>\n      <td>18</td>\n      <td>KVC Westerlo</td>\n      <td>2024</td>\n      <td>3</td>\n      <td>0</td>\n      <td>0</td>\n      <td>3</td>\n      <td>1</td>\n      <td>6</td>\n      <td>-5</td>\n      <td>0.0</td>\n      <td>-5</td>\n      <td>17.0</td>\n    </tr>\n  </tbody>\n</table>\n</div>"
     },
     "execution_count": 907,
     "metadata": {},
     "output_type": "execute_result"
    }
   ],
   "source": [
    "import pandas as pd\n",
    "\n",
    "# Zet relevante kolommen om naar numeriek\n",
    "standings_df['punten'] = pd.to_numeric(standings_df['punten'], errors='coerce')\n",
    "standings_df['aantal_gewonnen'] = pd.to_numeric(standings_df['aantal_gewonnen'], errors='coerce')\n",
    "standings_df['calculated_goal_verschil'] = pd.to_numeric(standings_df['calculated_goal_verschil'], errors='coerce')\n",
    "standings_df['doelpunten_voor'] = pd.to_numeric(standings_df['doelpunten_voor'], errors='coerce')\n",
    "\n",
    "# Bereid een DataFrame voor om de resultaten op te slaan\n",
    "all_seasons_ranked = pd.DataFrame()\n",
    "\n",
    "# Loop over elk seizoen\n",
    "for seizoen in standings_df['seizoen'].unique():\n",
    "    # Filter de DataFrame voor het huidige seizoen\n",
    "    filtered_df = standings_df[standings_df['seizoen'] == seizoen]\n",
    "\n",
    "    # Sorteer en bereken rangorde\n",
    "    sorted_df = filtered_df.sort_values(by=['speeldag', 'punten', 'aantal_gewonnen', 'calculated_goal_verschil', 'doelpunten_voor'], ascending=[True, False, False, False, False])\n",
    "    sorted_df['calculated_rank'] = sorted_df.groupby('speeldag')['stand'].rank(method='min', ascending=True)\n",
    "\n",
    "    # Voeg de berekende rangorde toe aan de oorspronkelijke DataFrame\n",
    "    filtered_df = filtered_df.merge(sorted_df[['seizoen', 'speeldag', 'id_ploeg', 'calculated_rank']], on=['seizoen', 'speeldag', 'id_ploeg'], how='left')\n",
    "\n",
    "    # Voeg toe aan het totale resultaat\n",
    "    all_seasons_ranked = pd.concat([all_seasons_ranked, filtered_df], ignore_index=True)\n",
    "\n",
    "# Controleer op discrepanties voor alle seizoenen\n",
    "discrepancies_standing = all_seasons_ranked[all_seasons_ranked['stand'] != all_seasons_ranked['calculated_rank']]\n",
    "\n",
    "#De huidige errors hebben te maken met verwijderde data maar in het algemeen kloppen\n",
    "discrepancies_standing.head(1000)\n"
   ],
   "metadata": {
    "collapsed": false,
    "ExecuteTime": {
     "end_time": "2024-03-18T21:40:18.113399Z",
     "start_time": "2024-03-18T21:40:17.670321700Z"
    }
   }
  }
 ]
}
