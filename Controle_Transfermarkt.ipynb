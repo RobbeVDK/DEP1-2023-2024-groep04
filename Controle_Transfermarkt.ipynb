{
 "nbformat": 4,
 "nbformat_minor": 0,
 "metadata": {
  "colab": {
   "provenance": []
  },
  "kernelspec": {
   "name": "python3",
   "language": "python",
   "display_name": "Python 3 (ipykernel)"
  },
  "language_info": {
   "name": "python"
  }
 },
 "cells": [
  {
   "cell_type": "code",
   "execution_count": 1431,
   "outputs": [],
   "source": [
    "import pandas as pd\n",
    "\n",
    "# Load CSV files\n",
    "match_results_df = pd.read_csv('csv/wedstrijden_onverwerkd.csv')\n",
    "goal_events_df = pd.read_csv('csv/doelpunten_onverwerkd.csv')\n",
    "standings_df = pd.read_csv('csv/klassement_onverwerkd.csv')\n",
    "\n",
    "#Filter voor valid goals\n",
    "goal_events_df = goal_events_df[goal_events_df['valid_goal'] == True]\n",
    "\n",
    "# Filter of vervang niet-numerieke waarden\n",
    "match_results_df['doelpunten_thuisploeg'] = pd.to_numeric(match_results_df['doelpunten_thuisploeg'], errors='coerce').fillna(0)\n",
    "match_results_df['doelpunten_uitploeg'] = pd.to_numeric(match_results_df['doelpunten_uitploeg'], errors='coerce').fillna(0)\n",
    "\n",
    "# Conversie naar int\n",
    "match_results_df['doelpunten_thuisploeg'] = match_results_df['doelpunten_thuisploeg'].astype(int)\n",
    "match_results_df['doelpunten_uitploeg'] = match_results_df['doelpunten_uitploeg'].astype(int)"
   ],
   "metadata": {
    "collapsed": false,
    "ExecuteTime": {
     "end_time": "2024-03-18T22:52:49.143067600Z",
     "start_time": "2024-03-18T22:52:48.981936Z"
    }
   }
  },
  {
   "cell_type": "code",
   "execution_count": 1432,
   "outputs": [
    {
     "data": {
      "text/plain": "Empty DataFrame\nColumns: [seizoen, speeldag, datum, tijd, id_match, thuisploeg_stamnummer, thuisploeg, uitploeg_stamnummer, uitploeg, doelpunten_thuisploeg, doelpunten_uitploeg, same_as_previous_match]\nIndex: []",
      "text/html": "<div>\n<style scoped>\n    .dataframe tbody tr th:only-of-type {\n        vertical-align: middle;\n    }\n\n    .dataframe tbody tr th {\n        vertical-align: top;\n    }\n\n    .dataframe thead th {\n        text-align: right;\n    }\n</style>\n<table border=\"1\" class=\"dataframe\">\n  <thead>\n    <tr style=\"text-align: right;\">\n      <th></th>\n      <th>seizoen</th>\n      <th>speeldag</th>\n      <th>datum</th>\n      <th>tijd</th>\n      <th>id_match</th>\n      <th>thuisploeg_stamnummer</th>\n      <th>thuisploeg</th>\n      <th>uitploeg_stamnummer</th>\n      <th>uitploeg</th>\n      <th>doelpunten_thuisploeg</th>\n      <th>doelpunten_uitploeg</th>\n      <th>same_as_previous_match</th>\n    </tr>\n  </thead>\n  <tbody>\n  </tbody>\n</table>\n</div>"
     },
     "execution_count": 1432,
     "metadata": {},
     "output_type": "execute_result"
    }
   ],
   "source": [
    "# Vind alle verplaatste matches, namelijk de match id zal dezelfde zijn als de vorige\n",
    "match_results_df['same_as_previous_match'] = match_results_df['id_match'].eq(match_results_df['id_match'].shift())\n",
    "\n",
    "# Selecteer alleen de rijen waar 'same_as_previous_match' True is\n",
    "duplicate_matches = match_results_df[match_results_df['same_as_previous_match']]\n",
    "duplicate_matches.head(30)"
   ],
   "metadata": {
    "collapsed": false,
    "ExecuteTime": {
     "end_time": "2024-03-18T22:52:49.153233800Z",
     "start_time": "2024-03-18T22:52:49.145064900Z"
    }
   }
  },
  {
   "cell_type": "code",
   "source": [
    "# Bereken goals\n",
    "goals_home_team = goal_events_df[goal_events_df['goal_team_stamnummer'] == goal_events_df['thuisploeg_stamnummer']].groupby('id_match').size()\n",
    "goals_away_team = goal_events_df[goal_events_df['goal_team_stamnummer'] == goal_events_df['uitploeg_stamnummer']].groupby('id_match').size()\n",
    "\n",
    "# Omzetting\n",
    "goals_home_team_df = goals_home_team.reset_index(name='calculated_doelpunten_thuisploeg')\n",
    "goals_away_team_df = goals_away_team.reset_index(name='calculated_doelpunten_uitploeg')\n",
    "\n",
    "# Vervang NaN values in goal kolom met 0\n",
    "merged_df = pd.merge(match_results_df, goals_home_team_df, on='id_match', how='outer')\n",
    "merged_df = pd.merge(merged_df, goals_away_team_df, on='id_match', how='outer')\n",
    "merged_df['calculated_doelpunten_thuisploeg'] = merged_df['calculated_doelpunten_thuisploeg'].fillna(0).astype(int)\n",
    "merged_df['calculated_doelpunten_uitploeg'] = merged_df['calculated_doelpunten_uitploeg'].fillna(0).astype(int)\n",
    "\n",
    "# Bereken verschil tussen berekening en resultaat\n",
    "discrepancies_goals = merged_df[\n",
    "    ((merged_df['calculated_doelpunten_thuisploeg'] != merged_df['doelpunten_thuisploeg']) |\n",
    "    (merged_df['calculated_doelpunten_uitploeg'] != merged_df['doelpunten_uitploeg'])) &\n",
    "    ~((merged_df['doelpunten_thuisploeg'] == 5) & (merged_df['doelpunten_uitploeg'] == 0)) &\n",
    "    ~((merged_df['doelpunten_thuisploeg'] == 0) & (merged_df['doelpunten_uitploeg'] == 5))\n",
    "]\n",
    "\n",
    "# Toon alle matches waarbij de berekende goals niet overeenkomen met echte - Lommel 2002, Excelsior 2009 verwijderen we alles van, matches, klassement en doelpunten\n",
    "discrepancies_goals.head(1000)"
   ],
   "metadata": {
    "colab": {
     "base_uri": "https://localhost:8080/",
     "height": 112
    },
    "id": "o2sprn5OdrMd",
    "outputId": "f94268b2-1596-43cb-f848-22639c5445c7",
    "ExecuteTime": {
     "end_time": "2024-03-18T22:52:49.222423Z",
     "start_time": "2024-03-18T22:52:49.154231800Z"
    }
   },
   "execution_count": 1433,
   "outputs": [
    {
     "data": {
      "text/plain": "       seizoen  speeldag       datum      tijd  id_match  \\\n13329     1977        14  1977/11/20  15:00:00   4012716   \n13330     1977        15  1977/11/26  19:30:00   4012718   \n13335     1977        15  1977/11/27  15:00:00   4012722   \n13337     1977        15  1977/11/27  15:00:00   4012724   \n13340     1977        16  1977/12/03  20:00:00   4012726   \n...        ...       ...         ...       ...       ...   \n15610     1969        15  1969/12/14  14:30:00   4010466   \n15611     1969        15  1969/12/14  14:30:00   4010467   \n15612     1969        15  1969/12/14  14:30:00   4010468   \n15613     1969        15  1969/12/14  14:30:00   4010469   \n15614     1969        15  1969/12/14  14:30:00   4010470   \n\n       thuisploeg_stamnummer         thuisploeg  uitploeg_stamnummer  \\\n13329                     19        KV Kortrijk                 4451   \n13330                     22     R Charleroi SC                   35   \n13335                   2300        KSK Beveren                    4   \n13337                     30          Lierse SK                   19   \n13340                     35     RSC Anderlecht                 2300   \n...                      ...                ...                  ...   \n15610                     16      Standard Luik                 4451   \n15611                     35     RSC Anderlecht                    7   \n15612                    373  Sint-Truidense VV                   13   \n15613                   2300        KSK Beveren                  522   \n15614                     22     R Charleroi SC                   55   \n\n             uitploeg  doelpunten_thuisploeg  doelpunten_uitploeg  \\\n13329     KSV Waregem                      1                    1   \n13330  RSC Anderlecht                      2                    1   \n13335        RFC Luik                      2                    0   \n13337     KV Kortrijk                      2                    0   \n13340     KSK Beveren                      0                    1   \n...               ...                    ...                  ...   \n15610     KSV Waregem                      2                    0   \n15611        KAA Gent                      3                    1   \n15612       Beerschot                      3                    0   \n15613     Beringen FC                      2                    1   \n15614  RCC Schaerbeek                      6                    0   \n\n       same_as_previous_match  calculated_doelpunten_thuisploeg  \\\n13329                   False                                 0   \n13330                   False                                 0   \n13335                   False                                 0   \n13337                   False                                 0   \n13340                   False                                 0   \n...                       ...                               ...   \n15610                   False                                 0   \n15611                   False                                 0   \n15612                   False                                 0   \n15613                   False                                 0   \n15614                   False                                 0   \n\n       calculated_doelpunten_uitploeg  \n13329                               0  \n13330                               0  \n13335                               0  \n13337                               0  \n13340                               0  \n...                               ...  \n15610                               0  \n15611                               0  \n15612                               0  \n15613                               0  \n15614                               0  \n\n[1000 rows x 14 columns]",
      "text/html": "<div>\n<style scoped>\n    .dataframe tbody tr th:only-of-type {\n        vertical-align: middle;\n    }\n\n    .dataframe tbody tr th {\n        vertical-align: top;\n    }\n\n    .dataframe thead th {\n        text-align: right;\n    }\n</style>\n<table border=\"1\" class=\"dataframe\">\n  <thead>\n    <tr style=\"text-align: right;\">\n      <th></th>\n      <th>seizoen</th>\n      <th>speeldag</th>\n      <th>datum</th>\n      <th>tijd</th>\n      <th>id_match</th>\n      <th>thuisploeg_stamnummer</th>\n      <th>thuisploeg</th>\n      <th>uitploeg_stamnummer</th>\n      <th>uitploeg</th>\n      <th>doelpunten_thuisploeg</th>\n      <th>doelpunten_uitploeg</th>\n      <th>same_as_previous_match</th>\n      <th>calculated_doelpunten_thuisploeg</th>\n      <th>calculated_doelpunten_uitploeg</th>\n    </tr>\n  </thead>\n  <tbody>\n    <tr>\n      <th>13329</th>\n      <td>1977</td>\n      <td>14</td>\n      <td>1977/11/20</td>\n      <td>15:00:00</td>\n      <td>4012716</td>\n      <td>19</td>\n      <td>KV Kortrijk</td>\n      <td>4451</td>\n      <td>KSV Waregem</td>\n      <td>1</td>\n      <td>1</td>\n      <td>False</td>\n      <td>0</td>\n      <td>0</td>\n    </tr>\n    <tr>\n      <th>13330</th>\n      <td>1977</td>\n      <td>15</td>\n      <td>1977/11/26</td>\n      <td>19:30:00</td>\n      <td>4012718</td>\n      <td>22</td>\n      <td>R Charleroi SC</td>\n      <td>35</td>\n      <td>RSC Anderlecht</td>\n      <td>2</td>\n      <td>1</td>\n      <td>False</td>\n      <td>0</td>\n      <td>0</td>\n    </tr>\n    <tr>\n      <th>13335</th>\n      <td>1977</td>\n      <td>15</td>\n      <td>1977/11/27</td>\n      <td>15:00:00</td>\n      <td>4012722</td>\n      <td>2300</td>\n      <td>KSK Beveren</td>\n      <td>4</td>\n      <td>RFC Luik</td>\n      <td>2</td>\n      <td>0</td>\n      <td>False</td>\n      <td>0</td>\n      <td>0</td>\n    </tr>\n    <tr>\n      <th>13337</th>\n      <td>1977</td>\n      <td>15</td>\n      <td>1977/11/27</td>\n      <td>15:00:00</td>\n      <td>4012724</td>\n      <td>30</td>\n      <td>Lierse SK</td>\n      <td>19</td>\n      <td>KV Kortrijk</td>\n      <td>2</td>\n      <td>0</td>\n      <td>False</td>\n      <td>0</td>\n      <td>0</td>\n    </tr>\n    <tr>\n      <th>13340</th>\n      <td>1977</td>\n      <td>16</td>\n      <td>1977/12/03</td>\n      <td>20:00:00</td>\n      <td>4012726</td>\n      <td>35</td>\n      <td>RSC Anderlecht</td>\n      <td>2300</td>\n      <td>KSK Beveren</td>\n      <td>0</td>\n      <td>1</td>\n      <td>False</td>\n      <td>0</td>\n      <td>0</td>\n    </tr>\n    <tr>\n      <th>...</th>\n      <td>...</td>\n      <td>...</td>\n      <td>...</td>\n      <td>...</td>\n      <td>...</td>\n      <td>...</td>\n      <td>...</td>\n      <td>...</td>\n      <td>...</td>\n      <td>...</td>\n      <td>...</td>\n      <td>...</td>\n      <td>...</td>\n      <td>...</td>\n    </tr>\n    <tr>\n      <th>15610</th>\n      <td>1969</td>\n      <td>15</td>\n      <td>1969/12/14</td>\n      <td>14:30:00</td>\n      <td>4010466</td>\n      <td>16</td>\n      <td>Standard Luik</td>\n      <td>4451</td>\n      <td>KSV Waregem</td>\n      <td>2</td>\n      <td>0</td>\n      <td>False</td>\n      <td>0</td>\n      <td>0</td>\n    </tr>\n    <tr>\n      <th>15611</th>\n      <td>1969</td>\n      <td>15</td>\n      <td>1969/12/14</td>\n      <td>14:30:00</td>\n      <td>4010467</td>\n      <td>35</td>\n      <td>RSC Anderlecht</td>\n      <td>7</td>\n      <td>KAA Gent</td>\n      <td>3</td>\n      <td>1</td>\n      <td>False</td>\n      <td>0</td>\n      <td>0</td>\n    </tr>\n    <tr>\n      <th>15612</th>\n      <td>1969</td>\n      <td>15</td>\n      <td>1969/12/14</td>\n      <td>14:30:00</td>\n      <td>4010468</td>\n      <td>373</td>\n      <td>Sint-Truidense VV</td>\n      <td>13</td>\n      <td>Beerschot</td>\n      <td>3</td>\n      <td>0</td>\n      <td>False</td>\n      <td>0</td>\n      <td>0</td>\n    </tr>\n    <tr>\n      <th>15613</th>\n      <td>1969</td>\n      <td>15</td>\n      <td>1969/12/14</td>\n      <td>14:30:00</td>\n      <td>4010469</td>\n      <td>2300</td>\n      <td>KSK Beveren</td>\n      <td>522</td>\n      <td>Beringen FC</td>\n      <td>2</td>\n      <td>1</td>\n      <td>False</td>\n      <td>0</td>\n      <td>0</td>\n    </tr>\n    <tr>\n      <th>15614</th>\n      <td>1969</td>\n      <td>15</td>\n      <td>1969/12/14</td>\n      <td>14:30:00</td>\n      <td>4010470</td>\n      <td>22</td>\n      <td>R Charleroi SC</td>\n      <td>55</td>\n      <td>RCC Schaerbeek</td>\n      <td>6</td>\n      <td>0</td>\n      <td>False</td>\n      <td>0</td>\n      <td>0</td>\n    </tr>\n  </tbody>\n</table>\n<p>1000 rows × 14 columns</p>\n</div>"
     },
     "execution_count": 1433,
     "metadata": {},
     "output_type": "execute_result"
    }
   ]
  },
  {
   "cell_type": "code",
   "execution_count": 1434,
   "outputs": [
    {
     "data": {
      "text/plain": "       seizoen  speeldag       datum      tijd  id_match  \\\n356       2022        14  2022/10/23  18:30:00   3851182   \n380       2022        17  2022/11/12  20:45:00   3851244   \n728       2021        22  2022/01/15  16:15:00   3598295   \n841       2021        34  2022/04/10  18:30:00   3598351   \n2427      2014        11  2014/10/19  14:30:00   2503727   \n...        ...       ...         ...       ...       ...   \n15573     1969        10  1969/11/09  15:00:00   4010432   \n15574     1969        10  1969/11/09  15:00:00   4010433   \n15576     1969        10  1969/11/11  15:00:00   4010435   \n15577     1969        10  1970/03/22  16:00:00   4010565   \n15578     1969        11  1969/11/15  20:00:00   4010436   \n\n       thuisploeg_stamnummer            thuisploeg  uitploeg_stamnummer  \\\n356                       16         Standard Luik                   35   \n380                       22        R Charleroi SC                   25   \n728                       18   Oud-Heverlee Leuven                   25   \n841                       10  Union Saint-Gilloise                   13   \n2427                      16         Standard Luik                 5381   \n...                      ...                   ...                  ...   \n15573                     10  Union Saint-Gilloise                   22   \n15574                     53        AS Oostende KM                    4   \n15576                    373     Sint-Truidense VV                    3   \n15577                     30             Lierse SK                   35   \n15578                     22        R Charleroi SC                   53   \n\n               uitploeg  doelpunten_thuisploeg  doelpunten_uitploeg  \\\n356      RSC Anderlecht                      5                    0   \n380         KV Mechelen                      0                    5   \n728         KV Mechelen                      5                    0   \n841           Beerschot                      5                    0   \n2427   SV Zulte Waregem                      0                    5   \n...                 ...                    ...                  ...   \n15573    R Charleroi SC                      2                    0   \n15574          RFC Luik                      2                    2   \n15576       Club Brugge                      2                    2   \n15577    RSC Anderlecht                      1                    0   \n15578    AS Oostende KM                      1                    0   \n\n       same_as_previous_match  calculated_doelpunten_thuisploeg  \\\n356                     False                                 3   \n380                     False                                 1   \n728                     False                                 0   \n841                     False                                 0   \n2427                    False                                 1   \n...                       ...                               ...   \n15573                   False                                 0   \n15574                   False                                 0   \n15576                   False                                 0   \n15577                   False                                 0   \n15578                   False                                 0   \n\n       calculated_doelpunten_uitploeg  \n356                                 1  \n380                                 0  \n728                                 0  \n841                                 0  \n2427                                2  \n...                               ...  \n15573                               0  \n15574                               0  \n15576                               0  \n15577                               0  \n15578                               0  \n\n[1000 rows x 14 columns]",
      "text/html": "<div>\n<style scoped>\n    .dataframe tbody tr th:only-of-type {\n        vertical-align: middle;\n    }\n\n    .dataframe tbody tr th {\n        vertical-align: top;\n    }\n\n    .dataframe thead th {\n        text-align: right;\n    }\n</style>\n<table border=\"1\" class=\"dataframe\">\n  <thead>\n    <tr style=\"text-align: right;\">\n      <th></th>\n      <th>seizoen</th>\n      <th>speeldag</th>\n      <th>datum</th>\n      <th>tijd</th>\n      <th>id_match</th>\n      <th>thuisploeg_stamnummer</th>\n      <th>thuisploeg</th>\n      <th>uitploeg_stamnummer</th>\n      <th>uitploeg</th>\n      <th>doelpunten_thuisploeg</th>\n      <th>doelpunten_uitploeg</th>\n      <th>same_as_previous_match</th>\n      <th>calculated_doelpunten_thuisploeg</th>\n      <th>calculated_doelpunten_uitploeg</th>\n    </tr>\n  </thead>\n  <tbody>\n    <tr>\n      <th>356</th>\n      <td>2022</td>\n      <td>14</td>\n      <td>2022/10/23</td>\n      <td>18:30:00</td>\n      <td>3851182</td>\n      <td>16</td>\n      <td>Standard Luik</td>\n      <td>35</td>\n      <td>RSC Anderlecht</td>\n      <td>5</td>\n      <td>0</td>\n      <td>False</td>\n      <td>3</td>\n      <td>1</td>\n    </tr>\n    <tr>\n      <th>380</th>\n      <td>2022</td>\n      <td>17</td>\n      <td>2022/11/12</td>\n      <td>20:45:00</td>\n      <td>3851244</td>\n      <td>22</td>\n      <td>R Charleroi SC</td>\n      <td>25</td>\n      <td>KV Mechelen</td>\n      <td>0</td>\n      <td>5</td>\n      <td>False</td>\n      <td>1</td>\n      <td>0</td>\n    </tr>\n    <tr>\n      <th>728</th>\n      <td>2021</td>\n      <td>22</td>\n      <td>2022/01/15</td>\n      <td>16:15:00</td>\n      <td>3598295</td>\n      <td>18</td>\n      <td>Oud-Heverlee Leuven</td>\n      <td>25</td>\n      <td>KV Mechelen</td>\n      <td>5</td>\n      <td>0</td>\n      <td>False</td>\n      <td>0</td>\n      <td>0</td>\n    </tr>\n    <tr>\n      <th>841</th>\n      <td>2021</td>\n      <td>34</td>\n      <td>2022/04/10</td>\n      <td>18:30:00</td>\n      <td>3598351</td>\n      <td>10</td>\n      <td>Union Saint-Gilloise</td>\n      <td>13</td>\n      <td>Beerschot</td>\n      <td>5</td>\n      <td>0</td>\n      <td>False</td>\n      <td>0</td>\n      <td>0</td>\n    </tr>\n    <tr>\n      <th>2427</th>\n      <td>2014</td>\n      <td>11</td>\n      <td>2014/10/19</td>\n      <td>14:30:00</td>\n      <td>2503727</td>\n      <td>16</td>\n      <td>Standard Luik</td>\n      <td>5381</td>\n      <td>SV Zulte Waregem</td>\n      <td>0</td>\n      <td>5</td>\n      <td>False</td>\n      <td>1</td>\n      <td>2</td>\n    </tr>\n    <tr>\n      <th>...</th>\n      <td>...</td>\n      <td>...</td>\n      <td>...</td>\n      <td>...</td>\n      <td>...</td>\n      <td>...</td>\n      <td>...</td>\n      <td>...</td>\n      <td>...</td>\n      <td>...</td>\n      <td>...</td>\n      <td>...</td>\n      <td>...</td>\n      <td>...</td>\n    </tr>\n    <tr>\n      <th>15573</th>\n      <td>1969</td>\n      <td>10</td>\n      <td>1969/11/09</td>\n      <td>15:00:00</td>\n      <td>4010432</td>\n      <td>10</td>\n      <td>Union Saint-Gilloise</td>\n      <td>22</td>\n      <td>R Charleroi SC</td>\n      <td>2</td>\n      <td>0</td>\n      <td>False</td>\n      <td>0</td>\n      <td>0</td>\n    </tr>\n    <tr>\n      <th>15574</th>\n      <td>1969</td>\n      <td>10</td>\n      <td>1969/11/09</td>\n      <td>15:00:00</td>\n      <td>4010433</td>\n      <td>53</td>\n      <td>AS Oostende KM</td>\n      <td>4</td>\n      <td>RFC Luik</td>\n      <td>2</td>\n      <td>2</td>\n      <td>False</td>\n      <td>0</td>\n      <td>0</td>\n    </tr>\n    <tr>\n      <th>15576</th>\n      <td>1969</td>\n      <td>10</td>\n      <td>1969/11/11</td>\n      <td>15:00:00</td>\n      <td>4010435</td>\n      <td>373</td>\n      <td>Sint-Truidense VV</td>\n      <td>3</td>\n      <td>Club Brugge</td>\n      <td>2</td>\n      <td>2</td>\n      <td>False</td>\n      <td>0</td>\n      <td>0</td>\n    </tr>\n    <tr>\n      <th>15577</th>\n      <td>1969</td>\n      <td>10</td>\n      <td>1970/03/22</td>\n      <td>16:00:00</td>\n      <td>4010565</td>\n      <td>30</td>\n      <td>Lierse SK</td>\n      <td>35</td>\n      <td>RSC Anderlecht</td>\n      <td>1</td>\n      <td>0</td>\n      <td>False</td>\n      <td>0</td>\n      <td>0</td>\n    </tr>\n    <tr>\n      <th>15578</th>\n      <td>1969</td>\n      <td>11</td>\n      <td>1969/11/15</td>\n      <td>20:00:00</td>\n      <td>4010436</td>\n      <td>22</td>\n      <td>R Charleroi SC</td>\n      <td>53</td>\n      <td>AS Oostende KM</td>\n      <td>1</td>\n      <td>0</td>\n      <td>False</td>\n      <td>0</td>\n      <td>0</td>\n    </tr>\n  </tbody>\n</table>\n<p>1000 rows × 14 columns</p>\n</div>"
     },
     "execution_count": 1434,
     "metadata": {},
     "output_type": "execute_result"
    }
   ],
   "source": [
    "#Controle voor (5:0 of 0:5's)\n",
    "discrepancies_goals = merged_df[\n",
    "    (merged_df['calculated_doelpunten_thuisploeg'] != merged_df['doelpunten_thuisploeg']) |\n",
    "    (merged_df['calculated_doelpunten_uitploeg'] != merged_df['doelpunten_uitploeg'])\n",
    "]\n",
    "#Wordt gebruikt om manueel alle 5:0 of 0:5's te controleren aangezien het technisch gezien een echt resultaat kan zijn\n",
    "discrepancies_goals.head(1000)"
   ],
   "metadata": {
    "collapsed": false,
    "ExecuteTime": {
     "end_time": "2024-03-18T22:52:49.273882Z",
     "start_time": "2024-03-18T22:52:49.198836100Z"
    }
   }
  },
  {
   "cell_type": "code",
   "execution_count": 1435,
   "outputs": [
    {
     "data": {
      "text/plain": "Empty DataFrame\nColumns: [seizoen, speeldag, stand, naam_ploeg, id_ploeg, aantal_wedstrijden, aantal_gewonnen, aantal_gelijk, aantal_verloren, doelpunten_voor, doelpunten_tegen, verschil, punten]\nIndex: []",
      "text/html": "<div>\n<style scoped>\n    .dataframe tbody tr th:only-of-type {\n        vertical-align: middle;\n    }\n\n    .dataframe tbody tr th {\n        vertical-align: top;\n    }\n\n    .dataframe thead th {\n        text-align: right;\n    }\n</style>\n<table border=\"1\" class=\"dataframe\">\n  <thead>\n    <tr style=\"text-align: right;\">\n      <th></th>\n      <th>seizoen</th>\n      <th>speeldag</th>\n      <th>stand</th>\n      <th>naam_ploeg</th>\n      <th>id_ploeg</th>\n      <th>aantal_wedstrijden</th>\n      <th>aantal_gewonnen</th>\n      <th>aantal_gelijk</th>\n      <th>aantal_verloren</th>\n      <th>doelpunten_voor</th>\n      <th>doelpunten_tegen</th>\n      <th>verschil</th>\n      <th>punten</th>\n    </tr>\n  </thead>\n  <tbody>\n  </tbody>\n</table>\n</div>"
     },
     "execution_count": 1435,
     "metadata": {},
     "output_type": "execute_result"
    }
   ],
   "source": [
    "# controle van aantal_wedstrijden\n",
    "# Geen enkel record met meer wedstrijden dan speeldagen\n",
    "number_of_games_check = standings_df[standings_df.speeldag < standings_df.aantal_wedstrijden]\n",
    "number_of_games_check.head(30)"
   ],
   "metadata": {
    "collapsed": false,
    "ExecuteTime": {
     "end_time": "2024-03-18T22:52:49.275883600Z",
     "start_time": "2024-03-18T22:52:49.215311600Z"
    }
   }
  },
  {
   "cell_type": "code",
   "execution_count": 1436,
   "outputs": [
    {
     "data": {
      "text/plain": "1975    551\n2002    442\n2009    360\nName: seizoen, dtype: int64"
     },
     "execution_count": 1436,
     "metadata": {},
     "output_type": "execute_result"
    }
   ],
   "source": [
    "# controle van aantal_wedstrijden\n",
    "# wel records met minder wedstrijden dan speeldagen, maar bij nazicht van een aantal records klopt dit\n",
    "number_of_games_check = standings_df[standings_df.speeldag > standings_df.aantal_wedstrijden]\n",
    "number_of_games_check.seizoen.value_counts()"
   ],
   "metadata": {
    "collapsed": false,
    "ExecuteTime": {
     "end_time": "2024-03-18T22:52:49.275883600Z",
     "start_time": "2024-03-18T22:52:49.225431500Z"
    }
   }
  },
  {
   "cell_type": "code",
   "execution_count": 1437,
   "outputs": [
    {
     "data": {
      "text/plain": "seizoen               0\nspeeldag              0\nstand                 0\nnaam_ploeg            0\nid_ploeg              0\naantal_wedstrijden    0\naantal_gewonnen       0\naantal_gelijk         0\naantal_verloren       0\ndoelpunten_voor       0\ndoelpunten_tegen      0\nverschil              0\npunten                0\ndtype: int64"
     },
     "execution_count": 1437,
     "metadata": {},
     "output_type": "execute_result"
    }
   ],
   "source": [
    "# geen records met aantal wedstrijden != win + gelijk + verlies\n",
    "number_of_games_check = standings_df[standings_df.aantal_wedstrijden != (standings_df.aantal_gewonnen + standings_df.aantal_gelijk + standings_df.aantal_verloren)]\n",
    "number_of_games_check.count()"
   ],
   "metadata": {
    "collapsed": false,
    "ExecuteTime": {
     "end_time": "2024-03-18T22:52:49.275883600Z",
     "start_time": "2024-03-18T22:52:49.233508Z"
    }
   }
  },
  {
   "cell_type": "code",
   "execution_count": 1438,
   "outputs": [
    {
     "data": {
      "text/plain": "seizoen                     0\nspeeldag                    0\nstand                       0\nnaam_ploeg                  0\nid_ploeg                    0\naantal_wedstrijden          0\naantal_gewonnen             0\naantal_gelijk               0\naantal_verloren             0\ndoelpunten_voor             0\ndoelpunten_tegen            0\nverschil                    0\npunten                      0\ncalculated_goal_verschil    0\ndtype: int64"
     },
     "execution_count": 1438,
     "metadata": {},
     "output_type": "execute_result"
    }
   ],
   "source": [
    "# geen records met doelpunten voor - doelpunten tegen != doelpunten verschil\n",
    "standings_df['calculated_goal_verschil'] = standings_df['doelpunten_voor'] - standings_df['doelpunten_tegen']\n",
    "controle_aantal_wedstrijden = standings_df[standings_df['calculated_goal_verschil'] != standings_df['verschil']]\n",
    "controle_aantal_wedstrijden.count()"
   ],
   "metadata": {
    "collapsed": false,
    "ExecuteTime": {
     "end_time": "2024-03-18T22:52:49.275883600Z",
     "start_time": "2024-03-18T22:52:49.241090800Z"
    }
   }
  },
  {
   "cell_type": "code",
   "execution_count": 1439,
   "outputs": [],
   "source": [
    "# het totaal aantal gewonnen matchen per seizoen en per ploeg\n",
    "points_df = standings_df.groupby(['seizoen','speeldag','id_ploeg', 'punten'])[['aantal_gewonnen','aantal_gelijk','aantal_verloren']].sum()\n",
    "points_df = points_df.reset_index()\n",
    "points_df = points_df.sort_values(['seizoen','speeldag','aantal_gewonnen','aantal_gelijk','aantal_verloren'], ascending = [True, True, False, False, False])"
   ],
   "metadata": {
    "collapsed": false,
    "ExecuteTime": {
     "end_time": "2024-03-18T22:52:49.346711600Z",
     "start_time": "2024-03-18T22:52:49.253829600Z"
    }
   }
  },
  {
   "cell_type": "code",
   "execution_count": 1440,
   "outputs": [
    {
     "data": {
      "text/plain": "     seizoen  speeldag  id_ploeg punten  aantal_gewonnen  aantal_gelijk  \\\n1       1960         1         2    2:0                1              0   \n3       1960         1         4    2:0                1              0   \n5       1960         1        10    2:0                1              0   \n6       1960         1        13    2:0                1              0   \n7       1960         1        16    2:0                1              0   \n..       ...       ...       ...    ...              ...            ...   \n95      1960         6      3434   2:10                0              2   \n103     1960         7        16   12:2                5              2   \n97      1960         7         2   10:4                4              2   \n99      1960         7         4   10:4                4              2   \n107     1960         7        90    9:5                4              1   \n\n     aantal_verloren  punten_check  \n1                  0             3  \n3                  0             3  \n5                  0             3  \n6                  0             3  \n7                  0             3  \n..               ...           ...  \n95                 4             2  \n103                0            17  \n97                 1            14  \n99                 1            14  \n107                2            13  \n\n[100 rows x 8 columns]",
      "text/html": "<div>\n<style scoped>\n    .dataframe tbody tr th:only-of-type {\n        vertical-align: middle;\n    }\n\n    .dataframe tbody tr th {\n        vertical-align: top;\n    }\n\n    .dataframe thead th {\n        text-align: right;\n    }\n</style>\n<table border=\"1\" class=\"dataframe\">\n  <thead>\n    <tr style=\"text-align: right;\">\n      <th></th>\n      <th>seizoen</th>\n      <th>speeldag</th>\n      <th>id_ploeg</th>\n      <th>punten</th>\n      <th>aantal_gewonnen</th>\n      <th>aantal_gelijk</th>\n      <th>aantal_verloren</th>\n      <th>punten_check</th>\n    </tr>\n  </thead>\n  <tbody>\n    <tr>\n      <th>1</th>\n      <td>1960</td>\n      <td>1</td>\n      <td>2</td>\n      <td>2:0</td>\n      <td>1</td>\n      <td>0</td>\n      <td>0</td>\n      <td>3</td>\n    </tr>\n    <tr>\n      <th>3</th>\n      <td>1960</td>\n      <td>1</td>\n      <td>4</td>\n      <td>2:0</td>\n      <td>1</td>\n      <td>0</td>\n      <td>0</td>\n      <td>3</td>\n    </tr>\n    <tr>\n      <th>5</th>\n      <td>1960</td>\n      <td>1</td>\n      <td>10</td>\n      <td>2:0</td>\n      <td>1</td>\n      <td>0</td>\n      <td>0</td>\n      <td>3</td>\n    </tr>\n    <tr>\n      <th>6</th>\n      <td>1960</td>\n      <td>1</td>\n      <td>13</td>\n      <td>2:0</td>\n      <td>1</td>\n      <td>0</td>\n      <td>0</td>\n      <td>3</td>\n    </tr>\n    <tr>\n      <th>7</th>\n      <td>1960</td>\n      <td>1</td>\n      <td>16</td>\n      <td>2:0</td>\n      <td>1</td>\n      <td>0</td>\n      <td>0</td>\n      <td>3</td>\n    </tr>\n    <tr>\n      <th>...</th>\n      <td>...</td>\n      <td>...</td>\n      <td>...</td>\n      <td>...</td>\n      <td>...</td>\n      <td>...</td>\n      <td>...</td>\n      <td>...</td>\n    </tr>\n    <tr>\n      <th>95</th>\n      <td>1960</td>\n      <td>6</td>\n      <td>3434</td>\n      <td>2:10</td>\n      <td>0</td>\n      <td>2</td>\n      <td>4</td>\n      <td>2</td>\n    </tr>\n    <tr>\n      <th>103</th>\n      <td>1960</td>\n      <td>7</td>\n      <td>16</td>\n      <td>12:2</td>\n      <td>5</td>\n      <td>2</td>\n      <td>0</td>\n      <td>17</td>\n    </tr>\n    <tr>\n      <th>97</th>\n      <td>1960</td>\n      <td>7</td>\n      <td>2</td>\n      <td>10:4</td>\n      <td>4</td>\n      <td>2</td>\n      <td>1</td>\n      <td>14</td>\n    </tr>\n    <tr>\n      <th>99</th>\n      <td>1960</td>\n      <td>7</td>\n      <td>4</td>\n      <td>10:4</td>\n      <td>4</td>\n      <td>2</td>\n      <td>1</td>\n      <td>14</td>\n    </tr>\n    <tr>\n      <th>107</th>\n      <td>1960</td>\n      <td>7</td>\n      <td>90</td>\n      <td>9:5</td>\n      <td>4</td>\n      <td>1</td>\n      <td>2</td>\n      <td>13</td>\n    </tr>\n  </tbody>\n</table>\n<p>100 rows × 8 columns</p>\n</div>"
     },
     "execution_count": 1440,
     "metadata": {},
     "output_type": "execute_result"
    }
   ],
   "source": [
    "#Controleer de punten, alle waarden voor 1960 herberekenen we later dus alles is goed\n",
    "points_df['punten_check'] = points_df['aantal_gewonnen'] * 3 + points_df['aantal_gelijk'] + points_df['aantal_verloren'] * 0\n",
    "discrepancies_df = points_df[points_df['punten'] != points_df['punten_check']]\n",
    "discrepancies_df.head(100)"
   ],
   "metadata": {
    "collapsed": false,
    "ExecuteTime": {
     "end_time": "2024-03-18T22:52:49.436876300Z",
     "start_time": "2024-03-18T22:52:49.281461300Z"
    }
   }
  },
  {
   "cell_type": "code",
   "execution_count": 1441,
   "outputs": [
    {
     "data": {
      "text/plain": "Empty DataFrame\nColumns: [seizoen_goal, dag, datum_goal, tijd_goal, id_match, thuisploeg_stamnummer_goal, thuisploeg_goal, uitploeg_goal, uitploeg_stamnummer_goal, goal_time, real_time_goal, goal_team_naam, goal_team_stamnummer, stand_thuis, stand_uit, valid_goal, seizoen_match, speeldag, datum_match, tijd_match, thuisploeg_stamnummer_match, thuisploeg_match, uitploeg_stamnummer_match, uitploeg_match, doelpunten_thuisploeg, doelpunten_uitploeg, same_as_previous_match]\nIndex: []\n\n[0 rows x 27 columns]",
      "text/html": "<div>\n<style scoped>\n    .dataframe tbody tr th:only-of-type {\n        vertical-align: middle;\n    }\n\n    .dataframe tbody tr th {\n        vertical-align: top;\n    }\n\n    .dataframe thead th {\n        text-align: right;\n    }\n</style>\n<table border=\"1\" class=\"dataframe\">\n  <thead>\n    <tr style=\"text-align: right;\">\n      <th></th>\n      <th>seizoen_goal</th>\n      <th>dag</th>\n      <th>datum_goal</th>\n      <th>tijd_goal</th>\n      <th>id_match</th>\n      <th>thuisploeg_stamnummer_goal</th>\n      <th>thuisploeg_goal</th>\n      <th>uitploeg_goal</th>\n      <th>uitploeg_stamnummer_goal</th>\n      <th>goal_time</th>\n      <th>...</th>\n      <th>speeldag</th>\n      <th>datum_match</th>\n      <th>tijd_match</th>\n      <th>thuisploeg_stamnummer_match</th>\n      <th>thuisploeg_match</th>\n      <th>uitploeg_stamnummer_match</th>\n      <th>uitploeg_match</th>\n      <th>doelpunten_thuisploeg</th>\n      <th>doelpunten_uitploeg</th>\n      <th>same_as_previous_match</th>\n    </tr>\n  </thead>\n  <tbody>\n  </tbody>\n</table>\n<p>0 rows × 27 columns</p>\n</div>"
     },
     "execution_count": 1441,
     "metadata": {},
     "output_type": "execute_result"
    }
   ],
   "source": [
    "match_results_df['datum'] = pd.to_datetime(match_results_df['datum'])\n",
    "goal_events_df['datum'] = pd.to_datetime(goal_events_df['datum'])\n",
    "\n",
    "merged_df = pd.merge(goal_events_df, match_results_df, on='id_match', suffixes=('_goal', '_match'))\n",
    "\n",
    "# Check dat de goal datum de matchdatum match\n",
    "date_discrepancies_df = merged_df[merged_df['datum_goal'] != merged_df['datum_match']]\n",
    "date_discrepancies_df.head(30)"
   ],
   "metadata": {
    "collapsed": false,
    "ExecuteTime": {
     "end_time": "2024-03-18T22:52:49.462884500Z",
     "start_time": "2024-03-18T22:52:49.299287800Z"
    }
   }
  },
  {
   "cell_type": "code",
   "execution_count": 1442,
   "outputs": [
    {
     "name": "stderr",
     "output_type": "stream",
     "text": [
      "C:\\Users\\snowl\\Documents\\School\\DEP\\DEP1-2023-2024-groep04\\venv\\Lib\\site-packages\\IPython\\core\\displayhook.py:281: UserWarning: Output cache limit (currently 1000 entries) hit.\n",
      "Flushing oldest 200 entries.\n",
      "  warn('Output cache limit (currently {sz} entries) hit.\\n'\n"
     ]
    },
    {
     "data": {
      "text/plain": "Series([], Name: datum, dtype: bool)"
     },
     "execution_count": 1442,
     "metadata": {},
     "output_type": "execute_result"
    }
   ],
   "source": [
    "# Groepeer de gegevens op 'Day' en controleer de datums\n",
    "sorted_dates = match_results_df.sort_values(by=['speeldag', 'datum'])\n",
    "date_discrepancies_df = sorted_dates.groupby('speeldag')['datum'].apply(lambda x: x.is_monotonic_increasing)\n",
    "\n",
    "date_discrepancies_df = date_discrepancies_df[date_discrepancies_df == False]\n",
    "date_discrepancies_df.head(30)\n"
   ],
   "metadata": {
    "collapsed": false,
    "ExecuteTime": {
     "end_time": "2024-03-18T22:52:49.464392Z",
     "start_time": "2024-03-18T22:52:49.354207800Z"
    }
   }
  },
  {
   "cell_type": "code",
   "execution_count": 1443,
   "outputs": [
    {
     "data": {
      "text/plain": "Series([], Name: datum, dtype: bool)"
     },
     "execution_count": 1443,
     "metadata": {},
     "output_type": "execute_result"
    }
   ],
   "source": [
    "# Sorting the data by season, day, and date\n",
    "sorted_dates = match_results_df.sort_values(by=['seizoen', 'speeldag', 'datum'])\n",
    "\n",
    "# Group by 'season' and 'day', and check if dates are in chronological order within each group\n",
    "grouped = sorted_dates.groupby(['seizoen', 'speeldag'])\n",
    "date_order_check = grouped['datum'].apply(lambda x: x.is_monotonic_increasing)\n",
    "\n",
    "# Alle seizoenen hebben de datum in chronologische orde\n",
    "date_discrepancies = date_order_check[date_order_check == False]\n",
    "date_discrepancies.head(30)"
   ],
   "metadata": {
    "collapsed": false,
    "ExecuteTime": {
     "end_time": "2024-03-18T22:52:49.597024500Z",
     "start_time": "2024-03-18T22:52:49.372034100Z"
    }
   }
  },
  {
   "cell_type": "code",
   "execution_count": 1444,
   "outputs": [
    {
     "data": {
      "text/plain": "Empty DataFrame\nColumns: [seizoen, dag, datum, tijd, id_match, thuisploeg_stamnummer, thuisploeg, uitploeg, uitploeg_stamnummer, goal_time, real_time_goal, goal_team_naam, goal_team_stamnummer, stand_thuis, stand_uit, valid_goal]\nIndex: []",
      "text/html": "<div>\n<style scoped>\n    .dataframe tbody tr th:only-of-type {\n        vertical-align: middle;\n    }\n\n    .dataframe tbody tr th {\n        vertical-align: top;\n    }\n\n    .dataframe thead th {\n        text-align: right;\n    }\n</style>\n<table border=\"1\" class=\"dataframe\">\n  <thead>\n    <tr style=\"text-align: right;\">\n      <th></th>\n      <th>seizoen</th>\n      <th>dag</th>\n      <th>datum</th>\n      <th>tijd</th>\n      <th>id_match</th>\n      <th>thuisploeg_stamnummer</th>\n      <th>thuisploeg</th>\n      <th>uitploeg</th>\n      <th>uitploeg_stamnummer</th>\n      <th>goal_time</th>\n      <th>real_time_goal</th>\n      <th>goal_team_naam</th>\n      <th>goal_team_stamnummer</th>\n      <th>stand_thuis</th>\n      <th>stand_uit</th>\n      <th>valid_goal</th>\n    </tr>\n  </thead>\n  <tbody>\n  </tbody>\n</table>\n</div>"
     },
     "execution_count": 1444,
     "metadata": {},
     "output_type": "execute_result"
    }
   ],
   "source": [
    "# Filter matches met 0-0\n",
    "matches_0_0 = match_results_df[(match_results_df['doelpunten_thuisploeg'] == 0) & (match_results_df['doelpunten_uitploeg'] == 0)]\n",
    "\n",
    "match_ids_0_0 = matches_0_0['id_match']\n",
    "\n",
    "# Check dat deze matches oprecht geen goals hebben\n",
    "goals_in_0_0_matches = goal_events_df[goal_events_df['id_match'].isin(match_ids_0_0)]\n",
    "goals_in_0_0_matches.head(100)"
   ],
   "metadata": {
    "collapsed": false,
    "ExecuteTime": {
     "end_time": "2024-03-18T22:52:49.619009500Z",
     "start_time": "2024-03-18T22:52:49.514815200Z"
    }
   }
  },
  {
   "cell_type": "code",
   "execution_count": 1445,
   "outputs": [
    {
     "data": {
      "text/plain": "       seizoen  speeldag  stand       naam_ploeg  id_ploeg  \\\n11246     2002         1     12  St-Truidense VV       373   \n11247     2002         1     12         KRC Genk       322   \n11248     2002         1     14      La Louviere        94   \n11249     2002         1     15   R Charleroi SC        22   \n11250     2002         1     16     KVC Westerlo      2024   \n11251     2002         1     17        RAEC Mons        44   \n11252     2002         1     17    Standard Luik        16   \n11268     2002         2     17  St-Truidense VV       373   \n11269     2002         2     18     KVC Westerlo      2024   \n11286     2002         3     18     KVC Westerlo      2024   \n\n       aantal_wedstrijden  aantal_gewonnen  aantal_gelijk  aantal_verloren  \\\n11246                   1                0              0                1   \n11247                   1                0              0                1   \n11248                   1                0              0                1   \n11249                   1                0              0                1   \n11250                   1                0              0                1   \n11251                   1                0              0                1   \n11252                   1                0              0                1   \n11268                   1                0              0                1   \n11269                   2                0              0                2   \n11286                   3                0              0                3   \n\n       doelpunten_voor  doelpunten_tegen  verschil  punten  \\\n11246                2                 3        -1     0.0   \n11247                2                 3        -1     0.0   \n11248                1                 2        -1     0.0   \n11249                0                 1        -1     0.0   \n11250                0                 2        -2     0.0   \n11251                0                 3        -3     0.0   \n11252                0                 3        -3     0.0   \n11268                2                 3        -1     0.0   \n11269                1                 4        -3     0.0   \n11286                1                 6        -5     0.0   \n\n       calculated_goal_verschil  punten_2p_links  punten_2p_rechts  punten_3p  \\\n11246                        -1                0                 2          0   \n11247                        -1                0                 2          0   \n11248                        -1                0                 2          0   \n11249                        -1                0                 2          0   \n11250                        -2                0                 2          0   \n11251                        -3                0                 2          0   \n11252                        -3                0                 2          0   \n11268                        -1                0                 2          0   \n11269                        -3                0                 4          0   \n11286                        -5                0                 6          0   \n\n       calculated_rank  \n11246             11.0  \n11247             11.0  \n11248             13.0  \n11249             14.0  \n11250             15.0  \n11251             16.0  \n11252             16.0  \n11268             16.0  \n11269             17.0  \n11286             17.0  ",
      "text/html": "<div>\n<style scoped>\n    .dataframe tbody tr th:only-of-type {\n        vertical-align: middle;\n    }\n\n    .dataframe tbody tr th {\n        vertical-align: top;\n    }\n\n    .dataframe thead th {\n        text-align: right;\n    }\n</style>\n<table border=\"1\" class=\"dataframe\">\n  <thead>\n    <tr style=\"text-align: right;\">\n      <th></th>\n      <th>seizoen</th>\n      <th>speeldag</th>\n      <th>stand</th>\n      <th>naam_ploeg</th>\n      <th>id_ploeg</th>\n      <th>aantal_wedstrijden</th>\n      <th>aantal_gewonnen</th>\n      <th>aantal_gelijk</th>\n      <th>aantal_verloren</th>\n      <th>doelpunten_voor</th>\n      <th>doelpunten_tegen</th>\n      <th>verschil</th>\n      <th>punten</th>\n      <th>calculated_goal_verschil</th>\n      <th>punten_2p_links</th>\n      <th>punten_2p_rechts</th>\n      <th>punten_3p</th>\n      <th>calculated_rank</th>\n    </tr>\n  </thead>\n  <tbody>\n    <tr>\n      <th>11246</th>\n      <td>2002</td>\n      <td>1</td>\n      <td>12</td>\n      <td>St-Truidense VV</td>\n      <td>373</td>\n      <td>1</td>\n      <td>0</td>\n      <td>0</td>\n      <td>1</td>\n      <td>2</td>\n      <td>3</td>\n      <td>-1</td>\n      <td>0.0</td>\n      <td>-1</td>\n      <td>0</td>\n      <td>2</td>\n      <td>0</td>\n      <td>11.0</td>\n    </tr>\n    <tr>\n      <th>11247</th>\n      <td>2002</td>\n      <td>1</td>\n      <td>12</td>\n      <td>KRC Genk</td>\n      <td>322</td>\n      <td>1</td>\n      <td>0</td>\n      <td>0</td>\n      <td>1</td>\n      <td>2</td>\n      <td>3</td>\n      <td>-1</td>\n      <td>0.0</td>\n      <td>-1</td>\n      <td>0</td>\n      <td>2</td>\n      <td>0</td>\n      <td>11.0</td>\n    </tr>\n    <tr>\n      <th>11248</th>\n      <td>2002</td>\n      <td>1</td>\n      <td>14</td>\n      <td>La Louviere</td>\n      <td>94</td>\n      <td>1</td>\n      <td>0</td>\n      <td>0</td>\n      <td>1</td>\n      <td>1</td>\n      <td>2</td>\n      <td>-1</td>\n      <td>0.0</td>\n      <td>-1</td>\n      <td>0</td>\n      <td>2</td>\n      <td>0</td>\n      <td>13.0</td>\n    </tr>\n    <tr>\n      <th>11249</th>\n      <td>2002</td>\n      <td>1</td>\n      <td>15</td>\n      <td>R Charleroi SC</td>\n      <td>22</td>\n      <td>1</td>\n      <td>0</td>\n      <td>0</td>\n      <td>1</td>\n      <td>0</td>\n      <td>1</td>\n      <td>-1</td>\n      <td>0.0</td>\n      <td>-1</td>\n      <td>0</td>\n      <td>2</td>\n      <td>0</td>\n      <td>14.0</td>\n    </tr>\n    <tr>\n      <th>11250</th>\n      <td>2002</td>\n      <td>1</td>\n      <td>16</td>\n      <td>KVC Westerlo</td>\n      <td>2024</td>\n      <td>1</td>\n      <td>0</td>\n      <td>0</td>\n      <td>1</td>\n      <td>0</td>\n      <td>2</td>\n      <td>-2</td>\n      <td>0.0</td>\n      <td>-2</td>\n      <td>0</td>\n      <td>2</td>\n      <td>0</td>\n      <td>15.0</td>\n    </tr>\n    <tr>\n      <th>11251</th>\n      <td>2002</td>\n      <td>1</td>\n      <td>17</td>\n      <td>RAEC Mons</td>\n      <td>44</td>\n      <td>1</td>\n      <td>0</td>\n      <td>0</td>\n      <td>1</td>\n      <td>0</td>\n      <td>3</td>\n      <td>-3</td>\n      <td>0.0</td>\n      <td>-3</td>\n      <td>0</td>\n      <td>2</td>\n      <td>0</td>\n      <td>16.0</td>\n    </tr>\n    <tr>\n      <th>11252</th>\n      <td>2002</td>\n      <td>1</td>\n      <td>17</td>\n      <td>Standard Luik</td>\n      <td>16</td>\n      <td>1</td>\n      <td>0</td>\n      <td>0</td>\n      <td>1</td>\n      <td>0</td>\n      <td>3</td>\n      <td>-3</td>\n      <td>0.0</td>\n      <td>-3</td>\n      <td>0</td>\n      <td>2</td>\n      <td>0</td>\n      <td>16.0</td>\n    </tr>\n    <tr>\n      <th>11268</th>\n      <td>2002</td>\n      <td>2</td>\n      <td>17</td>\n      <td>St-Truidense VV</td>\n      <td>373</td>\n      <td>1</td>\n      <td>0</td>\n      <td>0</td>\n      <td>1</td>\n      <td>2</td>\n      <td>3</td>\n      <td>-1</td>\n      <td>0.0</td>\n      <td>-1</td>\n      <td>0</td>\n      <td>2</td>\n      <td>0</td>\n      <td>16.0</td>\n    </tr>\n    <tr>\n      <th>11269</th>\n      <td>2002</td>\n      <td>2</td>\n      <td>18</td>\n      <td>KVC Westerlo</td>\n      <td>2024</td>\n      <td>2</td>\n      <td>0</td>\n      <td>0</td>\n      <td>2</td>\n      <td>1</td>\n      <td>4</td>\n      <td>-3</td>\n      <td>0.0</td>\n      <td>-3</td>\n      <td>0</td>\n      <td>4</td>\n      <td>0</td>\n      <td>17.0</td>\n    </tr>\n    <tr>\n      <th>11286</th>\n      <td>2002</td>\n      <td>3</td>\n      <td>18</td>\n      <td>KVC Westerlo</td>\n      <td>2024</td>\n      <td>3</td>\n      <td>0</td>\n      <td>0</td>\n      <td>3</td>\n      <td>1</td>\n      <td>6</td>\n      <td>-5</td>\n      <td>0.0</td>\n      <td>-5</td>\n      <td>0</td>\n      <td>6</td>\n      <td>0</td>\n      <td>17.0</td>\n    </tr>\n  </tbody>\n</table>\n</div>"
     },
     "execution_count": 1445,
     "metadata": {},
     "output_type": "execute_result"
    }
   ],
   "source": [
    "import pandas as pd\n",
    "\n",
    "# Zet relevante kolommen om naar numeriek\n",
    "standings_df['punten'] = pd.to_numeric(standings_df['punten'], errors='coerce')\n",
    "standings_df['aantal_gewonnen'] = pd.to_numeric(standings_df['aantal_gewonnen'], errors='coerce')\n",
    "standings_df['calculated_goal_verschil'] = pd.to_numeric(standings_df['calculated_goal_verschil'], errors='coerce')\n",
    "standings_df['doelpunten_voor'] = pd.to_numeric(standings_df['doelpunten_voor'], errors='coerce')\n",
    "\n",
    "#Bereken twee punten systeem\n",
    "def calculate_two_point_system_left(row):\n",
    "    return 2 * row['aantal_gewonnen'] + 1 * row['aantal_gelijk']\n",
    "\n",
    "def calculate_two_point_system_right(row):\n",
    "    total_games = row['aantal_gewonnen'] + row['aantal_gelijk'] + row['aantal_verloren']\n",
    "    return 2 * total_games - calculate_two_point_system_left(row)\n",
    "\n",
    "# Functie om punten in het driepuntensysteem te berekenen voor het gehele seizoen\n",
    "def calculate_three_point_system(row):\n",
    "    return 3 * row['aantal_gewonnen'] + 1 * row['aantal_gelijk']\n",
    "\n",
    "# Voeg de berekende kolommen toe aan de DataFrame\n",
    "standings_df['punten_2p_links'] = standings_df.apply(calculate_two_point_system_left, axis=1)\n",
    "standings_df['punten_2p_rechts'] = standings_df.apply(calculate_two_point_system_right, axis=1)\n",
    "standings_df['punten_3p'] = standings_df.apply(calculate_three_point_system, axis=1)\n",
    "\n",
    "# Bereid een DataFrame voor om de resultaten op te slaan\n",
    "all_seasons_ranked = pd.DataFrame()\n",
    "\n",
    "# Loop over elk seizoen\n",
    "for seizoen in standings_df['seizoen'].unique():\n",
    "    # Filter de DataFrame voor het huidige seizoen\n",
    "    filtered_df = standings_df[standings_df['seizoen'] == seizoen]\n",
    "\n",
    "    # Sorteer en bereken rangorde\n",
    "    sorted_df = filtered_df.sort_values(by=['speeldag', 'punten_3p', 'aantal_gewonnen', 'calculated_goal_verschil', 'doelpunten_voor'], ascending=[True, False, False, False, False])\n",
    "    sorted_df['calculated_rank'] = sorted_df.groupby('speeldag')['stand'].rank(method='min', ascending=True)\n",
    "\n",
    "    # Voeg de berekende rangorde toe aan de oorspronkelijke DataFrame\n",
    "    filtered_df = filtered_df.merge(sorted_df[['seizoen', 'speeldag', 'id_ploeg', 'calculated_rank']], on=['seizoen', 'speeldag', 'id_ploeg'], how='left')\n",
    "\n",
    "    # Voeg toe aan het totale resultaat\n",
    "    all_seasons_ranked = pd.concat([all_seasons_ranked, filtered_df], ignore_index=True)\n",
    "\n",
    "# Controleer op discrepanties voor alle seizoenen\n",
    "discrepancies_standing = all_seasons_ranked[all_seasons_ranked['stand'] != all_seasons_ranked['calculated_rank']]\n",
    "\n",
    "#De huidige errors hebben te maken met verwijderde data dat wij anders aanpakte dan de website. het resultaat klopt dus.\n",
    "discrepancies_standing.head(1000)"
   ],
   "metadata": {
    "collapsed": false,
    "ExecuteTime": {
     "end_time": "2024-03-18T22:52:51.004820700Z",
     "start_time": "2024-03-18T22:52:49.529710900Z"
    }
   }
  },
  {
   "cell_type": "code",
   "execution_count": 1446,
   "outputs": [
    {
     "data": {
      "text/plain": "    seizoen  speeldag  stand       naam_ploeg  id_ploeg  aantal_wedstrijden  \\\n0      2023         1      1         KRC Genk       322                   1   \n1      2023         1      2         Union SG        10                   1   \n2      2023         1      3         KAA Gent         7                   1   \n3      2023         1      3  St-Truidense VV       373                   1   \n4      2023         1      3       Antwerp FC         1                   1   \n5      2023         1      6   R Charleroi SC        22                   1   \n6      2023         1      6      KV Mechelen        25                   1   \n7      2023         1      6     KVC Westerlo      2024                   1   \n8      2023         1      6        KAS Eupen      4276                   1   \n9      2023         1      6      Club Brugge         3                   1   \n10     2023         1      6        OH Leuven        18                   1   \n11     2023         1     12    Cercle Brugge        12                   1   \n12     2023         1     12      KV Kortrijk        19                   1   \n13     2023         1     12    Standard Luik        16                   1   \n14     2023         1     15   RSC Anderlecht        35                   1   \n15     2023         1     16             RWDM      5479                   1   \n16     2023         2      1         Union SG        10                   2   \n17     2023         2      2         KAA Gent         7                   2   \n18     2023         2      2  St-Truidense VV       373                   2   \n19     2023         2      4        KAS Eupen      4276                   2   \n20     2023         2      4      Club Brugge         3                   2   \n21     2023         2      6         KRC Genk       322                   2   \n22     2023         2      7    Cercle Brugge        12                   2   \n23     2023         2      8       Antwerp FC         1                   2   \n24     2023         2      9   RSC Anderlecht        35                   2   \n25     2023         2     10             RWDM      5479                   2   \n26     2023         2     11      KV Mechelen        25                   2   \n27     2023         2     11     KVC Westerlo      2024                   2   \n28     2023         2     11        OH Leuven        18                   2   \n29     2023         2     14   R Charleroi SC        22                   2   \n\n    aantal_gewonnen  aantal_gelijk  aantal_verloren  doelpunten_voor  \\\n0                 1              0                0                4   \n1                 1              0                0                2   \n2                 1              0                0                3   \n3                 1              0                0                1   \n4                 1              0                0                1   \n5                 0              1                0                1   \n6                 0              1                0                1   \n7                 0              1                0                2   \n8                 0              1                0                2   \n9                 0              1                0                1   \n10                0              1                0                1   \n11                0              0                1                0   \n12                0              0                1                2   \n13                0              0                1                0   \n14                0              0                1                0   \n15                0              0                1                0   \n16                2              0                0                3   \n17                2              0                0                4   \n18                2              0                0                2   \n19                1              1                0                3   \n20                1              1                0                2   \n21                1              0                1                4   \n22                1              0                1                2   \n23                1              0                1                1   \n24                1              0                1                1   \n25                1              0                1                2   \n26                0              1                1                1   \n27                0              1                1                2   \n28                0              1                1                2   \n29                0              1                1                1   \n\n    doelpunten_tegen  verschil  punten  calculated_goal_verschil  \\\n0                  0         4     3.0                         4   \n1                  0         2     3.0                         2   \n2                  2         1     3.0                         1   \n3                  0         1     3.0                         1   \n4                  0         1     3.0                         1   \n5                  1         0     1.0                         0   \n6                  1         0     1.0                         0   \n7                  2         0     1.0                         0   \n8                  2         0     1.0                         0   \n9                  1         0     1.0                         0   \n10                 1         0     1.0                         0   \n11                 1        -1     0.0                        -1   \n12                 3        -1     0.0                        -1   \n13                 1        -1     0.0                        -1   \n14                 2        -2     0.0                        -2   \n15                 4        -4     0.0                        -4   \n16                 0         3     6.0                         3   \n17                 2         2     6.0                         2   \n18                 0         2     6.0                         2   \n19                 2         1     4.0                         1   \n20                 1         1     4.0                         1   \n21                 1         3     3.0                         3   \n22                 1         1     3.0                         1   \n23                 1         0     3.0                         0   \n24                 2        -1     3.0                        -1   \n25                 5        -3     3.0                        -3   \n26                 2        -1     1.0                        -1   \n27                 3        -1     1.0                        -1   \n28                 3        -1     1.0                        -1   \n29                 3        -2     1.0                        -2   \n\n    punten_2p_links  punten_2p_rechts  punten_3p  \n0                 2                 0          3  \n1                 2                 0          3  \n2                 2                 0          3  \n3                 2                 0          3  \n4                 2                 0          3  \n5                 1                 1          1  \n6                 1                 1          1  \n7                 1                 1          1  \n8                 1                 1          1  \n9                 1                 1          1  \n10                1                 1          1  \n11                0                 2          0  \n12                0                 2          0  \n13                0                 2          0  \n14                0                 2          0  \n15                0                 2          0  \n16                4                 0          6  \n17                4                 0          6  \n18                4                 0          6  \n19                3                 1          4  \n20                3                 1          4  \n21                2                 2          3  \n22                2                 2          3  \n23                2                 2          3  \n24                2                 2          3  \n25                2                 2          3  \n26                1                 3          1  \n27                1                 3          1  \n28                1                 3          1  \n29                1                 3          1  ",
      "text/html": "<div>\n<style scoped>\n    .dataframe tbody tr th:only-of-type {\n        vertical-align: middle;\n    }\n\n    .dataframe tbody tr th {\n        vertical-align: top;\n    }\n\n    .dataframe thead th {\n        text-align: right;\n    }\n</style>\n<table border=\"1\" class=\"dataframe\">\n  <thead>\n    <tr style=\"text-align: right;\">\n      <th></th>\n      <th>seizoen</th>\n      <th>speeldag</th>\n      <th>stand</th>\n      <th>naam_ploeg</th>\n      <th>id_ploeg</th>\n      <th>aantal_wedstrijden</th>\n      <th>aantal_gewonnen</th>\n      <th>aantal_gelijk</th>\n      <th>aantal_verloren</th>\n      <th>doelpunten_voor</th>\n      <th>doelpunten_tegen</th>\n      <th>verschil</th>\n      <th>punten</th>\n      <th>calculated_goal_verschil</th>\n      <th>punten_2p_links</th>\n      <th>punten_2p_rechts</th>\n      <th>punten_3p</th>\n    </tr>\n  </thead>\n  <tbody>\n    <tr>\n      <th>0</th>\n      <td>2023</td>\n      <td>1</td>\n      <td>1</td>\n      <td>KRC Genk</td>\n      <td>322</td>\n      <td>1</td>\n      <td>1</td>\n      <td>0</td>\n      <td>0</td>\n      <td>4</td>\n      <td>0</td>\n      <td>4</td>\n      <td>3.0</td>\n      <td>4</td>\n      <td>2</td>\n      <td>0</td>\n      <td>3</td>\n    </tr>\n    <tr>\n      <th>1</th>\n      <td>2023</td>\n      <td>1</td>\n      <td>2</td>\n      <td>Union SG</td>\n      <td>10</td>\n      <td>1</td>\n      <td>1</td>\n      <td>0</td>\n      <td>0</td>\n      <td>2</td>\n      <td>0</td>\n      <td>2</td>\n      <td>3.0</td>\n      <td>2</td>\n      <td>2</td>\n      <td>0</td>\n      <td>3</td>\n    </tr>\n    <tr>\n      <th>2</th>\n      <td>2023</td>\n      <td>1</td>\n      <td>3</td>\n      <td>KAA Gent</td>\n      <td>7</td>\n      <td>1</td>\n      <td>1</td>\n      <td>0</td>\n      <td>0</td>\n      <td>3</td>\n      <td>2</td>\n      <td>1</td>\n      <td>3.0</td>\n      <td>1</td>\n      <td>2</td>\n      <td>0</td>\n      <td>3</td>\n    </tr>\n    <tr>\n      <th>3</th>\n      <td>2023</td>\n      <td>1</td>\n      <td>3</td>\n      <td>St-Truidense VV</td>\n      <td>373</td>\n      <td>1</td>\n      <td>1</td>\n      <td>0</td>\n      <td>0</td>\n      <td>1</td>\n      <td>0</td>\n      <td>1</td>\n      <td>3.0</td>\n      <td>1</td>\n      <td>2</td>\n      <td>0</td>\n      <td>3</td>\n    </tr>\n    <tr>\n      <th>4</th>\n      <td>2023</td>\n      <td>1</td>\n      <td>3</td>\n      <td>Antwerp FC</td>\n      <td>1</td>\n      <td>1</td>\n      <td>1</td>\n      <td>0</td>\n      <td>0</td>\n      <td>1</td>\n      <td>0</td>\n      <td>1</td>\n      <td>3.0</td>\n      <td>1</td>\n      <td>2</td>\n      <td>0</td>\n      <td>3</td>\n    </tr>\n    <tr>\n      <th>5</th>\n      <td>2023</td>\n      <td>1</td>\n      <td>6</td>\n      <td>R Charleroi SC</td>\n      <td>22</td>\n      <td>1</td>\n      <td>0</td>\n      <td>1</td>\n      <td>0</td>\n      <td>1</td>\n      <td>1</td>\n      <td>0</td>\n      <td>1.0</td>\n      <td>0</td>\n      <td>1</td>\n      <td>1</td>\n      <td>1</td>\n    </tr>\n    <tr>\n      <th>6</th>\n      <td>2023</td>\n      <td>1</td>\n      <td>6</td>\n      <td>KV Mechelen</td>\n      <td>25</td>\n      <td>1</td>\n      <td>0</td>\n      <td>1</td>\n      <td>0</td>\n      <td>1</td>\n      <td>1</td>\n      <td>0</td>\n      <td>1.0</td>\n      <td>0</td>\n      <td>1</td>\n      <td>1</td>\n      <td>1</td>\n    </tr>\n    <tr>\n      <th>7</th>\n      <td>2023</td>\n      <td>1</td>\n      <td>6</td>\n      <td>KVC Westerlo</td>\n      <td>2024</td>\n      <td>1</td>\n      <td>0</td>\n      <td>1</td>\n      <td>0</td>\n      <td>2</td>\n      <td>2</td>\n      <td>0</td>\n      <td>1.0</td>\n      <td>0</td>\n      <td>1</td>\n      <td>1</td>\n      <td>1</td>\n    </tr>\n    <tr>\n      <th>8</th>\n      <td>2023</td>\n      <td>1</td>\n      <td>6</td>\n      <td>KAS Eupen</td>\n      <td>4276</td>\n      <td>1</td>\n      <td>0</td>\n      <td>1</td>\n      <td>0</td>\n      <td>2</td>\n      <td>2</td>\n      <td>0</td>\n      <td>1.0</td>\n      <td>0</td>\n      <td>1</td>\n      <td>1</td>\n      <td>1</td>\n    </tr>\n    <tr>\n      <th>9</th>\n      <td>2023</td>\n      <td>1</td>\n      <td>6</td>\n      <td>Club Brugge</td>\n      <td>3</td>\n      <td>1</td>\n      <td>0</td>\n      <td>1</td>\n      <td>0</td>\n      <td>1</td>\n      <td>1</td>\n      <td>0</td>\n      <td>1.0</td>\n      <td>0</td>\n      <td>1</td>\n      <td>1</td>\n      <td>1</td>\n    </tr>\n    <tr>\n      <th>10</th>\n      <td>2023</td>\n      <td>1</td>\n      <td>6</td>\n      <td>OH Leuven</td>\n      <td>18</td>\n      <td>1</td>\n      <td>0</td>\n      <td>1</td>\n      <td>0</td>\n      <td>1</td>\n      <td>1</td>\n      <td>0</td>\n      <td>1.0</td>\n      <td>0</td>\n      <td>1</td>\n      <td>1</td>\n      <td>1</td>\n    </tr>\n    <tr>\n      <th>11</th>\n      <td>2023</td>\n      <td>1</td>\n      <td>12</td>\n      <td>Cercle Brugge</td>\n      <td>12</td>\n      <td>1</td>\n      <td>0</td>\n      <td>0</td>\n      <td>1</td>\n      <td>0</td>\n      <td>1</td>\n      <td>-1</td>\n      <td>0.0</td>\n      <td>-1</td>\n      <td>0</td>\n      <td>2</td>\n      <td>0</td>\n    </tr>\n    <tr>\n      <th>12</th>\n      <td>2023</td>\n      <td>1</td>\n      <td>12</td>\n      <td>KV Kortrijk</td>\n      <td>19</td>\n      <td>1</td>\n      <td>0</td>\n      <td>0</td>\n      <td>1</td>\n      <td>2</td>\n      <td>3</td>\n      <td>-1</td>\n      <td>0.0</td>\n      <td>-1</td>\n      <td>0</td>\n      <td>2</td>\n      <td>0</td>\n    </tr>\n    <tr>\n      <th>13</th>\n      <td>2023</td>\n      <td>1</td>\n      <td>12</td>\n      <td>Standard Luik</td>\n      <td>16</td>\n      <td>1</td>\n      <td>0</td>\n      <td>0</td>\n      <td>1</td>\n      <td>0</td>\n      <td>1</td>\n      <td>-1</td>\n      <td>0.0</td>\n      <td>-1</td>\n      <td>0</td>\n      <td>2</td>\n      <td>0</td>\n    </tr>\n    <tr>\n      <th>14</th>\n      <td>2023</td>\n      <td>1</td>\n      <td>15</td>\n      <td>RSC Anderlecht</td>\n      <td>35</td>\n      <td>1</td>\n      <td>0</td>\n      <td>0</td>\n      <td>1</td>\n      <td>0</td>\n      <td>2</td>\n      <td>-2</td>\n      <td>0.0</td>\n      <td>-2</td>\n      <td>0</td>\n      <td>2</td>\n      <td>0</td>\n    </tr>\n    <tr>\n      <th>15</th>\n      <td>2023</td>\n      <td>1</td>\n      <td>16</td>\n      <td>RWDM</td>\n      <td>5479</td>\n      <td>1</td>\n      <td>0</td>\n      <td>0</td>\n      <td>1</td>\n      <td>0</td>\n      <td>4</td>\n      <td>-4</td>\n      <td>0.0</td>\n      <td>-4</td>\n      <td>0</td>\n      <td>2</td>\n      <td>0</td>\n    </tr>\n    <tr>\n      <th>16</th>\n      <td>2023</td>\n      <td>2</td>\n      <td>1</td>\n      <td>Union SG</td>\n      <td>10</td>\n      <td>2</td>\n      <td>2</td>\n      <td>0</td>\n      <td>0</td>\n      <td>3</td>\n      <td>0</td>\n      <td>3</td>\n      <td>6.0</td>\n      <td>3</td>\n      <td>4</td>\n      <td>0</td>\n      <td>6</td>\n    </tr>\n    <tr>\n      <th>17</th>\n      <td>2023</td>\n      <td>2</td>\n      <td>2</td>\n      <td>KAA Gent</td>\n      <td>7</td>\n      <td>2</td>\n      <td>2</td>\n      <td>0</td>\n      <td>0</td>\n      <td>4</td>\n      <td>2</td>\n      <td>2</td>\n      <td>6.0</td>\n      <td>2</td>\n      <td>4</td>\n      <td>0</td>\n      <td>6</td>\n    </tr>\n    <tr>\n      <th>18</th>\n      <td>2023</td>\n      <td>2</td>\n      <td>2</td>\n      <td>St-Truidense VV</td>\n      <td>373</td>\n      <td>2</td>\n      <td>2</td>\n      <td>0</td>\n      <td>0</td>\n      <td>2</td>\n      <td>0</td>\n      <td>2</td>\n      <td>6.0</td>\n      <td>2</td>\n      <td>4</td>\n      <td>0</td>\n      <td>6</td>\n    </tr>\n    <tr>\n      <th>19</th>\n      <td>2023</td>\n      <td>2</td>\n      <td>4</td>\n      <td>KAS Eupen</td>\n      <td>4276</td>\n      <td>2</td>\n      <td>1</td>\n      <td>1</td>\n      <td>0</td>\n      <td>3</td>\n      <td>2</td>\n      <td>1</td>\n      <td>4.0</td>\n      <td>1</td>\n      <td>3</td>\n      <td>1</td>\n      <td>4</td>\n    </tr>\n    <tr>\n      <th>20</th>\n      <td>2023</td>\n      <td>2</td>\n      <td>4</td>\n      <td>Club Brugge</td>\n      <td>3</td>\n      <td>2</td>\n      <td>1</td>\n      <td>1</td>\n      <td>0</td>\n      <td>2</td>\n      <td>1</td>\n      <td>1</td>\n      <td>4.0</td>\n      <td>1</td>\n      <td>3</td>\n      <td>1</td>\n      <td>4</td>\n    </tr>\n    <tr>\n      <th>21</th>\n      <td>2023</td>\n      <td>2</td>\n      <td>6</td>\n      <td>KRC Genk</td>\n      <td>322</td>\n      <td>2</td>\n      <td>1</td>\n      <td>0</td>\n      <td>1</td>\n      <td>4</td>\n      <td>1</td>\n      <td>3</td>\n      <td>3.0</td>\n      <td>3</td>\n      <td>2</td>\n      <td>2</td>\n      <td>3</td>\n    </tr>\n    <tr>\n      <th>22</th>\n      <td>2023</td>\n      <td>2</td>\n      <td>7</td>\n      <td>Cercle Brugge</td>\n      <td>12</td>\n      <td>2</td>\n      <td>1</td>\n      <td>0</td>\n      <td>1</td>\n      <td>2</td>\n      <td>1</td>\n      <td>1</td>\n      <td>3.0</td>\n      <td>1</td>\n      <td>2</td>\n      <td>2</td>\n      <td>3</td>\n    </tr>\n    <tr>\n      <th>23</th>\n      <td>2023</td>\n      <td>2</td>\n      <td>8</td>\n      <td>Antwerp FC</td>\n      <td>1</td>\n      <td>2</td>\n      <td>1</td>\n      <td>0</td>\n      <td>1</td>\n      <td>1</td>\n      <td>1</td>\n      <td>0</td>\n      <td>3.0</td>\n      <td>0</td>\n      <td>2</td>\n      <td>2</td>\n      <td>3</td>\n    </tr>\n    <tr>\n      <th>24</th>\n      <td>2023</td>\n      <td>2</td>\n      <td>9</td>\n      <td>RSC Anderlecht</td>\n      <td>35</td>\n      <td>2</td>\n      <td>1</td>\n      <td>0</td>\n      <td>1</td>\n      <td>1</td>\n      <td>2</td>\n      <td>-1</td>\n      <td>3.0</td>\n      <td>-1</td>\n      <td>2</td>\n      <td>2</td>\n      <td>3</td>\n    </tr>\n    <tr>\n      <th>25</th>\n      <td>2023</td>\n      <td>2</td>\n      <td>10</td>\n      <td>RWDM</td>\n      <td>5479</td>\n      <td>2</td>\n      <td>1</td>\n      <td>0</td>\n      <td>1</td>\n      <td>2</td>\n      <td>5</td>\n      <td>-3</td>\n      <td>3.0</td>\n      <td>-3</td>\n      <td>2</td>\n      <td>2</td>\n      <td>3</td>\n    </tr>\n    <tr>\n      <th>26</th>\n      <td>2023</td>\n      <td>2</td>\n      <td>11</td>\n      <td>KV Mechelen</td>\n      <td>25</td>\n      <td>2</td>\n      <td>0</td>\n      <td>1</td>\n      <td>1</td>\n      <td>1</td>\n      <td>2</td>\n      <td>-1</td>\n      <td>1.0</td>\n      <td>-1</td>\n      <td>1</td>\n      <td>3</td>\n      <td>1</td>\n    </tr>\n    <tr>\n      <th>27</th>\n      <td>2023</td>\n      <td>2</td>\n      <td>11</td>\n      <td>KVC Westerlo</td>\n      <td>2024</td>\n      <td>2</td>\n      <td>0</td>\n      <td>1</td>\n      <td>1</td>\n      <td>2</td>\n      <td>3</td>\n      <td>-1</td>\n      <td>1.0</td>\n      <td>-1</td>\n      <td>1</td>\n      <td>3</td>\n      <td>1</td>\n    </tr>\n    <tr>\n      <th>28</th>\n      <td>2023</td>\n      <td>2</td>\n      <td>11</td>\n      <td>OH Leuven</td>\n      <td>18</td>\n      <td>2</td>\n      <td>0</td>\n      <td>1</td>\n      <td>1</td>\n      <td>2</td>\n      <td>3</td>\n      <td>-1</td>\n      <td>1.0</td>\n      <td>-1</td>\n      <td>1</td>\n      <td>3</td>\n      <td>1</td>\n    </tr>\n    <tr>\n      <th>29</th>\n      <td>2023</td>\n      <td>2</td>\n      <td>14</td>\n      <td>R Charleroi SC</td>\n      <td>22</td>\n      <td>2</td>\n      <td>0</td>\n      <td>1</td>\n      <td>1</td>\n      <td>1</td>\n      <td>3</td>\n      <td>-2</td>\n      <td>1.0</td>\n      <td>-2</td>\n      <td>1</td>\n      <td>3</td>\n      <td>1</td>\n    </tr>\n  </tbody>\n</table>\n</div>"
     },
     "execution_count": 1446,
     "metadata": {},
     "output_type": "execute_result"
    }
   ],
   "source": [
    "# Toon de eerste 10 rijen om te controleren manueel\n",
    "standings_df.head(30)"
   ],
   "metadata": {
    "collapsed": false,
    "ExecuteTime": {
     "end_time": "2024-03-18T22:52:51.016474300Z",
     "start_time": "2024-03-18T22:52:51.001805700Z"
    }
   }
  },
  {
   "cell_type": "code",
   "execution_count": 1447,
   "outputs": [
    {
     "data": {
      "text/plain": "       seizoen  speeldag  stand  id_ploeg        naam_ploeg  \\\n35898     1960        29      3        35    RSC Anderlecht   \n35899     1960        29      4         2       Daring Club   \n35900     1960        29      5        13      Beerschot AC   \n35901     1960        29      6       553   Waterschei THOR   \n35902     1960        29      7       373   St-Truidense VV   \n35903     1960        29      8        90   Eendracht Aalst   \n35904     1960        29      9         1        Antwerp FC   \n35905     1960        29     10         3       Club Brugge   \n35906     1960        29     11         7          ARA Gent   \n35907     1960        29     12        30         Lierse SK   \n35908     1960        29     13       246  Olymp. Charleroi   \n35909     1960        29     14        10          Union SG   \n35910     1960        29     15      3434    K Patro Eisden   \n35911     1960        29     16        33        Verviétois   \n35912     1960        30      1        16     Standard Luik   \n35913     1960        30      2         4          RFC Luik   \n35914     1960        30      3        35    RSC Anderlecht   \n35915     1960        30      4        13      Beerschot AC   \n35916     1960        30      5         2       Daring Club   \n35917     1960        30      6       553   Waterschei THOR   \n35918     1960        30      7       373   St-Truidense VV   \n35919     1960        30      8         1        Antwerp FC   \n35920     1960        30      9         3       Club Brugge   \n35921     1960        30     10         7          ARA Gent   \n35922     1960        30     11        30         Lierse SK   \n35923     1960        30     12        90   Eendracht Aalst   \n35924     1960        30     13       246  Olymp. Charleroi   \n35925     1960        30     14        10          Union SG   \n35926     1960        30     15        33        Verviétois   \n35927     1960        30     16      3434    K Patro Eisden   \n\n       aantal_wedstrijden  aantal_gewonnen  aantal_gelijk  aantal_verloren  \\\n35898                  29               15              7                7   \n35899                  29               13              7                9   \n35900                  29               13              6               10   \n35901                  29               12              6               11   \n35902                  29               12              6               11   \n35903                  29                9             10               10   \n35904                  29               10              7               12   \n35905                  29                8             11               10   \n35906                  29                9              8               12   \n35907                  29                9              8               12   \n35908                  29                6             13               10   \n35909                  29               10              3               16   \n35910                  29                6              6               17   \n35911                  29                5              8               16   \n35912                  30               18              9                3   \n35913                  30               15             11                4   \n35914                  30               15              7                8   \n35915                  30               13              7               10   \n35916                  30               13              7               10   \n35917                  30               13              6               11   \n35918                  30               12              7               11   \n35919                  30               11              7               12   \n35920                  30                9             11               10   \n35921                  30               10              8               12   \n35922                  30               10              8               12   \n35923                  30                9             10               11   \n35924                  30                6             14               10   \n35925                  30               10              3               17   \n35926                  30                5              9               16   \n35927                  30                6              6               18   \n\n       doelpunten_voor  doelpunten_tegen  verschil  punten_2p_links  \\\n35898               53                28        25               37   \n35899               42                37         5               33   \n35900               47                38         9               32   \n35901               48                39         9               30   \n35902               32                33        -1               30   \n35903               46                60       -14               28   \n35904               43                44        -1               27   \n35905               42                48        -6               27   \n35906               47                42         5               26   \n35907               42                57       -15               26   \n35908               27                42       -15               25   \n35909               41                56       -15               23   \n35910               26                49       -23               18   \n35911               27                51       -24               18   \n35912               67                25        42               45   \n35913               50                25        25               41   \n35914               55                31        24               37   \n35915               47                38         9               33   \n35916               42                44        -2               33   \n35917               49                39        10               32   \n35918               32                33        -1               31   \n35919               46                46         0               29   \n35920               45                50        -5               29   \n35921               52                42        10               28   \n35922               45                58       -13               28   \n35923               47                63       -16               28   \n35924               27                42       -15               26   \n35925               41                57       -16               23   \n35926               27                51       -24               19   \n35927               26                54       -28               18   \n\n       punten_2p_rechts  punten_3p  \n35898                21         52  \n35899                25         46  \n35900                26         45  \n35901                28         42  \n35902                28         42  \n35903                30         37  \n35904                31         37  \n35905                31         35  \n35906                32         35  \n35907                32         35  \n35908                33         31  \n35909                35         33  \n35910                40         24  \n35911                40         23  \n35912                15         63  \n35913                19         56  \n35914                23         52  \n35915                27         46  \n35916                27         46  \n35917                28         45  \n35918                29         43  \n35919                31         40  \n35920                31         38  \n35921                32         38  \n35922                32         38  \n35923                32         37  \n35924                34         32  \n35925                37         33  \n35926                41         24  \n35927                42         24  ",
      "text/html": "<div>\n<style scoped>\n    .dataframe tbody tr th:only-of-type {\n        vertical-align: middle;\n    }\n\n    .dataframe tbody tr th {\n        vertical-align: top;\n    }\n\n    .dataframe thead th {\n        text-align: right;\n    }\n</style>\n<table border=\"1\" class=\"dataframe\">\n  <thead>\n    <tr style=\"text-align: right;\">\n      <th></th>\n      <th>seizoen</th>\n      <th>speeldag</th>\n      <th>stand</th>\n      <th>id_ploeg</th>\n      <th>naam_ploeg</th>\n      <th>aantal_wedstrijden</th>\n      <th>aantal_gewonnen</th>\n      <th>aantal_gelijk</th>\n      <th>aantal_verloren</th>\n      <th>doelpunten_voor</th>\n      <th>doelpunten_tegen</th>\n      <th>verschil</th>\n      <th>punten_2p_links</th>\n      <th>punten_2p_rechts</th>\n      <th>punten_3p</th>\n    </tr>\n  </thead>\n  <tbody>\n    <tr>\n      <th>35898</th>\n      <td>1960</td>\n      <td>29</td>\n      <td>3</td>\n      <td>35</td>\n      <td>RSC Anderlecht</td>\n      <td>29</td>\n      <td>15</td>\n      <td>7</td>\n      <td>7</td>\n      <td>53</td>\n      <td>28</td>\n      <td>25</td>\n      <td>37</td>\n      <td>21</td>\n      <td>52</td>\n    </tr>\n    <tr>\n      <th>35899</th>\n      <td>1960</td>\n      <td>29</td>\n      <td>4</td>\n      <td>2</td>\n      <td>Daring Club</td>\n      <td>29</td>\n      <td>13</td>\n      <td>7</td>\n      <td>9</td>\n      <td>42</td>\n      <td>37</td>\n      <td>5</td>\n      <td>33</td>\n      <td>25</td>\n      <td>46</td>\n    </tr>\n    <tr>\n      <th>35900</th>\n      <td>1960</td>\n      <td>29</td>\n      <td>5</td>\n      <td>13</td>\n      <td>Beerschot AC</td>\n      <td>29</td>\n      <td>13</td>\n      <td>6</td>\n      <td>10</td>\n      <td>47</td>\n      <td>38</td>\n      <td>9</td>\n      <td>32</td>\n      <td>26</td>\n      <td>45</td>\n    </tr>\n    <tr>\n      <th>35901</th>\n      <td>1960</td>\n      <td>29</td>\n      <td>6</td>\n      <td>553</td>\n      <td>Waterschei THOR</td>\n      <td>29</td>\n      <td>12</td>\n      <td>6</td>\n      <td>11</td>\n      <td>48</td>\n      <td>39</td>\n      <td>9</td>\n      <td>30</td>\n      <td>28</td>\n      <td>42</td>\n    </tr>\n    <tr>\n      <th>35902</th>\n      <td>1960</td>\n      <td>29</td>\n      <td>7</td>\n      <td>373</td>\n      <td>St-Truidense VV</td>\n      <td>29</td>\n      <td>12</td>\n      <td>6</td>\n      <td>11</td>\n      <td>32</td>\n      <td>33</td>\n      <td>-1</td>\n      <td>30</td>\n      <td>28</td>\n      <td>42</td>\n    </tr>\n    <tr>\n      <th>35903</th>\n      <td>1960</td>\n      <td>29</td>\n      <td>8</td>\n      <td>90</td>\n      <td>Eendracht Aalst</td>\n      <td>29</td>\n      <td>9</td>\n      <td>10</td>\n      <td>10</td>\n      <td>46</td>\n      <td>60</td>\n      <td>-14</td>\n      <td>28</td>\n      <td>30</td>\n      <td>37</td>\n    </tr>\n    <tr>\n      <th>35904</th>\n      <td>1960</td>\n      <td>29</td>\n      <td>9</td>\n      <td>1</td>\n      <td>Antwerp FC</td>\n      <td>29</td>\n      <td>10</td>\n      <td>7</td>\n      <td>12</td>\n      <td>43</td>\n      <td>44</td>\n      <td>-1</td>\n      <td>27</td>\n      <td>31</td>\n      <td>37</td>\n    </tr>\n    <tr>\n      <th>35905</th>\n      <td>1960</td>\n      <td>29</td>\n      <td>10</td>\n      <td>3</td>\n      <td>Club Brugge</td>\n      <td>29</td>\n      <td>8</td>\n      <td>11</td>\n      <td>10</td>\n      <td>42</td>\n      <td>48</td>\n      <td>-6</td>\n      <td>27</td>\n      <td>31</td>\n      <td>35</td>\n    </tr>\n    <tr>\n      <th>35906</th>\n      <td>1960</td>\n      <td>29</td>\n      <td>11</td>\n      <td>7</td>\n      <td>ARA Gent</td>\n      <td>29</td>\n      <td>9</td>\n      <td>8</td>\n      <td>12</td>\n      <td>47</td>\n      <td>42</td>\n      <td>5</td>\n      <td>26</td>\n      <td>32</td>\n      <td>35</td>\n    </tr>\n    <tr>\n      <th>35907</th>\n      <td>1960</td>\n      <td>29</td>\n      <td>12</td>\n      <td>30</td>\n      <td>Lierse SK</td>\n      <td>29</td>\n      <td>9</td>\n      <td>8</td>\n      <td>12</td>\n      <td>42</td>\n      <td>57</td>\n      <td>-15</td>\n      <td>26</td>\n      <td>32</td>\n      <td>35</td>\n    </tr>\n    <tr>\n      <th>35908</th>\n      <td>1960</td>\n      <td>29</td>\n      <td>13</td>\n      <td>246</td>\n      <td>Olymp. Charleroi</td>\n      <td>29</td>\n      <td>6</td>\n      <td>13</td>\n      <td>10</td>\n      <td>27</td>\n      <td>42</td>\n      <td>-15</td>\n      <td>25</td>\n      <td>33</td>\n      <td>31</td>\n    </tr>\n    <tr>\n      <th>35909</th>\n      <td>1960</td>\n      <td>29</td>\n      <td>14</td>\n      <td>10</td>\n      <td>Union SG</td>\n      <td>29</td>\n      <td>10</td>\n      <td>3</td>\n      <td>16</td>\n      <td>41</td>\n      <td>56</td>\n      <td>-15</td>\n      <td>23</td>\n      <td>35</td>\n      <td>33</td>\n    </tr>\n    <tr>\n      <th>35910</th>\n      <td>1960</td>\n      <td>29</td>\n      <td>15</td>\n      <td>3434</td>\n      <td>K Patro Eisden</td>\n      <td>29</td>\n      <td>6</td>\n      <td>6</td>\n      <td>17</td>\n      <td>26</td>\n      <td>49</td>\n      <td>-23</td>\n      <td>18</td>\n      <td>40</td>\n      <td>24</td>\n    </tr>\n    <tr>\n      <th>35911</th>\n      <td>1960</td>\n      <td>29</td>\n      <td>16</td>\n      <td>33</td>\n      <td>Verviétois</td>\n      <td>29</td>\n      <td>5</td>\n      <td>8</td>\n      <td>16</td>\n      <td>27</td>\n      <td>51</td>\n      <td>-24</td>\n      <td>18</td>\n      <td>40</td>\n      <td>23</td>\n    </tr>\n    <tr>\n      <th>35912</th>\n      <td>1960</td>\n      <td>30</td>\n      <td>1</td>\n      <td>16</td>\n      <td>Standard Luik</td>\n      <td>30</td>\n      <td>18</td>\n      <td>9</td>\n      <td>3</td>\n      <td>67</td>\n      <td>25</td>\n      <td>42</td>\n      <td>45</td>\n      <td>15</td>\n      <td>63</td>\n    </tr>\n    <tr>\n      <th>35913</th>\n      <td>1960</td>\n      <td>30</td>\n      <td>2</td>\n      <td>4</td>\n      <td>RFC Luik</td>\n      <td>30</td>\n      <td>15</td>\n      <td>11</td>\n      <td>4</td>\n      <td>50</td>\n      <td>25</td>\n      <td>25</td>\n      <td>41</td>\n      <td>19</td>\n      <td>56</td>\n    </tr>\n    <tr>\n      <th>35914</th>\n      <td>1960</td>\n      <td>30</td>\n      <td>3</td>\n      <td>35</td>\n      <td>RSC Anderlecht</td>\n      <td>30</td>\n      <td>15</td>\n      <td>7</td>\n      <td>8</td>\n      <td>55</td>\n      <td>31</td>\n      <td>24</td>\n      <td>37</td>\n      <td>23</td>\n      <td>52</td>\n    </tr>\n    <tr>\n      <th>35915</th>\n      <td>1960</td>\n      <td>30</td>\n      <td>4</td>\n      <td>13</td>\n      <td>Beerschot AC</td>\n      <td>30</td>\n      <td>13</td>\n      <td>7</td>\n      <td>10</td>\n      <td>47</td>\n      <td>38</td>\n      <td>9</td>\n      <td>33</td>\n      <td>27</td>\n      <td>46</td>\n    </tr>\n    <tr>\n      <th>35916</th>\n      <td>1960</td>\n      <td>30</td>\n      <td>5</td>\n      <td>2</td>\n      <td>Daring Club</td>\n      <td>30</td>\n      <td>13</td>\n      <td>7</td>\n      <td>10</td>\n      <td>42</td>\n      <td>44</td>\n      <td>-2</td>\n      <td>33</td>\n      <td>27</td>\n      <td>46</td>\n    </tr>\n    <tr>\n      <th>35917</th>\n      <td>1960</td>\n      <td>30</td>\n      <td>6</td>\n      <td>553</td>\n      <td>Waterschei THOR</td>\n      <td>30</td>\n      <td>13</td>\n      <td>6</td>\n      <td>11</td>\n      <td>49</td>\n      <td>39</td>\n      <td>10</td>\n      <td>32</td>\n      <td>28</td>\n      <td>45</td>\n    </tr>\n    <tr>\n      <th>35918</th>\n      <td>1960</td>\n      <td>30</td>\n      <td>7</td>\n      <td>373</td>\n      <td>St-Truidense VV</td>\n      <td>30</td>\n      <td>12</td>\n      <td>7</td>\n      <td>11</td>\n      <td>32</td>\n      <td>33</td>\n      <td>-1</td>\n      <td>31</td>\n      <td>29</td>\n      <td>43</td>\n    </tr>\n    <tr>\n      <th>35919</th>\n      <td>1960</td>\n      <td>30</td>\n      <td>8</td>\n      <td>1</td>\n      <td>Antwerp FC</td>\n      <td>30</td>\n      <td>11</td>\n      <td>7</td>\n      <td>12</td>\n      <td>46</td>\n      <td>46</td>\n      <td>0</td>\n      <td>29</td>\n      <td>31</td>\n      <td>40</td>\n    </tr>\n    <tr>\n      <th>35920</th>\n      <td>1960</td>\n      <td>30</td>\n      <td>9</td>\n      <td>3</td>\n      <td>Club Brugge</td>\n      <td>30</td>\n      <td>9</td>\n      <td>11</td>\n      <td>10</td>\n      <td>45</td>\n      <td>50</td>\n      <td>-5</td>\n      <td>29</td>\n      <td>31</td>\n      <td>38</td>\n    </tr>\n    <tr>\n      <th>35921</th>\n      <td>1960</td>\n      <td>30</td>\n      <td>10</td>\n      <td>7</td>\n      <td>ARA Gent</td>\n      <td>30</td>\n      <td>10</td>\n      <td>8</td>\n      <td>12</td>\n      <td>52</td>\n      <td>42</td>\n      <td>10</td>\n      <td>28</td>\n      <td>32</td>\n      <td>38</td>\n    </tr>\n    <tr>\n      <th>35922</th>\n      <td>1960</td>\n      <td>30</td>\n      <td>11</td>\n      <td>30</td>\n      <td>Lierse SK</td>\n      <td>30</td>\n      <td>10</td>\n      <td>8</td>\n      <td>12</td>\n      <td>45</td>\n      <td>58</td>\n      <td>-13</td>\n      <td>28</td>\n      <td>32</td>\n      <td>38</td>\n    </tr>\n    <tr>\n      <th>35923</th>\n      <td>1960</td>\n      <td>30</td>\n      <td>12</td>\n      <td>90</td>\n      <td>Eendracht Aalst</td>\n      <td>30</td>\n      <td>9</td>\n      <td>10</td>\n      <td>11</td>\n      <td>47</td>\n      <td>63</td>\n      <td>-16</td>\n      <td>28</td>\n      <td>32</td>\n      <td>37</td>\n    </tr>\n    <tr>\n      <th>35924</th>\n      <td>1960</td>\n      <td>30</td>\n      <td>13</td>\n      <td>246</td>\n      <td>Olymp. Charleroi</td>\n      <td>30</td>\n      <td>6</td>\n      <td>14</td>\n      <td>10</td>\n      <td>27</td>\n      <td>42</td>\n      <td>-15</td>\n      <td>26</td>\n      <td>34</td>\n      <td>32</td>\n    </tr>\n    <tr>\n      <th>35925</th>\n      <td>1960</td>\n      <td>30</td>\n      <td>14</td>\n      <td>10</td>\n      <td>Union SG</td>\n      <td>30</td>\n      <td>10</td>\n      <td>3</td>\n      <td>17</td>\n      <td>41</td>\n      <td>57</td>\n      <td>-16</td>\n      <td>23</td>\n      <td>37</td>\n      <td>33</td>\n    </tr>\n    <tr>\n      <th>35926</th>\n      <td>1960</td>\n      <td>30</td>\n      <td>15</td>\n      <td>33</td>\n      <td>Verviétois</td>\n      <td>30</td>\n      <td>5</td>\n      <td>9</td>\n      <td>16</td>\n      <td>27</td>\n      <td>51</td>\n      <td>-24</td>\n      <td>19</td>\n      <td>41</td>\n      <td>24</td>\n    </tr>\n    <tr>\n      <th>35927</th>\n      <td>1960</td>\n      <td>30</td>\n      <td>16</td>\n      <td>3434</td>\n      <td>K Patro Eisden</td>\n      <td>30</td>\n      <td>6</td>\n      <td>6</td>\n      <td>18</td>\n      <td>26</td>\n      <td>54</td>\n      <td>-28</td>\n      <td>18</td>\n      <td>42</td>\n      <td>24</td>\n    </tr>\n  </tbody>\n</table>\n</div>"
     },
     "execution_count": 1447,
     "metadata": {},
     "output_type": "execute_result"
    }
   ],
   "source": [
    "standings_df = standings_df.drop(['punten', 'calculated_goal_verschil'], axis=1)\n",
    "# Huidige volgorde van kolommen\n",
    "huidige_volgorde = list(standings_df.columns)\n",
    "\n",
    "# Index van de kolommen die moeten worden omgewisseld\n",
    "index_kolom1 = huidige_volgorde.index('naam_ploeg')\n",
    "index_kolom2 = huidige_volgorde.index('id_ploeg')\n",
    "\n",
    "# Omwisselen van de volgorde\n",
    "huidige_volgorde[index_kolom1], huidige_volgorde[index_kolom2] = huidige_volgorde[index_kolom2], huidige_volgorde[index_kolom1]\n",
    "\n",
    "# Nieuwe DataFrame met gewijzigde kolomvolgorde\n",
    "standings_df = standings_df[huidige_volgorde]\n",
    "standings_df.to_csv('csv/klassement.csv', sep=';', header=False, index=False)\n",
    "standings_df.tail(30)\n"
   ],
   "metadata": {
    "collapsed": false,
    "ExecuteTime": {
     "end_time": "2024-03-18T22:52:51.154031700Z",
     "start_time": "2024-03-18T22:52:51.018475200Z"
    }
   }
  },
  {
   "cell_type": "code",
   "execution_count": 1448,
   "outputs": [],
   "source": [
    "#Exporteer het doelpunten bestand in het gewenste formaat\n",
    "goal_events_export_df = pd.read_csv('csv/doelpunten_onverwerkd.csv')\n",
    "goal_events_export_df = goal_events_export_df[goal_events_export_df['valid_goal'] == True]\n",
    "goal_events_export_df['stand_thuis'] = goal_events_export_df['stand_thuis'].astype(int)\n",
    "goal_events_export_df = goal_events_export_df.drop(['valid_goal'], axis=1)\n",
    "goal_events_export_df['real_time_goal'] = pd.to_datetime(goal_events_export_df['real_time_goal'], format='%H:%M:%S')\n",
    "goal_events_export_df['real_time_goal'] = goal_events_export_df['real_time_goal'].dt.strftime('%H:%M')\n",
    "goal_events_export_df['tijd'] = pd.to_datetime(goal_events_export_df['tijd'], format='%H:%M:%S')\n",
    "goal_events_export_df['tijd'] = goal_events_export_df['tijd'].dt.strftime('%H:%M')\n",
    "goal_events_export_df['datum'] = pd.to_datetime(goal_events_export_df['datum'], format='%Y/%m/%d')\n",
    "goal_events_export_df['datum'] = goal_events_export_df['datum'].dt.strftime('%Y-%m-%d')\n",
    "goal_events_export_df.to_csv('csv/doelpunten.csv', sep=';', header=False, index=False)"
   ],
   "metadata": {
    "collapsed": false,
    "ExecuteTime": {
     "end_time": "2024-03-18T22:52:51.946970Z",
     "start_time": "2024-03-18T22:52:51.130025400Z"
    }
   }
  },
  {
   "cell_type": "code",
   "execution_count": 1449,
   "outputs": [],
   "source": [
    "#Exporteer het wedstrijden bestand in het gewenste formaat\n",
    "match_results_export_df = pd.read_csv('csv/wedstrijden_onverwerkd.csv')\n",
    "match_results_export_df['tijd'] = pd.to_datetime(match_results_export_df['tijd'], format='%H:%M:%S')\n",
    "match_results_export_df['tijd'] = match_results_export_df['tijd'].dt.strftime('%H:%M')\n",
    "match_results_export_df['datum'] = pd.to_datetime(match_results_export_df['datum'], format='%Y/%m/%d')\n",
    "match_results_export_df['datum'] = match_results_export_df['datum'].dt.strftime('%Y-%m-%d')\n",
    "match_results_export_df.to_csv('csv/wedstrijden.csv', sep=';', header=False, index=False)"
   ],
   "metadata": {
    "collapsed": false,
    "ExecuteTime": {
     "end_time": "2024-03-18T22:52:52.179540500Z",
     "start_time": "2024-03-18T22:52:51.944970700Z"
    }
   }
  }
 ]
}
