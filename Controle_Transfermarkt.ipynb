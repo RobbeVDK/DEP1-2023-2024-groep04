{
 "nbformat": 4,
 "nbformat_minor": 0,
 "metadata": {
  "colab": {
   "provenance": []
  },
  "kernelspec": {
   "name": "python3",
   "language": "python",
   "display_name": "Python 3 (ipykernel)"
  },
  "language_info": {
   "name": "python"
  }
 },
 "cells": [
  {
   "cell_type": "code",
   "execution_count": 698,
   "outputs": [],
   "source": [
    "import pandas as pd\n",
    "\n",
    "# Load CSV files\n",
    "match_results_df = pd.read_csv('csv/wedstrijden_onverwerkd.csv')\n",
    "goal_events_df = pd.read_csv('csv/doelpunten_onverwerkd.csv')\n",
    "standings_df = pd.read_csv('csv/klassement_onverwerkd.csv')\n",
    "\n",
    "goal_events_df = goal_events_df[goal_events_df['valid_goal'] == True]\n",
    "# Filter of vervang niet-numerieke waarden\n",
    "match_results_df['doelpunten_thuisploeg'] = pd.to_numeric(match_results_df['doelpunten_thuisploeg'], errors='coerce').fillna(0)\n",
    "match_results_df['doelpunten_uitploeg'] = pd.to_numeric(match_results_df['doelpunten_uitploeg'], errors='coerce').fillna(0)\n",
    "\n",
    "# Nu kunt u de conversie naar int veilig uitvoeren\n",
    "match_results_df['doelpunten_thuisploeg'] = match_results_df['doelpunten_thuisploeg'].astype(int)\n",
    "match_results_df['doelpunten_uitploeg'] = match_results_df['doelpunten_uitploeg'].astype(int)"
   ],
   "metadata": {
    "collapsed": false,
    "ExecuteTime": {
     "end_time": "2024-03-14T11:36:32.344116600Z",
     "start_time": "2024-03-14T11:36:32.333736300Z"
    }
   }
  },
  {
   "cell_type": "code",
   "execution_count": 699,
   "outputs": [
    {
     "data": {
      "text/plain": "Empty DataFrame\nColumns: [seizoen, speeldag, datum, tijd, id_match, thuisploeg_stamnummer, thuisploeg, uitploeg_stamnummer, uitploeg, doelpunten_thuisploeg, doelpunten_uitploeg, same_as_previous_match]\nIndex: []",
      "text/html": "<div>\n<style scoped>\n    .dataframe tbody tr th:only-of-type {\n        vertical-align: middle;\n    }\n\n    .dataframe tbody tr th {\n        vertical-align: top;\n    }\n\n    .dataframe thead th {\n        text-align: right;\n    }\n</style>\n<table border=\"1\" class=\"dataframe\">\n  <thead>\n    <tr style=\"text-align: right;\">\n      <th></th>\n      <th>seizoen</th>\n      <th>speeldag</th>\n      <th>datum</th>\n      <th>tijd</th>\n      <th>id_match</th>\n      <th>thuisploeg_stamnummer</th>\n      <th>thuisploeg</th>\n      <th>uitploeg_stamnummer</th>\n      <th>uitploeg</th>\n      <th>doelpunten_thuisploeg</th>\n      <th>doelpunten_uitploeg</th>\n      <th>same_as_previous_match</th>\n    </tr>\n  </thead>\n  <tbody>\n  </tbody>\n</table>\n</div>"
     },
     "execution_count": 699,
     "metadata": {},
     "output_type": "execute_result"
    }
   ],
   "source": [
    "# Vind alle verplaatste matches, namelijk de match id zal dezelfde zijn als de vorige\n",
    "match_results_df['same_as_previous_match'] = match_results_df['id_match'].eq(match_results_df['id_match'].shift())\n",
    "\n",
    "# Selecteer alleen de rijen waar 'same_as_previous_match' True is\n",
    "duplicate_matches = match_results_df[match_results_df['same_as_previous_match']]\n",
    "duplicate_matches.head(30)"
   ],
   "metadata": {
    "collapsed": false,
    "ExecuteTime": {
     "end_time": "2024-03-14T11:36:32.352759Z",
     "start_time": "2024-03-14T11:36:32.344116600Z"
    }
   }
  },
  {
   "cell_type": "code",
   "source": [
    "# Bereken goals\n",
    "goals_home_team = goal_events_df[goal_events_df['goal_team_stamnummer'] == goal_events_df['thuisploeg_stamnummer']].groupby('id_match').size()\n",
    "goals_away_team = goal_events_df[goal_events_df['goal_team_stamnummer'] == goal_events_df['uitploeg_stamnummer']].groupby('id_match').size()\n",
    "\n",
    "# Omzetting\n",
    "goals_home_team_df = goals_home_team.reset_index(name='calculated_doelpunten_thuisploeg')\n",
    "goals_away_team_df = goals_away_team.reset_index(name='calculated_doelpunten_uitploeg')\n",
    "\n",
    "# Vervang NaN values in goal kolom met 0\n",
    "merged_df = pd.merge(match_results_df, goals_home_team_df, on='id_match', how='outer')\n",
    "merged_df = pd.merge(merged_df, goals_away_team_df, on='id_match', how='outer')\n",
    "merged_df['calculated_doelpunten_thuisploeg'] = merged_df['calculated_doelpunten_thuisploeg'].fillna(0).astype(int)\n",
    "merged_df['calculated_doelpunten_uitploeg'] = merged_df['calculated_doelpunten_uitploeg'].fillna(0).astype(int)\n",
    "\n",
    "# Bereken verschil tussen berekening en resultaat\n",
    "discrepancies_goals = merged_df[\n",
    "    (merged_df['calculated_doelpunten_thuisploeg'] != merged_df['doelpunten_thuisploeg']) |\n",
    "    (merged_df['calculated_doelpunten_uitploeg'] != merged_df['doelpunten_uitploeg'])\n",
    "]\n",
    "\n",
    "# Select only relevant columns for display\n",
    "discrepancies_goals.head(50)"
   ],
   "metadata": {
    "colab": {
     "base_uri": "https://localhost:8080/",
     "height": 112
    },
    "id": "o2sprn5OdrMd",
    "outputId": "f94268b2-1596-43cb-f848-22639c5445c7",
    "ExecuteTime": {
     "end_time": "2024-03-14T11:36:32.415043300Z",
     "start_time": "2024-03-14T11:36:32.352759Z"
    }
   },
   "execution_count": 700,
   "outputs": [
    {
     "data": {
      "text/plain": "Empty DataFrame\nColumns: [seizoen, speeldag, datum, tijd, id_match, thuisploeg_stamnummer, thuisploeg, uitploeg_stamnummer, uitploeg, doelpunten_thuisploeg, doelpunten_uitploeg, same_as_previous_match, calculated_doelpunten_thuisploeg, calculated_doelpunten_uitploeg]\nIndex: []",
      "text/html": "<div>\n<style scoped>\n    .dataframe tbody tr th:only-of-type {\n        vertical-align: middle;\n    }\n\n    .dataframe tbody tr th {\n        vertical-align: top;\n    }\n\n    .dataframe thead th {\n        text-align: right;\n    }\n</style>\n<table border=\"1\" class=\"dataframe\">\n  <thead>\n    <tr style=\"text-align: right;\">\n      <th></th>\n      <th>seizoen</th>\n      <th>speeldag</th>\n      <th>datum</th>\n      <th>tijd</th>\n      <th>id_match</th>\n      <th>thuisploeg_stamnummer</th>\n      <th>thuisploeg</th>\n      <th>uitploeg_stamnummer</th>\n      <th>uitploeg</th>\n      <th>doelpunten_thuisploeg</th>\n      <th>doelpunten_uitploeg</th>\n      <th>same_as_previous_match</th>\n      <th>calculated_doelpunten_thuisploeg</th>\n      <th>calculated_doelpunten_uitploeg</th>\n    </tr>\n  </thead>\n  <tbody>\n  </tbody>\n</table>\n</div>"
     },
     "execution_count": 700,
     "metadata": {},
     "output_type": "execute_result"
    }
   ]
  },
  {
   "cell_type": "code",
   "execution_count": 701,
   "outputs": [
    {
     "data": {
      "text/plain": "Empty DataFrame\nColumns: [seizoen, speeldag, stand, naam_ploeg, id_ploeg, aantal_wedstrijden, aantal_gewonnen, aantal_gelijk, aantal_verloren, doelpunten_voor, doelpunten_tegen, verschil, punten]\nIndex: []",
      "text/html": "<div>\n<style scoped>\n    .dataframe tbody tr th:only-of-type {\n        vertical-align: middle;\n    }\n\n    .dataframe tbody tr th {\n        vertical-align: top;\n    }\n\n    .dataframe thead th {\n        text-align: right;\n    }\n</style>\n<table border=\"1\" class=\"dataframe\">\n  <thead>\n    <tr style=\"text-align: right;\">\n      <th></th>\n      <th>seizoen</th>\n      <th>speeldag</th>\n      <th>stand</th>\n      <th>naam_ploeg</th>\n      <th>id_ploeg</th>\n      <th>aantal_wedstrijden</th>\n      <th>aantal_gewonnen</th>\n      <th>aantal_gelijk</th>\n      <th>aantal_verloren</th>\n      <th>doelpunten_voor</th>\n      <th>doelpunten_tegen</th>\n      <th>verschil</th>\n      <th>punten</th>\n    </tr>\n  </thead>\n  <tbody>\n  </tbody>\n</table>\n</div>"
     },
     "execution_count": 701,
     "metadata": {},
     "output_type": "execute_result"
    }
   ],
   "source": [
    "# controle van aantal_wedstrijden\n",
    "# Geen enkel record met meer wedstrijden dan speeldagen\n",
    "number_of_games_check = standings_df[standings_df.speeldag < standings_df.aantal_wedstrijden]\n",
    "number_of_games_check.head(30)"
   ],
   "metadata": {
    "collapsed": false,
    "ExecuteTime": {
     "end_time": "2024-03-14T11:36:32.415043300Z",
     "start_time": "2024-03-14T11:36:32.365274700Z"
    }
   }
  },
  {
   "cell_type": "code",
   "execution_count": 702,
   "outputs": [
    {
     "data": {
      "text/plain": "Series([], Name: seizoen, dtype: int64)"
     },
     "execution_count": 702,
     "metadata": {},
     "output_type": "execute_result"
    }
   ],
   "source": [
    "# controle van aantal_wedstrijden\n",
    "# wel records met minder wedstrijden dan speeldagen, maar bij nazicht van een aantal records klopt dit\n",
    "number_of_games_check = standings_df[standings_df.speeldag > standings_df.aantal_wedstrijden]\n",
    "number_of_games_check.seizoen.value_counts()"
   ],
   "metadata": {
    "collapsed": false,
    "ExecuteTime": {
     "end_time": "2024-03-14T11:36:32.415043300Z",
     "start_time": "2024-03-14T11:36:32.370812Z"
    }
   }
  },
  {
   "cell_type": "code",
   "execution_count": 703,
   "outputs": [
    {
     "data": {
      "text/plain": "seizoen               0\nspeeldag              0\nstand                 0\nnaam_ploeg            0\nid_ploeg              0\naantal_wedstrijden    0\naantal_gewonnen       0\naantal_gelijk         0\naantal_verloren       0\ndoelpunten_voor       0\ndoelpunten_tegen      0\nverschil              0\npunten                0\ndtype: int64"
     },
     "execution_count": 703,
     "metadata": {},
     "output_type": "execute_result"
    }
   ],
   "source": [
    "# geen records met standings_df.Played != (standings_df.Wins + standings_df.Losses + standings_df.Draws\n",
    "number_of_games_check = standings_df[standings_df.aantal_wedstrijden != (standings_df.aantal_gewonnen + standings_df.aantal_gelijk + standings_df.aantal_verloren)]\n",
    "number_of_games_check.count()"
   ],
   "metadata": {
    "collapsed": false,
    "ExecuteTime": {
     "end_time": "2024-03-14T11:36:32.415043300Z",
     "start_time": "2024-03-14T11:36:32.376448100Z"
    }
   }
  },
  {
   "cell_type": "code",
   "execution_count": 704,
   "outputs": [
    {
     "data": {
      "text/plain": "seizoen                     0\nspeeldag                    0\nstand                       0\nnaam_ploeg                  0\nid_ploeg                    0\naantal_wedstrijden          0\naantal_gewonnen             0\naantal_gelijk               0\naantal_verloren             0\ndoelpunten_voor             0\ndoelpunten_tegen            0\nverschil                    0\npunten                      0\ncalculated_goal_verschil    0\ndtype: int64"
     },
     "execution_count": 704,
     "metadata": {},
     "output_type": "execute_result"
    }
   ],
   "source": [
    "# geen records met (uitslagen.doelpunten_voor - uitslagen.doelpunten_tegen) != (uitslagen.verschil)\n",
    "standings_df['calculated_goal_verschil'] = standings_df['doelpunten_voor'] - standings_df['doelpunten_tegen']\n",
    "controle_aantal_wedstrijden = standings_df[standings_df['calculated_goal_verschil'] != standings_df['verschil']]\n",
    "controle_aantal_wedstrijden.count()"
   ],
   "metadata": {
    "collapsed": false,
    "ExecuteTime": {
     "end_time": "2024-03-14T11:36:32.427431200Z",
     "start_time": "2024-03-14T11:36:32.381990200Z"
    }
   }
  },
  {
   "cell_type": "code",
   "execution_count": 705,
   "outputs": [
    {
     "data": {
      "text/plain": "    seizoen  speeldag  id_ploeg  punten  aantal_gewonnen  aantal_gelijk  \\\n4      2020         1        13       3                1              0   \n5      2020         1        16       3                1              0   \n8      2020         1        22       3                1              0   \n13     2020         1       290       3                1              0   \n14     2020         1       373       3                1              0   \n16     2020         1      4068       3                1              0   \n0      2020         1         1       1                0              1   \n6      2020         1        18       1                0              1   \n9      2020         1        25       1                0              1   \n11     2020         1        35       1                0              1   \n12     2020         1       216       1                0              1   \n15     2020         1      1792       1                0              1   \n1      2020         1         3       0                0              0   \n2      2020         1         7       0                0              0   \n3      2020         1        12       0                0              0   \n7      2020         1        19       0                0              0   \n10     2020         1        31       0                0              0   \n17     2020         1      5381       0                0              0   \n22     2020         2        13       6                2              0   \n23     2020         2        16       6                2              0   \n26     2020         2        22       6                2              0   \n27     2020         2        25       4                1              1   \n29     2020         2        35       4                1              1   \n31     2020         2       290       4                1              1   \n19     2020         2         3       3                1              0   \n21     2020         2        12       3                1              0   \n25     2020         2        19       3                1              0   \n32     2020         2       373       3                1              0   \n34     2020         2      4068       3                1              0   \n24     2020         2        18       2                0              2   \n\n    aantal_verloren  \n4                 0  \n5                 0  \n8                 0  \n13                0  \n14                0  \n16                0  \n0                 0  \n6                 0  \n9                 0  \n11                0  \n12                0  \n15                0  \n1                 1  \n2                 1  \n3                 1  \n7                 1  \n10                1  \n17                1  \n22                0  \n23                0  \n26                0  \n27                0  \n29                0  \n31                0  \n19                1  \n21                1  \n25                1  \n32                1  \n34                1  \n24                0  ",
      "text/html": "<div>\n<style scoped>\n    .dataframe tbody tr th:only-of-type {\n        vertical-align: middle;\n    }\n\n    .dataframe tbody tr th {\n        vertical-align: top;\n    }\n\n    .dataframe thead th {\n        text-align: right;\n    }\n</style>\n<table border=\"1\" class=\"dataframe\">\n  <thead>\n    <tr style=\"text-align: right;\">\n      <th></th>\n      <th>seizoen</th>\n      <th>speeldag</th>\n      <th>id_ploeg</th>\n      <th>punten</th>\n      <th>aantal_gewonnen</th>\n      <th>aantal_gelijk</th>\n      <th>aantal_verloren</th>\n    </tr>\n  </thead>\n  <tbody>\n    <tr>\n      <th>4</th>\n      <td>2020</td>\n      <td>1</td>\n      <td>13</td>\n      <td>3</td>\n      <td>1</td>\n      <td>0</td>\n      <td>0</td>\n    </tr>\n    <tr>\n      <th>5</th>\n      <td>2020</td>\n      <td>1</td>\n      <td>16</td>\n      <td>3</td>\n      <td>1</td>\n      <td>0</td>\n      <td>0</td>\n    </tr>\n    <tr>\n      <th>8</th>\n      <td>2020</td>\n      <td>1</td>\n      <td>22</td>\n      <td>3</td>\n      <td>1</td>\n      <td>0</td>\n      <td>0</td>\n    </tr>\n    <tr>\n      <th>13</th>\n      <td>2020</td>\n      <td>1</td>\n      <td>290</td>\n      <td>3</td>\n      <td>1</td>\n      <td>0</td>\n      <td>0</td>\n    </tr>\n    <tr>\n      <th>14</th>\n      <td>2020</td>\n      <td>1</td>\n      <td>373</td>\n      <td>3</td>\n      <td>1</td>\n      <td>0</td>\n      <td>0</td>\n    </tr>\n    <tr>\n      <th>16</th>\n      <td>2020</td>\n      <td>1</td>\n      <td>4068</td>\n      <td>3</td>\n      <td>1</td>\n      <td>0</td>\n      <td>0</td>\n    </tr>\n    <tr>\n      <th>0</th>\n      <td>2020</td>\n      <td>1</td>\n      <td>1</td>\n      <td>1</td>\n      <td>0</td>\n      <td>1</td>\n      <td>0</td>\n    </tr>\n    <tr>\n      <th>6</th>\n      <td>2020</td>\n      <td>1</td>\n      <td>18</td>\n      <td>1</td>\n      <td>0</td>\n      <td>1</td>\n      <td>0</td>\n    </tr>\n    <tr>\n      <th>9</th>\n      <td>2020</td>\n      <td>1</td>\n      <td>25</td>\n      <td>1</td>\n      <td>0</td>\n      <td>1</td>\n      <td>0</td>\n    </tr>\n    <tr>\n      <th>11</th>\n      <td>2020</td>\n      <td>1</td>\n      <td>35</td>\n      <td>1</td>\n      <td>0</td>\n      <td>1</td>\n      <td>0</td>\n    </tr>\n    <tr>\n      <th>12</th>\n      <td>2020</td>\n      <td>1</td>\n      <td>216</td>\n      <td>1</td>\n      <td>0</td>\n      <td>1</td>\n      <td>0</td>\n    </tr>\n    <tr>\n      <th>15</th>\n      <td>2020</td>\n      <td>1</td>\n      <td>1792</td>\n      <td>1</td>\n      <td>0</td>\n      <td>1</td>\n      <td>0</td>\n    </tr>\n    <tr>\n      <th>1</th>\n      <td>2020</td>\n      <td>1</td>\n      <td>3</td>\n      <td>0</td>\n      <td>0</td>\n      <td>0</td>\n      <td>1</td>\n    </tr>\n    <tr>\n      <th>2</th>\n      <td>2020</td>\n      <td>1</td>\n      <td>7</td>\n      <td>0</td>\n      <td>0</td>\n      <td>0</td>\n      <td>1</td>\n    </tr>\n    <tr>\n      <th>3</th>\n      <td>2020</td>\n      <td>1</td>\n      <td>12</td>\n      <td>0</td>\n      <td>0</td>\n      <td>0</td>\n      <td>1</td>\n    </tr>\n    <tr>\n      <th>7</th>\n      <td>2020</td>\n      <td>1</td>\n      <td>19</td>\n      <td>0</td>\n      <td>0</td>\n      <td>0</td>\n      <td>1</td>\n    </tr>\n    <tr>\n      <th>10</th>\n      <td>2020</td>\n      <td>1</td>\n      <td>31</td>\n      <td>0</td>\n      <td>0</td>\n      <td>0</td>\n      <td>1</td>\n    </tr>\n    <tr>\n      <th>17</th>\n      <td>2020</td>\n      <td>1</td>\n      <td>5381</td>\n      <td>0</td>\n      <td>0</td>\n      <td>0</td>\n      <td>1</td>\n    </tr>\n    <tr>\n      <th>22</th>\n      <td>2020</td>\n      <td>2</td>\n      <td>13</td>\n      <td>6</td>\n      <td>2</td>\n      <td>0</td>\n      <td>0</td>\n    </tr>\n    <tr>\n      <th>23</th>\n      <td>2020</td>\n      <td>2</td>\n      <td>16</td>\n      <td>6</td>\n      <td>2</td>\n      <td>0</td>\n      <td>0</td>\n    </tr>\n    <tr>\n      <th>26</th>\n      <td>2020</td>\n      <td>2</td>\n      <td>22</td>\n      <td>6</td>\n      <td>2</td>\n      <td>0</td>\n      <td>0</td>\n    </tr>\n    <tr>\n      <th>27</th>\n      <td>2020</td>\n      <td>2</td>\n      <td>25</td>\n      <td>4</td>\n      <td>1</td>\n      <td>1</td>\n      <td>0</td>\n    </tr>\n    <tr>\n      <th>29</th>\n      <td>2020</td>\n      <td>2</td>\n      <td>35</td>\n      <td>4</td>\n      <td>1</td>\n      <td>1</td>\n      <td>0</td>\n    </tr>\n    <tr>\n      <th>31</th>\n      <td>2020</td>\n      <td>2</td>\n      <td>290</td>\n      <td>4</td>\n      <td>1</td>\n      <td>1</td>\n      <td>0</td>\n    </tr>\n    <tr>\n      <th>19</th>\n      <td>2020</td>\n      <td>2</td>\n      <td>3</td>\n      <td>3</td>\n      <td>1</td>\n      <td>0</td>\n      <td>1</td>\n    </tr>\n    <tr>\n      <th>21</th>\n      <td>2020</td>\n      <td>2</td>\n      <td>12</td>\n      <td>3</td>\n      <td>1</td>\n      <td>0</td>\n      <td>1</td>\n    </tr>\n    <tr>\n      <th>25</th>\n      <td>2020</td>\n      <td>2</td>\n      <td>19</td>\n      <td>3</td>\n      <td>1</td>\n      <td>0</td>\n      <td>1</td>\n    </tr>\n    <tr>\n      <th>32</th>\n      <td>2020</td>\n      <td>2</td>\n      <td>373</td>\n      <td>3</td>\n      <td>1</td>\n      <td>0</td>\n      <td>1</td>\n    </tr>\n    <tr>\n      <th>34</th>\n      <td>2020</td>\n      <td>2</td>\n      <td>4068</td>\n      <td>3</td>\n      <td>1</td>\n      <td>0</td>\n      <td>1</td>\n    </tr>\n    <tr>\n      <th>24</th>\n      <td>2020</td>\n      <td>2</td>\n      <td>18</td>\n      <td>2</td>\n      <td>0</td>\n      <td>2</td>\n      <td>0</td>\n    </tr>\n  </tbody>\n</table>\n</div>"
     },
     "execution_count": 705,
     "metadata": {},
     "output_type": "execute_result"
    }
   ],
   "source": [
    "# het totaal aantal gewonnen matchen per seizoen en per ploeg\n",
    "points_df = standings_df.groupby(['seizoen','speeldag','id_ploeg', 'punten'])[['aantal_gewonnen','aantal_gelijk','aantal_verloren']].sum()\n",
    "points_df = points_df.reset_index()\n",
    "points_df = points_df.sort_values(['seizoen','speeldag','aantal_gewonnen','aantal_gelijk','aantal_verloren'], ascending = [True, True, False, False, False])\n",
    "points_df.head(30)"
   ],
   "metadata": {
    "collapsed": false,
    "ExecuteTime": {
     "end_time": "2024-03-14T11:36:32.429430900Z",
     "start_time": "2024-03-14T11:36:32.387693900Z"
    }
   }
  },
  {
   "cell_type": "code",
   "execution_count": 706,
   "outputs": [
    {
     "data": {
      "text/plain": "Empty DataFrame\nColumns: [seizoen, speeldag, id_ploeg, punten, aantal_gewonnen, aantal_gelijk, aantal_verloren, punten_check]\nIndex: []",
      "text/html": "<div>\n<style scoped>\n    .dataframe tbody tr th:only-of-type {\n        vertical-align: middle;\n    }\n\n    .dataframe tbody tr th {\n        vertical-align: top;\n    }\n\n    .dataframe thead th {\n        text-align: right;\n    }\n</style>\n<table border=\"1\" class=\"dataframe\">\n  <thead>\n    <tr style=\"text-align: right;\">\n      <th></th>\n      <th>seizoen</th>\n      <th>speeldag</th>\n      <th>id_ploeg</th>\n      <th>punten</th>\n      <th>aantal_gewonnen</th>\n      <th>aantal_gelijk</th>\n      <th>aantal_verloren</th>\n      <th>punten_check</th>\n    </tr>\n  </thead>\n  <tbody>\n  </tbody>\n</table>\n</div>"
     },
     "execution_count": 706,
     "metadata": {},
     "output_type": "execute_result"
    }
   ],
   "source": [
    "points_df['punten_check'] = points_df['aantal_gewonnen'] * 3 + points_df['aantal_gelijk'] + points_df['aantal_verloren'] * 0\n",
    "discrepancies_df = points_df[points_df['punten'] != points_df['punten_check']]\n",
    "discrepancies_df.head(30)"
   ],
   "metadata": {
    "collapsed": false,
    "ExecuteTime": {
     "end_time": "2024-03-14T11:36:32.429430900Z",
     "start_time": "2024-03-14T11:36:32.398611500Z"
    }
   }
  },
  {
   "cell_type": "code",
   "execution_count": 707,
   "outputs": [
    {
     "data": {
      "text/plain": "Empty DataFrame\nColumns: [seizoen_goal, dag, datum_goal, tijd_goal, id_match, thuisploeg_stamnummer_goal, thuisploeg_goal, uitploeg_goal, uitploeg_stamnummer_goal, goal_time, goal_team_naam, goal_team_stamnummer, stand_thuis, stand_uit, valid_goal, seizoen_match, speeldag, datum_match, tijd_match, thuisploeg_stamnummer_match, thuisploeg_match, uitploeg_stamnummer_match, uitploeg_match, doelpunten_thuisploeg, doelpunten_uitploeg, same_as_previous_match]\nIndex: []\n\n[0 rows x 26 columns]",
      "text/html": "<div>\n<style scoped>\n    .dataframe tbody tr th:only-of-type {\n        vertical-align: middle;\n    }\n\n    .dataframe tbody tr th {\n        vertical-align: top;\n    }\n\n    .dataframe thead th {\n        text-align: right;\n    }\n</style>\n<table border=\"1\" class=\"dataframe\">\n  <thead>\n    <tr style=\"text-align: right;\">\n      <th></th>\n      <th>seizoen_goal</th>\n      <th>dag</th>\n      <th>datum_goal</th>\n      <th>tijd_goal</th>\n      <th>id_match</th>\n      <th>thuisploeg_stamnummer_goal</th>\n      <th>thuisploeg_goal</th>\n      <th>uitploeg_goal</th>\n      <th>uitploeg_stamnummer_goal</th>\n      <th>goal_time</th>\n      <th>...</th>\n      <th>speeldag</th>\n      <th>datum_match</th>\n      <th>tijd_match</th>\n      <th>thuisploeg_stamnummer_match</th>\n      <th>thuisploeg_match</th>\n      <th>uitploeg_stamnummer_match</th>\n      <th>uitploeg_match</th>\n      <th>doelpunten_thuisploeg</th>\n      <th>doelpunten_uitploeg</th>\n      <th>same_as_previous_match</th>\n    </tr>\n  </thead>\n  <tbody>\n  </tbody>\n</table>\n<p>0 rows × 26 columns</p>\n</div>"
     },
     "execution_count": 707,
     "metadata": {},
     "output_type": "execute_result"
    }
   ],
   "source": [
    "match_results_df['datum'] = pd.to_datetime(match_results_df['datum'])\n",
    "goal_events_df['datum'] = pd.to_datetime(goal_events_df['datum'])\n",
    "\n",
    "merged_df = pd.merge(goal_events_df, match_results_df, on='id_match', suffixes=('_goal', '_match'))\n",
    "\n",
    "# Check for discrepancies in dates\n",
    "date_discrepancies_df = merged_df[merged_df['datum_goal'] != merged_df['datum_match']]\n",
    "date_discrepancies_df.head(30)"
   ],
   "metadata": {
    "collapsed": false,
    "ExecuteTime": {
     "end_time": "2024-03-14T11:36:32.430460800Z",
     "start_time": "2024-03-14T11:36:32.405067Z"
    }
   }
  },
  {
   "cell_type": "code",
   "execution_count": 708,
   "outputs": [
    {
     "data": {
      "text/plain": "Series([], Name: datum, dtype: bool)"
     },
     "execution_count": 708,
     "metadata": {},
     "output_type": "execute_result"
    }
   ],
   "source": [
    "# Groepeer de gegevens op 'Day' en controleer de datums\n",
    "sorted_dates = match_results_df.sort_values(by=['speeldag', 'datum'])\n",
    "date_discrepancies_df = sorted_dates.groupby('speeldag')['datum'].apply(lambda x: x.is_monotonic_increasing)\n",
    "\n",
    "date_discrepancies_df = date_discrepancies_df[date_discrepancies_df == False]\n",
    "date_discrepancies_df.head(30)\n"
   ],
   "metadata": {
    "collapsed": false,
    "ExecuteTime": {
     "end_time": "2024-03-14T11:36:32.431450300Z",
     "start_time": "2024-03-14T11:36:32.419224400Z"
    }
   }
  },
  {
   "cell_type": "code",
   "execution_count": 709,
   "outputs": [
    {
     "data": {
      "text/plain": "Series([], Name: datum, dtype: bool)"
     },
     "execution_count": 709,
     "metadata": {},
     "output_type": "execute_result"
    }
   ],
   "source": [
    "# Sorting the data by season, day, and date\n",
    "sorted_dates = match_results_df.sort_values(by=['seizoen', 'speeldag', 'datum'])\n",
    "\n",
    "# Group by 'season' and 'day', and check if dates are in chronological order within each group\n",
    "grouped = sorted_dates.groupby(['seizoen', 'speeldag'])\n",
    "date_order_check = grouped['datum'].apply(lambda x: x.is_monotonic_increasing)\n",
    "\n",
    "# Identifying seasons and days where dates are not in chronological order\n",
    "date_discrepancies = date_order_check[date_order_check == False]\n",
    "date_discrepancies.head(30)"
   ],
   "metadata": {
    "collapsed": false,
    "ExecuteTime": {
     "end_time": "2024-03-14T11:36:32.521954500Z",
     "start_time": "2024-03-14T11:36:32.428458100Z"
    }
   }
  },
  {
   "cell_type": "code",
   "execution_count": 710,
   "outputs": [
    {
     "data": {
      "text/plain": "Empty DataFrame\nColumns: [seizoen, dag, datum, tijd, id_match, thuisploeg_stamnummer, thuisploeg, uitploeg, uitploeg_stamnummer, goal_time, goal_team_naam, goal_team_stamnummer, stand_thuis, stand_uit, valid_goal]\nIndex: []",
      "text/html": "<div>\n<style scoped>\n    .dataframe tbody tr th:only-of-type {\n        vertical-align: middle;\n    }\n\n    .dataframe tbody tr th {\n        vertical-align: top;\n    }\n\n    .dataframe thead th {\n        text-align: right;\n    }\n</style>\n<table border=\"1\" class=\"dataframe\">\n  <thead>\n    <tr style=\"text-align: right;\">\n      <th></th>\n      <th>seizoen</th>\n      <th>dag</th>\n      <th>datum</th>\n      <th>tijd</th>\n      <th>id_match</th>\n      <th>thuisploeg_stamnummer</th>\n      <th>thuisploeg</th>\n      <th>uitploeg</th>\n      <th>uitploeg_stamnummer</th>\n      <th>goal_time</th>\n      <th>goal_team_naam</th>\n      <th>goal_team_stamnummer</th>\n      <th>stand_thuis</th>\n      <th>stand_uit</th>\n      <th>valid_goal</th>\n    </tr>\n  </thead>\n  <tbody>\n  </tbody>\n</table>\n</div>"
     },
     "execution_count": 710,
     "metadata": {},
     "output_type": "execute_result"
    }
   ],
   "source": [
    "# Filter matches that ended 0-0\n",
    "matches_0_0 = match_results_df[(match_results_df['doelpunten_thuisploeg'] == 0) & (match_results_df['doelpunten_uitploeg'] == 0)]\n",
    "\n",
    "# Get match_ids of 0-0 matches\n",
    "match_ids_0_0 = matches_0_0['id_match']\n",
    "\n",
    "# Check if these matches have any goals in goal_events.csv\n",
    "goals_in_0_0_matches = goal_events_df[goal_events_df['id_match'].isin(match_ids_0_0)]\n",
    "goals_in_0_0_matches.head(30)"
   ],
   "metadata": {
    "collapsed": false,
    "ExecuteTime": {
     "end_time": "2024-03-14T11:36:32.535987800Z",
     "start_time": "2024-03-14T11:36:32.438823100Z"
    }
   }
  },
  {
   "cell_type": "code",
   "execution_count": 711,
   "outputs": [
    {
     "data": {
      "text/plain": "    seizoen  speeldag  stand     naam_ploeg  id_ploeg  aantal_wedstrijden  \\\n59     2020         4      5  Zulte Waregem      5381                   4   \n\n    aantal_gewonnen  aantal_gelijk  aantal_verloren  doelpunten_voor  \\\n59                2              0                2                7   \n\n    doelpunten_tegen  verschil  punten  calculated_goal_verschil  \\\n59                 6         1       6                         1   \n\n    calculated_stand  \n59                 6  ",
      "text/html": "<div>\n<style scoped>\n    .dataframe tbody tr th:only-of-type {\n        vertical-align: middle;\n    }\n\n    .dataframe tbody tr th {\n        vertical-align: top;\n    }\n\n    .dataframe thead th {\n        text-align: right;\n    }\n</style>\n<table border=\"1\" class=\"dataframe\">\n  <thead>\n    <tr style=\"text-align: right;\">\n      <th></th>\n      <th>seizoen</th>\n      <th>speeldag</th>\n      <th>stand</th>\n      <th>naam_ploeg</th>\n      <th>id_ploeg</th>\n      <th>aantal_wedstrijden</th>\n      <th>aantal_gewonnen</th>\n      <th>aantal_gelijk</th>\n      <th>aantal_verloren</th>\n      <th>doelpunten_voor</th>\n      <th>doelpunten_tegen</th>\n      <th>verschil</th>\n      <th>punten</th>\n      <th>calculated_goal_verschil</th>\n      <th>calculated_stand</th>\n    </tr>\n  </thead>\n  <tbody>\n    <tr>\n      <th>59</th>\n      <td>2020</td>\n      <td>4</td>\n      <td>5</td>\n      <td>Zulte Waregem</td>\n      <td>5381</td>\n      <td>4</td>\n      <td>2</td>\n      <td>0</td>\n      <td>2</td>\n      <td>7</td>\n      <td>6</td>\n      <td>1</td>\n      <td>6</td>\n      <td>1</td>\n      <td>6</td>\n    </tr>\n  </tbody>\n</table>\n</div>"
     },
     "execution_count": 711,
     "metadata": {},
     "output_type": "execute_result"
    }
   ],
   "source": [
    "# Sorteer de DataFrame op basis van seizoen, speeldag, punten, aantal gewonnen wedstrijden, doelpuntenverschil en gemaakte doelpunten\n",
    "sorted_df = standings_df.sort_values(['seizoen', 'speeldag', 'punten', 'aantal_gewonnen', 'calculated_goal_verschil', 'doelpunten_voor'], ascending=[True, True, False, False, False, False])\n",
    "\n",
    "# Bereken de stand\n",
    "sorted_df['calculated_stand'] = sorted_df.groupby(['seizoen', 'speeldag']).cumcount() + 1\n",
    "\n",
    "# Pas de stand aan voor gelijke standen\n",
    "sorted_df['calculated_stand'] = sorted_df.groupby(['seizoen', 'speeldag', 'punten', 'aantal_gewonnen', 'calculated_goal_verschil', 'doelpunten_voor'])['calculated_stand'].transform('min')\n",
    "\n",
    "# Voeg de berekende stand toe aan de originele DataFrame\n",
    "standings_df = standings_df.merge(sorted_df[['seizoen', 'speeldag', 'id_ploeg', 'calculated_stand']], on=['seizoen', 'speeldag', 'id_ploeg'], how='left')\n",
    "\n",
    "# Controleer op discrepanties tussen de berekende en werkelijke stand\n",
    "discrepancies = standings_df[standings_df['stand'] != standings_df['calculated_stand']]\n",
    "discrepancies.head(30)\n"
   ],
   "metadata": {
    "collapsed": false,
    "ExecuteTime": {
     "end_time": "2024-03-14T11:36:32.537059300Z",
     "start_time": "2024-03-14T11:36:32.446739800Z"
    }
   }
  }
 ]
}
